{
 "cells": [
  {
   "cell_type": "code",
   "execution_count": 1,
   "metadata": {},
   "outputs": [],
   "source": [
    "import requests\n",
    "from bs4 import BeautifulSoup\n",
    "\n",
    "import datetime\n",
    "\n",
    "import pandas as pd"
   ]
  },
  {
   "cell_type": "code",
   "execution_count": 2,
   "metadata": {},
   "outputs": [],
   "source": [
    "#set user agent\n",
    "headers = {\"User-Agent\": \"Mozilla/5.0 (X11; Linux x86_64) AppleWebKit/537.36 (KHTML, like Gecko) Chrome/88.0.4324.96 Safari/537.36\"} "
   ]
  },
  {
   "cell_type": "code",
   "execution_count": 3,
   "metadata": {},
   "outputs": [],
   "source": [
    "WIRED = 'https://www.wired.it'\n",
    "SOLE24 = 'https://www.ilsole24ore.com/'\n",
    "ANSA = 'https://www.ansa.it'"
   ]
  },
  {
   "cell_type": "code",
   "execution_count": 4,
   "metadata": {},
   "outputs": [],
   "source": [
    "#get pages\n",
    "wired = requests.get(WIRED, headers=headers)\n",
    "#sole24 = requests.get(SOLE24, headers=headers)\n",
    "#ansa = requests.get(ANSA, headers=headers)"
   ]
  },
  {
   "cell_type": "code",
   "execution_count": 5,
   "metadata": {},
   "outputs": [],
   "source": [
    "# Parse the HTML content\n",
    "soup_wired = BeautifulSoup(wired.content, 'html.parser')\n",
    "#sole24_wired = BeautifulSoup(sole24.content, 'html.parser')\n",
    "#ansa_wired = BeautifulSoup(ansa.content, 'html.parser')"
   ]
  },
  {
   "cell_type": "code",
   "execution_count": 6,
   "metadata": {},
   "outputs": [],
   "source": [
    "# Crea una lista vuota che conterrà i dati estratti\n",
    "data = []\n",
    "\n",
    "# Seleziona l'elemento\n",
    "articles = soup_wired.select(\"div[class^='SummaryItemWrapper-gcQMOo hHjGOU']\")"
   ]
  },
  {
   "cell_type": "code",
   "execution_count": 7,
   "metadata": {},
   "outputs": [],
   "source": [
    "# Seleziona tutti gli elementi\n",
    "elements = soup_wired.select(\"div[class^='SummaryItemWrapper']\")\n",
    "\n",
    "# Itera su ogni elemento\n",
    "for i in range(len(articles)):\n",
    "    # Estrai il titolo\n",
    "    title = articles[i].select_one(\"h3[class^='SummaryItemHedBase-dZZTtv gyXvAJ summary-item__hed']\").text\n",
    "    # Estrai immagine\n",
    "    img = articles[i].select_one(\"img\")['src']\n",
    "    # Estrai il link\n",
    "    link = articles[i].select_one(\"a[class='SummaryItemHedLink-cgaOJy cZNgnb summary-item-tracking__hed-link summary-item__hed-link']\")['href']\n",
    "\n",
    "    # Aggiungi i dati estratti alla lista\n",
    "    data.append({\n",
    "        'title': title,\n",
    "        'image': img,\n",
    "        'link': 'https://www.wired.it' + link\n",
    "    })\n",
    "\n",
    "# Crea un DataFrame Pandas a partire dalla lista di dati\n",
    "df = pd.DataFrame(data)"
   ]
  },
  {
   "cell_type": "code",
   "execution_count": 8,
   "metadata": {},
   "outputs": [],
   "source": [
    "sole24 = requests.get(SOLE24, headers=headers)\n",
    "soup_sole24 = BeautifulSoup(sole24.content, 'html.parser')"
   ]
  },
  {
   "cell_type": "code",
   "execution_count": 9,
   "metadata": {},
   "outputs": [],
   "source": [
    "# Seleziona l'elemento\n",
    "articles = soup_sole24.select(\"div[class^='col-']\")"
   ]
  },
  {
   "cell_type": "code",
   "execution_count": 10,
   "metadata": {},
   "outputs": [],
   "source": [
    "data_sole = []"
   ]
  },
  {
   "cell_type": "code",
   "execution_count": 11,
   "metadata": {},
   "outputs": [],
   "source": [
    "# Itera su ogni elemento\n",
    "for i in range(len(articles)-1):\n",
    "    # Estrai il titolo\n",
    "    title = articles[i].select_one(\"h3\").select_one(\"a\").text\n",
    "\n",
    "    # Estrai il link\n",
    "    link = articles[i].select_one('h3').select_one('a')['href']\n",
    "\n",
    "    # Aggiungi i dati estratti alla lista\n",
    "    data_sole.append({\n",
    "        'title': title,\n",
    "        'image': 'https://www.ilsole24ore.com/static/img/ilsole24ore-o-2021.svg',\n",
    "        'link': 'https://www.ilsole24ore.com' + link\n",
    "    })\n",
    "\n",
    "# Crea un DataFrame Pandas a partire dalla lista di dati\n",
    "df_2 = pd.DataFrame(data_sole)"
   ]
  },
  {
   "cell_type": "code",
   "execution_count": 12,
   "metadata": {},
   "outputs": [],
   "source": [
    "ansa = requests.get(ANSA, headers=headers)\n",
    "soup_ansa = BeautifulSoup(ansa.content, 'html.parser')"
   ]
  },
  {
   "cell_type": "code",
   "execution_count": 13,
   "metadata": {},
   "outputs": [],
   "source": [
    "# Seleziona l'elemento\n",
    "articles = soup_ansa.select(\"article[class^='news']\")\n",
    "\n",
    "# Crea una lista vuota che conterrà i dati estratti\n",
    "data_ansa = []\n",
    "\n",
    "# Itera su ogni elemento\n",
    "for i in range(12):\n",
    "    # Estrai il titolo\n",
    "    title = articles[i].select_one(\"h3[class^='news-title area-primopiano']\").text\n",
    "\n",
    "    #estrai immagine\n",
    "    img = articles[i].select_one(\"h3[class^='news-title area-primopiano']\")['hp-img']\n",
    "\n",
    "    # Estrai il link\n",
    "    link = articles[i].select_one('h3').select_one('a')['href']\n",
    "\n",
    "    # Aggiungi i dati estratti alla lista\n",
    "    data_ansa.append({\n",
    "        'title': title,\n",
    "        'image': 'https://www.ansa.it' + img,\n",
    "        'link': 'https://www.ansa.it' + link\n",
    "    })\n",
    "\n",
    "# Crea un DataFrame Pandas a partire dalla lista di dati\n",
    "df_3 = pd.DataFrame(data_ansa)"
   ]
  },
  {
   "cell_type": "code",
   "execution_count": 14,
   "metadata": {},
   "outputs": [],
   "source": [
    "STAMPA = 'https://www.lastampa.it'\n",
    "page_stampa = requests.get(STAMPA, headers=headers)\n",
    "\n",
    "# Parse the HTML content\n",
    "soup_stampa = BeautifulSoup(page_stampa.content, 'html.parser')\n",
    "\n",
    "# Seleziona l'elemento\n",
    "articles = soup_stampa.select(\"article[class^='entry default']\")"
   ]
  },
  {
   "cell_type": "code",
   "execution_count": 15,
   "metadata": {},
   "outputs": [],
   "source": [
    "# Crea una lista vuota che conterrà i dati estratti\n",
    "data_stampa = []\n",
    "\n",
    "# Itera su ogni elemento\n",
    "for i in range(10):\n",
    "    # Estrai il titolo\n",
    "    title = articles[i].select_one('h2').text.strip()\n",
    "\n",
    "    # Estrai il link\n",
    "    link = articles[i].select_one('a')['href']\n",
    "\n",
    "    #estrai immagine\n",
    "    try:\n",
    "       img = articles[i].select_one(\"source\")['data-srcset']\n",
    "    except:\n",
    "        pass\n",
    "\n",
    "    # Aggiungi i dati estratti alla lista\n",
    "    data_stampa.append({\n",
    "        'title': title,\n",
    "        'image': img,\n",
    "        'link': link\n",
    "    })\n",
    "\n",
    "# Crea un DataFrame Pandas a partire dalla lista di dati\n",
    "df_4 = pd.DataFrame(data_stampa)"
   ]
  },
  {
   "cell_type": "code",
   "execution_count": 16,
   "metadata": {},
   "outputs": [],
   "source": [
    "daily_news = pd.concat([df, df_2, df_3, df_4])"
   ]
  },
  {
   "cell_type": "code",
   "execution_count": 17,
   "metadata": {},
   "outputs": [],
   "source": [
    "daily_news = daily_news.reset_index(drop=True)"
   ]
  },
  {
   "cell_type": "code",
   "execution_count": 18,
   "metadata": {},
   "outputs": [],
   "source": [
    "daily_news['date'] = datetime.datetime.today().strftime(\"%Y-%m-%d\")"
   ]
  },
  {
   "cell_type": "code",
   "execution_count": 19,
   "metadata": {},
   "outputs": [],
   "source": [
    "daily_news.set_index('date', inplace=True)"
   ]
  },
  {
   "cell_type": "code",
   "execution_count": 20,
   "metadata": {},
   "outputs": [
    {
     "data": {
      "text/html": [
       "<div>\n",
       "<style scoped>\n",
       "    .dataframe tbody tr th:only-of-type {\n",
       "        vertical-align: middle;\n",
       "    }\n",
       "\n",
       "    .dataframe tbody tr th {\n",
       "        vertical-align: top;\n",
       "    }\n",
       "\n",
       "    .dataframe thead th {\n",
       "        text-align: right;\n",
       "    }\n",
       "</style>\n",
       "<table border=\"1\" class=\"dataframe\">\n",
       "  <thead>\n",
       "    <tr style=\"text-align: right;\">\n",
       "      <th></th>\n",
       "      <th>title</th>\n",
       "      <th>image</th>\n",
       "      <th>link</th>\n",
       "    </tr>\n",
       "    <tr>\n",
       "      <th>date</th>\n",
       "      <th></th>\n",
       "      <th></th>\n",
       "      <th></th>\n",
       "    </tr>\n",
       "  </thead>\n",
       "  <tbody>\n",
       "    <tr>\n",
       "      <th>2023-01-04</th>\n",
       "      <td>Calderoli: “Non spacchiamo l’Italia, tutta la ...</td>\n",
       "      <td>https://www.gedistatic.it/content/gnn/img/last...</td>\n",
       "      <td>https://www.lastampa.it/politica/2023/01/04/ne...</td>\n",
       "    </tr>\n",
       "    <tr>\n",
       "      <th>2023-01-04</th>\n",
       "      <td>Quegli eco-guerrieri che lo Stato vuole in car...</td>\n",
       "      <td>https://www.gedistatic.it/content/gnn/img/last...</td>\n",
       "      <td>https://www.lastampa.it/editoriali/lettere-e-i...</td>\n",
       "    </tr>\n",
       "    <tr>\n",
       "      <th>2023-01-04</th>\n",
       "      <td>Le democrazie “resilienti” e l’anno zero delle...</td>\n",
       "      <td>https://www.gedistatic.it/content/gnn/img/last...</td>\n",
       "      <td>https://www.lastampa.it/editoriali/l-editorial...</td>\n",
       "    </tr>\n",
       "    <tr>\n",
       "      <th>2023-01-04</th>\n",
       "      <td>Romeo e Giulietta, i protagonisti del film di ...</td>\n",
       "      <td>https://www.gedistatic.it/content/gnn/img/last...</td>\n",
       "      <td>https://www.lastampa.it/spettacoli/cinema/2023...</td>\n",
       "    </tr>\n",
       "    <tr>\n",
       "      <th>2023-01-04</th>\n",
       "      <td>A Termini tra risse e degrado: “Il pulsante an...</td>\n",
       "      <td>https://www.gedistatic.it/content/gnn/img/last...</td>\n",
       "      <td>https://www.lastampa.it/cronaca/2023/01/04/new...</td>\n",
       "    </tr>\n",
       "  </tbody>\n",
       "</table>\n",
       "</div>"
      ],
      "text/plain": [
       "                                                        title  \\\n",
       "date                                                            \n",
       "2023-01-04  Calderoli: “Non spacchiamo l’Italia, tutta la ...   \n",
       "2023-01-04  Quegli eco-guerrieri che lo Stato vuole in car...   \n",
       "2023-01-04  Le democrazie “resilienti” e l’anno zero delle...   \n",
       "2023-01-04  Romeo e Giulietta, i protagonisti del film di ...   \n",
       "2023-01-04  A Termini tra risse e degrado: “Il pulsante an...   \n",
       "\n",
       "                                                        image  \\\n",
       "date                                                            \n",
       "2023-01-04  https://www.gedistatic.it/content/gnn/img/last...   \n",
       "2023-01-04  https://www.gedistatic.it/content/gnn/img/last...   \n",
       "2023-01-04  https://www.gedistatic.it/content/gnn/img/last...   \n",
       "2023-01-04  https://www.gedistatic.it/content/gnn/img/last...   \n",
       "2023-01-04  https://www.gedistatic.it/content/gnn/img/last...   \n",
       "\n",
       "                                                         link  \n",
       "date                                                           \n",
       "2023-01-04  https://www.lastampa.it/politica/2023/01/04/ne...  \n",
       "2023-01-04  https://www.lastampa.it/editoriali/lettere-e-i...  \n",
       "2023-01-04  https://www.lastampa.it/editoriali/l-editorial...  \n",
       "2023-01-04  https://www.lastampa.it/spettacoli/cinema/2023...  \n",
       "2023-01-04  https://www.lastampa.it/cronaca/2023/01/04/new...  "
      ]
     },
     "execution_count": 20,
     "metadata": {},
     "output_type": "execute_result"
    }
   ],
   "source": [
    "daily_news.tail()"
   ]
  },
  {
   "cell_type": "code",
   "execution_count": 21,
   "metadata": {},
   "outputs": [],
   "source": [
    "daily_news.to_csv('../data/daily_news.csv', mode='a', header=False)"
   ]
  }
 ],
 "metadata": {
  "kernelspec": {
   "display_name": "mlp",
   "language": "python",
   "name": "python3"
  },
  "language_info": {
   "codemirror_mode": {
    "name": "ipython",
    "version": 3
   },
   "file_extension": ".py",
   "mimetype": "text/x-python",
   "name": "python",
   "nbconvert_exporter": "python",
   "pygments_lexer": "ipython3",
   "version": "3.8.15 | packaged by conda-forge | (default, Nov 22 2022, 08:52:09) \n[Clang 14.0.6 ]"
  },
  "orig_nbformat": 4,
  "vscode": {
   "interpreter": {
    "hash": "95fe2f621b02c291269f6f1de04399c71d5624912c164c733c30837729478179"
   }
  }
 },
 "nbformat": 4,
 "nbformat_minor": 2
}
