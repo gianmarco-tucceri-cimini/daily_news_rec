{
 "cells": [
  {
   "cell_type": "code",
   "execution_count": 1,
   "metadata": {},
   "outputs": [],
   "source": [
    "import pandas as pd\n",
    "\n",
    "from datetime import datetime"
   ]
  },
  {
   "cell_type": "code",
   "execution_count": 2,
   "metadata": {},
   "outputs": [],
   "source": [
    "# Caricamento dei dataframe\n",
    "df_articles = pd.read_csv('../data/daily_news.csv')\n",
    "df_likes = pd.read_csv('../data/interactions.csv')"
   ]
  },
  {
   "cell_type": "code",
   "execution_count": 3,
   "metadata": {},
   "outputs": [],
   "source": [
    "# Conteggio del numero di interazioni per ogni articolo\n",
    "likes = df_articles.groupby('link')['likes'].count()"
   ]
  },
  {
   "cell_type": "code",
   "execution_count": 4,
   "metadata": {},
   "outputs": [],
   "source": [
    "likes = df_articles['link'].to_frame().merge(likes, on='link')"
   ]
  },
  {
   "cell_type": "code",
   "execution_count": 5,
   "metadata": {},
   "outputs": [],
   "source": [
    "df_articles['likes'] = df_articles['likes'].fillna(0)"
   ]
  },
  {
   "cell_type": "code",
   "execution_count": 6,
   "metadata": {},
   "outputs": [
    {
     "data": {
      "text/plain": [
       "0"
      ]
     },
     "execution_count": 6,
     "metadata": {},
     "output_type": "execute_result"
    }
   ],
   "source": [
    "df_articles['likes'].isnull().sum()"
   ]
  },
  {
   "cell_type": "code",
   "execution_count": 7,
   "metadata": {},
   "outputs": [],
   "source": [
    "# Aggiornamento del dataframe con il numero di interazioni per ogni articolo\n",
    "df_articles['likes'] = likes['likes']"
   ]
  },
  {
   "cell_type": "code",
   "execution_count": 8,
   "metadata": {},
   "outputs": [
    {
     "name": "stdout",
     "output_type": "stream",
     "text": [
      "126\n"
     ]
    },
    {
     "data": {
      "text/html": [
       "<div>\n",
       "<style scoped>\n",
       "    .dataframe tbody tr th:only-of-type {\n",
       "        vertical-align: middle;\n",
       "    }\n",
       "\n",
       "    .dataframe tbody tr th {\n",
       "        vertical-align: top;\n",
       "    }\n",
       "\n",
       "    .dataframe thead th {\n",
       "        text-align: right;\n",
       "    }\n",
       "</style>\n",
       "<table border=\"1\" class=\"dataframe\">\n",
       "  <thead>\n",
       "    <tr style=\"text-align: right;\">\n",
       "      <th></th>\n",
       "      <th>date</th>\n",
       "      <th>title</th>\n",
       "      <th>image</th>\n",
       "      <th>link</th>\n",
       "      <th>text</th>\n",
       "      <th>summary</th>\n",
       "      <th>likes</th>\n",
       "      <th>timestamp</th>\n",
       "      <th>user_id</th>\n",
       "      <th>ip_address</th>\n",
       "    </tr>\n",
       "  </thead>\n",
       "  <tbody>\n",
       "    <tr>\n",
       "      <th>0</th>\n",
       "      <td>2023-01-07</td>\n",
       "      <td>Covid, cosa è Kraken, la nuova variante super-...</td>\n",
       "      <td>https://www.ilsole24ore.com/static/img/ilsole2...</td>\n",
       "      <td>https://www.ilsole24ore.com/art/cosa-e-kraken-...</td>\n",
       "      <td>I punti chiaveSei le versioni sotto la lenteSo...</td>\n",
       "      <td>NaN</td>\n",
       "      <td>3</td>\n",
       "      <td>2023-01-06 11:08:00</td>\n",
       "      <td>4fe596684dbd4518350ef949587308b0ce77ca47309529...</td>\n",
       "      <td>10.0.0.75</td>\n",
       "    </tr>\n",
       "    <tr>\n",
       "      <th>1</th>\n",
       "      <td>2023-01-07</td>\n",
       "      <td>Covid, cosa è Kraken, la nuova variante super-...</td>\n",
       "      <td>https://www.ilsole24ore.com/static/img/ilsole2...</td>\n",
       "      <td>https://www.ilsole24ore.com/art/cosa-e-kraken-...</td>\n",
       "      <td>I punti chiaveSei le versioni sotto la lenteSo...</td>\n",
       "      <td>NaN</td>\n",
       "      <td>2</td>\n",
       "      <td>2023-01-06 11:08:00</td>\n",
       "      <td>4fe596684dbd4518350ef949587308b0ce77ca47309529...</td>\n",
       "      <td>10.0.0.75</td>\n",
       "    </tr>\n",
       "    <tr>\n",
       "      <th>2</th>\n",
       "      <td>2023-01-07</td>\n",
       "      <td>Sicurezza stradale, Polstrada: 1.489 morti in ...</td>\n",
       "      <td>https://www.ilsole24ore.com/static/img/ilsole2...</td>\n",
       "      <td>https://www.ilsole24ore.com/art/sicurezza-stra...</td>\n",
       "      <td>I punti chiaveAumentano del 106 le persone fer...</td>\n",
       "      <td>NaN</td>\n",
       "      <td>2</td>\n",
       "      <td>2023-01-07 23:38:32</td>\n",
       "      <td>4ea54b2e2999e703c15fbd7e2712467eccec291010fc47...</td>\n",
       "      <td>10.0.0.75</td>\n",
       "    </tr>\n",
       "    <tr>\n",
       "      <th>3</th>\n",
       "      <td>2023-01-07</td>\n",
       "      <td>Sicurezza stradale, Polstrada: 1.489 morti in ...</td>\n",
       "      <td>https://www.ilsole24ore.com/static/img/ilsole2...</td>\n",
       "      <td>https://www.ilsole24ore.com/art/sicurezza-stra...</td>\n",
       "      <td>I punti chiaveAumentano del 106 le persone fer...</td>\n",
       "      <td>NaN</td>\n",
       "      <td>4</td>\n",
       "      <td>2023-01-07 23:38:32</td>\n",
       "      <td>4ea54b2e2999e703c15fbd7e2712467eccec291010fc47...</td>\n",
       "      <td>10.0.0.75</td>\n",
       "    </tr>\n",
       "    <tr>\n",
       "      <th>4</th>\n",
       "      <td>2023-01-07</td>\n",
       "      <td>Multe, entro il 31 gennaio la decisione dei co...</td>\n",
       "      <td>https://www.ilsole24ore.com/static/img/ilsole2...</td>\n",
       "      <td>https://www.ilsole24ore.com/art/multe-entro-31...</td>\n",
       "      <td>I punti chiaveStralcio possibile entro il 31 g...</td>\n",
       "      <td>NaN</td>\n",
       "      <td>2</td>\n",
       "      <td>2023-01-07 09:50:03</td>\n",
       "      <td>4ea54b2e2999e703c15fbd7e2712467eccec291010fc47...</td>\n",
       "      <td>10.0.0.75</td>\n",
       "    </tr>\n",
       "  </tbody>\n",
       "</table>\n",
       "</div>"
      ],
      "text/plain": [
       "         date                                              title  \\\n",
       "0  2023-01-07  Covid, cosa è Kraken, la nuova variante super-...   \n",
       "1  2023-01-07  Covid, cosa è Kraken, la nuova variante super-...   \n",
       "2  2023-01-07  Sicurezza stradale, Polstrada: 1.489 morti in ...   \n",
       "3  2023-01-07  Sicurezza stradale, Polstrada: 1.489 morti in ...   \n",
       "4  2023-01-07  Multe, entro il 31 gennaio la decisione dei co...   \n",
       "\n",
       "                                               image  \\\n",
       "0  https://www.ilsole24ore.com/static/img/ilsole2...   \n",
       "1  https://www.ilsole24ore.com/static/img/ilsole2...   \n",
       "2  https://www.ilsole24ore.com/static/img/ilsole2...   \n",
       "3  https://www.ilsole24ore.com/static/img/ilsole2...   \n",
       "4  https://www.ilsole24ore.com/static/img/ilsole2...   \n",
       "\n",
       "                                                link  \\\n",
       "0  https://www.ilsole24ore.com/art/cosa-e-kraken-...   \n",
       "1  https://www.ilsole24ore.com/art/cosa-e-kraken-...   \n",
       "2  https://www.ilsole24ore.com/art/sicurezza-stra...   \n",
       "3  https://www.ilsole24ore.com/art/sicurezza-stra...   \n",
       "4  https://www.ilsole24ore.com/art/multe-entro-31...   \n",
       "\n",
       "                                                text summary  likes  \\\n",
       "0  I punti chiaveSei le versioni sotto la lenteSo...     NaN      3   \n",
       "1  I punti chiaveSei le versioni sotto la lenteSo...     NaN      2   \n",
       "2  I punti chiaveAumentano del 106 le persone fer...     NaN      2   \n",
       "3  I punti chiaveAumentano del 106 le persone fer...     NaN      4   \n",
       "4  I punti chiaveStralcio possibile entro il 31 g...     NaN      2   \n",
       "\n",
       "             timestamp                                            user_id  \\\n",
       "0  2023-01-06 11:08:00  4fe596684dbd4518350ef949587308b0ce77ca47309529...   \n",
       "1  2023-01-06 11:08:00  4fe596684dbd4518350ef949587308b0ce77ca47309529...   \n",
       "2  2023-01-07 23:38:32  4ea54b2e2999e703c15fbd7e2712467eccec291010fc47...   \n",
       "3  2023-01-07 23:38:32  4ea54b2e2999e703c15fbd7e2712467eccec291010fc47...   \n",
       "4  2023-01-07 09:50:03  4ea54b2e2999e703c15fbd7e2712467eccec291010fc47...   \n",
       "\n",
       "  ip_address  \n",
       "0  10.0.0.75  \n",
       "1  10.0.0.75  \n",
       "2  10.0.0.75  \n",
       "3  10.0.0.75  \n",
       "4  10.0.0.75  "
      ]
     },
     "execution_count": 8,
     "metadata": {},
     "output_type": "execute_result"
    }
   ],
   "source": [
    "# Unione dei due dataframe sulla colonna 'id'\n",
    "df = pd.merge(df_articles, df_likes, on='link')\n",
    "print(len(df))\n",
    "df.head()"
   ]
  },
  {
   "cell_type": "code",
   "execution_count": 9,
   "metadata": {},
   "outputs": [
    {
     "data": {
      "text/html": [
       "<div>\n",
       "<style scoped>\n",
       "    .dataframe tbody tr th:only-of-type {\n",
       "        vertical-align: middle;\n",
       "    }\n",
       "\n",
       "    .dataframe tbody tr th {\n",
       "        vertical-align: top;\n",
       "    }\n",
       "\n",
       "    .dataframe thead th {\n",
       "        text-align: right;\n",
       "    }\n",
       "</style>\n",
       "<table border=\"1\" class=\"dataframe\">\n",
       "  <thead>\n",
       "    <tr style=\"text-align: right;\">\n",
       "      <th>user_id</th>\n",
       "      <th>18efbcda4e36b1114f95e51b8ccd83c1fb170b3d119792d3ccb37027e6857532</th>\n",
       "      <th>4ea54b2e2999e703c15fbd7e2712467eccec291010fc4735be00c4198b3232a6</th>\n",
       "      <th>4fe596684dbd4518350ef949587308b0ce77ca473095295c4138a287ff9fdf57</th>\n",
       "    </tr>\n",
       "    <tr>\n",
       "      <th>link</th>\n",
       "      <th></th>\n",
       "      <th></th>\n",
       "      <th></th>\n",
       "    </tr>\n",
       "  </thead>\n",
       "  <tbody>\n",
       "    <tr>\n",
       "      <th>https://forbes.it/2021/04/22/convenienti-ma-di-qualita-come-rendere-le-energie-rinnovabili-accessibili-a-tutti/</th>\n",
       "      <td>0.0</td>\n",
       "      <td>1.0</td>\n",
       "      <td>0.0</td>\n",
       "    </tr>\n",
       "    <tr>\n",
       "      <th>https://forbes.it/2022/10/17/arte-sport-innovazione-non-perderti-le-novita/</th>\n",
       "      <td>0.0</td>\n",
       "      <td>1.0</td>\n",
       "      <td>0.0</td>\n",
       "    </tr>\n",
       "    <tr>\n",
       "      <th>https://forbes.it/2022/10/18/top-100-manager-2022/</th>\n",
       "      <td>0.0</td>\n",
       "      <td>1.5</td>\n",
       "      <td>0.0</td>\n",
       "    </tr>\n",
       "    <tr>\n",
       "      <th>https://forbes.it/2023/01/02/da-stripe-a-spacex-le-ipo-tech-piu-attese-a-wall-street-nel-2023/</th>\n",
       "      <td>0.0</td>\n",
       "      <td>1.0</td>\n",
       "      <td>0.0</td>\n",
       "    </tr>\n",
       "    <tr>\n",
       "      <th>https://forbes.it/2023/01/03/spacex-raccoglie-750-milioni-di-dollari-di-nuovi-finanziamenti-ora-vale-137-miliardi-di-dollari/</th>\n",
       "      <td>1.0</td>\n",
       "      <td>1.0</td>\n",
       "      <td>0.0</td>\n",
       "    </tr>\n",
       "  </tbody>\n",
       "</table>\n",
       "</div>"
      ],
      "text/plain": [
       "user_id                                             18efbcda4e36b1114f95e51b8ccd83c1fb170b3d119792d3ccb37027e6857532  \\\n",
       "link                                                                                                                   \n",
       "https://forbes.it/2021/04/22/convenienti-ma-di-...                                                0.0                  \n",
       "https://forbes.it/2022/10/17/arte-sport-innovaz...                                                0.0                  \n",
       "https://forbes.it/2022/10/18/top-100-manager-2022/                                                0.0                  \n",
       "https://forbes.it/2023/01/02/da-stripe-a-spacex...                                                0.0                  \n",
       "https://forbes.it/2023/01/03/spacex-raccoglie-7...                                                1.0                  \n",
       "\n",
       "user_id                                             4ea54b2e2999e703c15fbd7e2712467eccec291010fc4735be00c4198b3232a6  \\\n",
       "link                                                                                                                   \n",
       "https://forbes.it/2021/04/22/convenienti-ma-di-...                                                1.0                  \n",
       "https://forbes.it/2022/10/17/arte-sport-innovaz...                                                1.0                  \n",
       "https://forbes.it/2022/10/18/top-100-manager-2022/                                                1.5                  \n",
       "https://forbes.it/2023/01/02/da-stripe-a-spacex...                                                1.0                  \n",
       "https://forbes.it/2023/01/03/spacex-raccoglie-7...                                                1.0                  \n",
       "\n",
       "user_id                                             4fe596684dbd4518350ef949587308b0ce77ca473095295c4138a287ff9fdf57  \n",
       "link                                                                                                                  \n",
       "https://forbes.it/2021/04/22/convenienti-ma-di-...                                                0.0                 \n",
       "https://forbes.it/2022/10/17/arte-sport-innovaz...                                                0.0                 \n",
       "https://forbes.it/2022/10/18/top-100-manager-2022/                                                0.0                 \n",
       "https://forbes.it/2023/01/02/da-stripe-a-spacex...                                                0.0                 \n",
       "https://forbes.it/2023/01/03/spacex-raccoglie-7...                                                0.0                 "
      ]
     },
     "execution_count": 9,
     "metadata": {},
     "output_type": "execute_result"
    }
   ],
   "source": [
    "# Creazione della matrice di utilizzo degli articoli\n",
    "co_occurrence = df.pivot_table(index='link', columns='user_id', values='likes', fill_value=0)\n",
    "co_occurrence.head()"
   ]
  },
  {
   "cell_type": "code",
   "execution_count": 11,
   "metadata": {},
   "outputs": [],
   "source": [
    "from sklearn.neighbors import NearestNeighbors\n",
    "knn = NearestNeighbors(metric='cosine', algorithm='brute')\n",
    "knn.fit(co_occurrence.values)\n",
    "distances, indices = knn.kneighbors(co_occurrence.values, n_neighbors=3)"
   ]
  },
  {
   "cell_type": "code",
   "execution_count": null,
   "metadata": {},
   "outputs": [],
   "source": [
    "def recommend_movies(user, num_recommended_movies):\n",
    "\n",
    "  print('The list of the Movies {} Has Watched \\n'.format(user))\n",
    "\n",
    "  for m in df[df[user] > 0][user].index.tolist():\n",
    "    print(m)\n",
    "  \n",
    "  print('\\n')\n",
    "\n",
    "  recommended_movies = []\n",
    "\n",
    "  for m in co_occurrence[co_occurrence[user] == 0].index.tolist():\n",
    "\n",
    "    index_df = df.index.tolist().index(m)\n",
    "    predicted_rating = df1.iloc[index_df, df1.columns.tolist().index(user)]\n",
    "    recommended_movies.append((m, predicted_rating))\n",
    "\n",
    "  sorted_rm = sorted(recommended_movies, key=lambda x:x[1], reverse=True)\n",
    "  \n",
    "  print('The list of the Recommended Movies \\n')\n",
    "  rank = 1\n",
    "  for recommended_movie in sorted_rm[:num_recommended_movies]:\n",
    "    \n",
    "    print('{}: {} - predicted rating:{}'.format(rank, recommended_movie[0], recommended_movie[1]))\n",
    "    rank = rank + 1"
   ]
  },
  {
   "cell_type": "code",
   "execution_count": null,
   "metadata": {},
   "outputs": [],
   "source": [
    "from sklearn.metrics.pairwise import cosine_similarity\n",
    "\n",
    "similarities = cosine_similarity(co_occurrence)"
   ]
  },
  {
   "cell_type": "code",
   "execution_count": null,
   "metadata": {},
   "outputs": [],
   "source": [
    "links = df['link'].unique().tolist()"
   ]
  },
  {
   "cell_type": "code",
   "execution_count": null,
   "metadata": {},
   "outputs": [],
   "source": [
    "def get_similar_items(link, similarities, links, df, date):\n",
    "    link_index = links.index(link)\n",
    "    if link_index >= len(links):\n",
    "        return []\n",
    "    similar_items = []\n",
    "    for i, s in enumerate(similarities[link_index]):\n",
    "        if s > 0:\n",
    "            similar_items.append((links[i], s))\n",
    "    similar_items = [item for item in similar_items if df[df['link'] == item[0]]['date'].iloc[0] == date]\n",
    "    return sorted(similar_items, key=lambda x: x[1], reverse=True)\n",
    "\n"
   ]
  },
  {
   "cell_type": "code",
   "execution_count": null,
   "metadata": {},
   "outputs": [],
   "source": [
    "def recommend_items(user_id, date, df, similarities, links):\n",
    "    df_user = df[(df['user_id'] == user_id) & (df['date'] == date)]\n",
    "    if df_user.empty:\n",
    "        return \"Non ci sono dati per l'utente selezionato oggi.\"\n",
    "    if df_user['link'].iloc[0] not in links:\n",
    "        return \"Il link passato in input non esiste nel dataframe.\"\n",
    "    co_occurrence = df_user.pivot_table(index='link', columns='user_id', values='likes', fill_value=0)\n",
    "    sim = cosine_similarity(co_occurrence)\n",
    "    similar_items = get_similar_items(df_user['link'].iloc[0], sim, links, df, date)\n",
    "    if not similar_items:\n",
    "        return \"Non ci sono link simili a quello selezionato oggi.\"\n",
    "    return similar_items"
   ]
  },
  {
   "cell_type": "code",
   "execution_count": null,
   "metadata": {},
   "outputs": [],
   "source": [
    "today = datetime.today().strftime('%Y-%m-%d')"
   ]
  },
  {
   "cell_type": "code",
   "execution_count": null,
   "metadata": {},
   "outputs": [],
   "source": [
    "# esempio di utilizzo\n",
    "#recommendations = recommend_items('18efbcda4e36b1114f95e51b8ccd83c1fb170b3d119792d3ccb37027e6857532', df, similarities, links)\n",
    "recommendations = recommend_items('18efbcda4e36b1114f95e51b8ccd83c1fb170b3d119792d3ccb37027e6857532', today, df, similarities, links)\n",
    "print(recommendations)"
   ]
  }
 ],
 "metadata": {
  "kernelspec": {
   "display_name": "mlp",
   "language": "python",
   "name": "python3"
  },
  "language_info": {
   "codemirror_mode": {
    "name": "ipython",
    "version": 3
   },
   "file_extension": ".py",
   "mimetype": "text/x-python",
   "name": "python",
   "nbconvert_exporter": "python",
   "pygments_lexer": "ipython3",
   "version": "3.8.15"
  },
  "orig_nbformat": 4,
  "vscode": {
   "interpreter": {
    "hash": "95fe2f621b02c291269f6f1de04399c71d5624912c164c733c30837729478179"
   }
  }
 },
 "nbformat": 4,
 "nbformat_minor": 2
}
