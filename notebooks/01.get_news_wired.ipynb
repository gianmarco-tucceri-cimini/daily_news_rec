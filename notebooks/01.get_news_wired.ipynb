{
 "cells": [
  {
   "cell_type": "code",
   "execution_count": 1,
   "metadata": {},
   "outputs": [],
   "source": [
    "import requests\n",
    "from bs4 import BeautifulSoup"
   ]
  },
  {
   "cell_type": "code",
   "execution_count": 2,
   "metadata": {},
   "outputs": [],
   "source": [
    "headers = {\"User-Agent\": \"Mozilla/5.0 (X11; Linux x86_64) AppleWebKit/537.36 (KHTML, like Gecko) Chrome/88.0.4324.96 Safari/537.36\"} "
   ]
  },
  {
   "cell_type": "code",
   "execution_count": 3,
   "metadata": {},
   "outputs": [],
   "source": [
    "URL = \"https://www.wired.it\"\n",
    "page = requests.get(URL, headers=headers)"
   ]
  },
  {
   "cell_type": "code",
   "execution_count": 4,
   "metadata": {},
   "outputs": [],
   "source": [
    "# Parse the HTML content\n",
    "soup = BeautifulSoup(page.content, 'html.parser')"
   ]
  },
  {
   "cell_type": "code",
   "execution_count": 5,
   "metadata": {},
   "outputs": [],
   "source": [
    "# Seleziona l'elemento\n",
    "articles = soup.select(\"div[class^='SummaryItemWrapper-gcQMOo hHjGOU']\")"
   ]
  },
  {
   "cell_type": "code",
   "execution_count": null,
   "metadata": {},
   "outputs": [],
   "source": [
    "print(articles[0])"
   ]
  },
  {
   "cell_type": "code",
   "execution_count": 19,
   "metadata": {},
   "outputs": [
    {
     "data": {
      "text/plain": [
       "6"
      ]
     },
     "execution_count": 19,
     "metadata": {},
     "output_type": "execute_result"
    }
   ],
   "source": [
    "len(articles)"
   ]
  },
  {
   "cell_type": "code",
   "execution_count": 33,
   "metadata": {},
   "outputs": [
    {
     "data": {
      "text/plain": [
       "\"Siamo di nuovo in quel periodo: quello in cui, un po' come a settembre, si buttano giù obiettivi, programmi o semplicemente nuovi propositi per l'anno appena cominciato. Che magari nuovi non lo sono nemmeno: in molti casi si tratta infatti solo della ripetizione di quelli degli anni passati, rimasti incompiuti. Immancabili ogni gennaio, fioccano anche i consigli degli esperti per mantener (finalmente) fede agli impegni presi. Altrettanto puntuali – se non addirittura un po' in anticipo – sono arrivate in questi giorni le dritte di alcuni esperti di management e psicologia per centrare . Basati sull'evidenza, assicurano, e utili per portarvi dritti alla meta. Ultimamente, però, la narrazione intorno al successo e l'impegno per il raggiungimento dei propri traguardi sta un po' cambiando.Quali che siano le vostre ambizioni, gli autori dei consigli per il 2023 – i professori Peter A. Heslin, Lauren A. Keating e Ute-Christine Klehe, che rilanciano le loro proposte anche su The Conversation – suggeriscono dodici modi per aumentare le probabilità di raggiungerle, organizzate in quattro macro-categorie. È importante, secondo gli autori, che gli obiettivi siano prima di tutto rilevanti, ma anche avere solide motivazioni, creare un ambiente favorevole e gestire in modo proattivo gli ostacoli. Facile a dirsi, ma come ottenere tutto questo?Organizzazione e piccoli passiPartiamo dalle basi, ovvero fissare gli obiettivi cui puntare, dividendoli per tipologia: comportamentali, di apprendimento o di performance. Come dovrebbero essere questi traguardi? Secondo gli autori, sarebbe opportuno – se parliamo di comportamenti da modificare - che siano allineati a un obiettivo di performance, che facciano affidamento su attività da ripetere nel tempo, e sfruttino i suggerimenti di un esperto nel campo. Passando dalla teoria alla pratica: voler cambiare lavoro significa, per esempio, capire cosa si vuole e adoperarsi per farlo, aggiornando il proprio curriculum, confrontandosi con altre persone e candidandosi a offerte di lavoro. Ripetendo queste azioni nel tempo, senza arrendersi. Affidarsi a qualcuno che ne sa più di noi può essere un consiglio valido anche quando si vuole imparare qualcosa di nuovo, purché si definisca chiaramente cosa, stabilendo delle priorità tra tutto quello che si punta a imparare. Durante il percorso è importante anche fissarsi dei sotto-obiettivi, dei punti di arrivo intermedi, per avere un'idea dei progressi fatti, della velocità con cui si sta procedendo e per capire se e come è necessario aggiustare il tiro. Questo, aspetto non meno importante, aiuta a sviluppare l'autostima, rinforzando l'idea che, a piccoli passi, anche gli obiettivi difficili possono essere raggiunti.Senza motivazione non c'è progressoImpegnarsi in qualcosa è più facile se quel qualcosa conta, se la motivazione è forte, in linea con i propri valori personali (gli autori parlano di self-concordance). Definire dove dobbiamo arrivare, sulla base dei benefici che avremmo nel raggiungere un determinato scopo, alimenta la determinazione necessaria per arrivarci. Uno dei consigli per mantenerla viva è rendere il percorso per arrivare a un traguardo avvincente, continuano gli autori, magari trasformandolo in una sorta di gioco. Il riferimento è a tutti i sistemi – come badge, ma anche classifiche – che certificano il raggiungimento di un traguardo, anche se solo parziale. Le app di fitness adottano questo metodo da tempo, proprio con sfide e badge ottenuti al completamento di diverse attività, che siano 10km di corsa o 4 ore di allenamento nel giro di due settimane, oltre che con riconoscimenti che premiano performance migliorate nel tempo. D'aiuto per mantenere viva la motivazione è anche l'esercizio di contrapporre lo stato attuale con quello desiderato, non focalizzandosi però sugli ostacoli, quando piuttosto sulle sensazioni che prevediamo di provare una volta arrivati alla meta. E ancora, ricordatevi di credere in voi stessi, aggiungono gli esperti, celebrando le piccole vittorie, non disdegnando feedback e pareri dagli altri e cambiando punto di vista anche nel modo di pensare a voi stessi. Un esempio per tutti? Non concentriamoci sul “siamo troppo vecchi”, ma piuttosto sull'esperienza accumulata. Non sembra niente di rivoluzionare, è vero, ma funzionerebbe.Fare piani ma anche riposarsiCostruire abitudini laddove non ce n'erano, momenti dedicati in cui svolgere azioni finalizzate ai propri obiettivi, aiuta a raggiungerli. Il consiglio degli esperti è di legare tra loro azioni diverse: per esempio camminare un tot di minuti dopo aver mangiato. Durante il percorso è però importante anche garantire adeguato spazio ai momenti di riposo, prendersi delle pause: dormire, passare del tempo con gli amici, passeggiare, suonare, scrivere, aiutano a ricaricarsi.Impara a superare gli erroriForse il consiglio più prezioso è quello che riguarda la gestione di errori, crisi e momenti in cui si rischia di perdersi. Il segreto potrebbe essere quello di giocare d'anticipo, immaginando per tempo cosa potrebbe distarci e di conseguenza come reagire, scrivono gli autori. Il caro vecchio consiglio di silenziare le notifiche dei social rientra in tutto questo, così come coltivare una visione costruttiva, focalizzandosi sulle opportunità di migliorare dagli errori che, inevitabilmente, potrebbero essere fatti lungo il percorso.\""
      ]
     },
     "execution_count": 33,
     "metadata": {},
     "output_type": "execute_result"
    }
   ],
   "source": [
    "#estrai testo\n",
    "link = articles[3].select_one(\"a[class='SummaryItemHedLink-cgaOJy cZNgnb summary-item-tracking__hed-link summary-item__hed-link']\")['href']\n",
    "article = URL + link\n",
    "article_page = requests.get(article, headers=headers)\n",
    "article_soup = BeautifulSoup(article_page.content, 'html.parser')\n",
    "article_soup.select_one(\"div[class='GridItem-bwmuQH fQwjVg grid--item grid-layout__content']\").text"
   ]
  },
  {
   "cell_type": "code",
   "execution_count": 34,
   "metadata": {},
   "outputs": [],
   "source": [
    "import pandas as pd\n",
    "\n",
    "# Crea una lista vuota che conterrà i dati estratti\n",
    "data = []\n",
    "\n",
    "# Seleziona tutti gli elementi\n",
    "elements = soup.select(\"div[class^='SummaryItemWrapper']\")\n",
    "\n",
    "# Itera su ogni elemento\n",
    "for i in range(len(articles)):\n",
    "    # Estrai il titolo\n",
    "    title = articles[i].select_one(\"h3[class^='SummaryItemHedBase-dZZTtv gyXvAJ summary-item__hed']\").text\n",
    "\n",
    "    # Estrai l'autore\n",
    "    author = articles[i].select_one(\"span[class^='BylineName-cKjYhk cmNGOq byline__name']\").text\n",
    "\n",
    "    # Estrai la descrizione\n",
    "    description = articles[i].select_one(\"div[class='BaseWrap-sc-UrHlS BaseText-fFrHpW SummaryItemDek-dwcsSh boMZdO ktJKvH kkLeuI summary-item__dek']\").text\n",
    "\n",
    "    # Estrai il link\n",
    "    link = articles[i].select_one(\"a[class='SummaryItemHedLink-cgaOJy cZNgnb summary-item-tracking__hed-link summary-item__hed-link']\")['href']\n",
    "\n",
    "    #estrai testo\n",
    "    article = URL + link\n",
    "    article_page = requests.get(article, headers=headers)\n",
    "    article_soup = BeautifulSoup(article_page.content, 'html.parser')\n",
    "    text = article_soup.select_one(\"div[class='GridItem-bwmuQH fQwjVg grid--item grid-layout__content']\").text\n",
    "\n",
    "    # Aggiungi i dati estratti alla lista\n",
    "    data.append({\n",
    "        'title': title,\n",
    "        'author': author,\n",
    "        'description': description,\n",
    "        'link': 'https://www.wired.it' + link,\n",
    "        'text': text,\n",
    "    })\n",
    "\n",
    "# Crea un DataFrame Pandas a partire dalla lista di dati\n",
    "df = pd.DataFrame(data)"
   ]
  },
  {
   "cell_type": "code",
   "execution_count": 35,
   "metadata": {},
   "outputs": [
    {
     "data": {
      "text/html": [
       "<div>\n",
       "<style scoped>\n",
       "    .dataframe tbody tr th:only-of-type {\n",
       "        vertical-align: middle;\n",
       "    }\n",
       "\n",
       "    .dataframe tbody tr th {\n",
       "        vertical-align: top;\n",
       "    }\n",
       "\n",
       "    .dataframe thead th {\n",
       "        text-align: right;\n",
       "    }\n",
       "</style>\n",
       "<table border=\"1\" class=\"dataframe\">\n",
       "  <thead>\n",
       "    <tr style=\"text-align: right;\">\n",
       "      <th></th>\n",
       "      <th>title</th>\n",
       "      <th>author</th>\n",
       "      <th>description</th>\n",
       "      <th>link</th>\n",
       "      <th>text</th>\n",
       "    </tr>\n",
       "  </thead>\n",
       "  <tbody>\n",
       "    <tr>\n",
       "      <th>0</th>\n",
       "      <td>10 invenzioni geniali firmate Nikola Tesla</td>\n",
       "      <td>di Gianluca Dotti</td>\n",
       "      <td>Dal telecomando alle centrali elettriche a cor...</td>\n",
       "      <td>https://www.wired.it/gallery/nikola-tesla-inve...</td>\n",
       "      <td>Quando sentiamo o leggiamo la parola Tesla, og...</td>\n",
       "    </tr>\n",
       "    <tr>\n",
       "      <th>1</th>\n",
       "      <td>17 novità a fumetti in uscita nel 2023</td>\n",
       "      <td>di Andrea Curiat</td>\n",
       "      <td>Le graphic novel e i manga imperdibili da atte...</td>\n",
       "      <td>https://www.wired.it/gallery/fumetti-2023-17-t...</td>\n",
       "      <td>Dopo un 2022 di grandi fumetti, cosa ci attend...</td>\n",
       "    </tr>\n",
       "    <tr>\n",
       "      <th>2</th>\n",
       "      <td>I gadget più assurdi visti alla fiera del sess...</td>\n",
       "      <td>di Marco Consoli</td>\n",
       "      <td>In città oltre alla tecnologia si celebra in q...</td>\n",
       "      <td>https://www.wired.it/gallery/avn-expo-ecco-tut...</td>\n",
       "      <td>Ricordate quando i sex toy si ritagliarono uno...</td>\n",
       "    </tr>\n",
       "    <tr>\n",
       "      <th>3</th>\n",
       "      <td>I consigli degli esperti per centrare (finalme...</td>\n",
       "      <td>di Anna Lisa Bonfranceschi</td>\n",
       "      <td>La chiave è scegliere propositi che rispondano...</td>\n",
       "      <td>https://www.wired.it/article/obiettivi-2023-co...</td>\n",
       "      <td>Siamo di nuovo in quel periodo: quello in cui,...</td>\n",
       "    </tr>\n",
       "    <tr>\n",
       "      <th>4</th>\n",
       "      <td>Dobbiamo progettare le città tenendo conto del...</td>\n",
       "      <td>di Thomas Heatherwick</td>\n",
       "      <td>Gli edifici dei posti in cui viviamo sono spes...</td>\n",
       "      <td>https://www.wired.it/article/citta-progettazio...</td>\n",
       "      <td>Quando è stata l'ultima volta che camminando l...</td>\n",
       "    </tr>\n",
       "    <tr>\n",
       "      <th>5</th>\n",
       "      <td>I 10 crateri più affascinanti del Sistema Solare</td>\n",
       "      <td>di Luca Nardi</td>\n",
       "      <td>Gli impatti planetari sono tra le principali f...</td>\n",
       "      <td>https://www.wired.it/gallery/10-crateri-piu-af...</td>\n",
       "      <td>Alzando lo sguardo verso il cielo in una notte...</td>\n",
       "    </tr>\n",
       "  </tbody>\n",
       "</table>\n",
       "</div>"
      ],
      "text/plain": [
       "                                               title  \\\n",
       "0         10 invenzioni geniali firmate Nikola Tesla   \n",
       "1             17 novità a fumetti in uscita nel 2023   \n",
       "2  I gadget più assurdi visti alla fiera del sess...   \n",
       "3  I consigli degli esperti per centrare (finalme...   \n",
       "4  Dobbiamo progettare le città tenendo conto del...   \n",
       "5   I 10 crateri più affascinanti del Sistema Solare   \n",
       "\n",
       "                       author  \\\n",
       "0           di Gianluca Dotti   \n",
       "1            di Andrea Curiat   \n",
       "2            di Marco Consoli   \n",
       "3  di Anna Lisa Bonfranceschi   \n",
       "4       di Thomas Heatherwick   \n",
       "5               di Luca Nardi   \n",
       "\n",
       "                                         description  \\\n",
       "0  Dal telecomando alle centrali elettriche a cor...   \n",
       "1  Le graphic novel e i manga imperdibili da atte...   \n",
       "2  In città oltre alla tecnologia si celebra in q...   \n",
       "3  La chiave è scegliere propositi che rispondano...   \n",
       "4  Gli edifici dei posti in cui viviamo sono spes...   \n",
       "5  Gli impatti planetari sono tra le principali f...   \n",
       "\n",
       "                                                link  \\\n",
       "0  https://www.wired.it/gallery/nikola-tesla-inve...   \n",
       "1  https://www.wired.it/gallery/fumetti-2023-17-t...   \n",
       "2  https://www.wired.it/gallery/avn-expo-ecco-tut...   \n",
       "3  https://www.wired.it/article/obiettivi-2023-co...   \n",
       "4  https://www.wired.it/article/citta-progettazio...   \n",
       "5  https://www.wired.it/gallery/10-crateri-piu-af...   \n",
       "\n",
       "                                                text  \n",
       "0  Quando sentiamo o leggiamo la parola Tesla, og...  \n",
       "1  Dopo un 2022 di grandi fumetti, cosa ci attend...  \n",
       "2  Ricordate quando i sex toy si ritagliarono uno...  \n",
       "3  Siamo di nuovo in quel periodo: quello in cui,...  \n",
       "4  Quando è stata l'ultima volta che camminando l...  \n",
       "5  Alzando lo sguardo verso il cielo in una notte...  "
      ]
     },
     "execution_count": 35,
     "metadata": {},
     "output_type": "execute_result"
    }
   ],
   "source": [
    "df.head(10)"
   ]
  }
 ],
 "metadata": {
  "kernelspec": {
   "display_name": "mlp",
   "language": "python",
   "name": "python3"
  },
  "language_info": {
   "codemirror_mode": {
    "name": "ipython",
    "version": 3
   },
   "file_extension": ".py",
   "mimetype": "text/x-python",
   "name": "python",
   "nbconvert_exporter": "python",
   "pygments_lexer": "ipython3",
   "version": "3.8.15"
  },
  "orig_nbformat": 4,
  "vscode": {
   "interpreter": {
    "hash": "95fe2f621b02c291269f6f1de04399c71d5624912c164c733c30837729478179"
   }
  }
 },
 "nbformat": 4,
 "nbformat_minor": 2
}
