{
 "cells": [
  {
   "cell_type": "code",
   "execution_count": 1,
   "metadata": {},
   "outputs": [],
   "source": [
    "import requests\n",
    "from bs4 import BeautifulSoup"
   ]
  },
  {
   "cell_type": "code",
   "execution_count": 2,
   "metadata": {},
   "outputs": [],
   "source": [
    "headers = {\"User-Agent\": \"Mozilla/5.0 (X11; Linux x86_64) AppleWebKit/537.36 (KHTML, like Gecko) Chrome/88.0.4324.96 Safari/537.36\"} "
   ]
  },
  {
   "cell_type": "code",
   "execution_count": 3,
   "metadata": {},
   "outputs": [],
   "source": [
    "URL = 'https://www.ansa.it'"
   ]
  },
  {
   "cell_type": "code",
   "execution_count": 4,
   "metadata": {},
   "outputs": [],
   "source": [
    "page = requests.get(URL, headers=headers)"
   ]
  },
  {
   "cell_type": "code",
   "execution_count": 5,
   "metadata": {},
   "outputs": [],
   "source": [
    "# Parse the HTML content\n",
    "soup = BeautifulSoup(page.content, 'html.parser')"
   ]
  },
  {
   "cell_type": "code",
   "execution_count": 6,
   "metadata": {},
   "outputs": [],
   "source": [
    "# Seleziona l'elemento\n",
    "articles = soup.select(\"article[class^='news']\")"
   ]
  },
  {
   "cell_type": "code",
   "execution_count": null,
   "metadata": {},
   "outputs": [],
   "source": [
    "print(articles[1])"
   ]
  },
  {
   "cell_type": "code",
   "execution_count": null,
   "metadata": {},
   "outputs": [],
   "source": [
    "img = articles[1].select_one(\"h3[class^='news-title area-primopiano']\")['hp-img']\n",
    "print(img)"
   ]
  },
  {
   "cell_type": "code",
   "execution_count": null,
   "metadata": {},
   "outputs": [],
   "source": [
    "description = articles[11].select_one(\"div[class^='pp-abs']\").text\n",
    "print(description)"
   ]
  },
  {
   "cell_type": "code",
   "execution_count": 14,
   "metadata": {},
   "outputs": [
    {
     "name": "stdout",
     "output_type": "stream",
     "text": [
      "/sito/notizie/mondo/2023/01/06/in-ucraina-la-tregua-di-natale-non-regge-attacchi-sui-due-fronti_e8fb25ae-0c25-4eed-a15a-87e1a0036607.html\n"
     ]
    }
   ],
   "source": [
    "link = articles[6].select_one('h3').select_one('a')['href']\n",
    "print(link)"
   ]
  },
  {
   "cell_type": "code",
   "execution_count": 15,
   "metadata": {},
   "outputs": [
    {
     "name": "stdout",
     "output_type": "stream",
     "text": [
      "https://www.ansa.it/sito/notizie/mondo/2023/01/06/in-ucraina-la-tregua-di-natale-non-regge-attacchi-sui-due-fronti_e8fb25ae-0c25-4eed-a15a-87e1a0036607.html\n"
     ]
    }
   ],
   "source": [
    "article = URL + link\n",
    "print(article)"
   ]
  },
  {
   "cell_type": "code",
   "execution_count": 16,
   "metadata": {},
   "outputs": [
    {
     "name": "stdout",
     "output_type": "stream",
     "text": [
      "\n",
      "a tregua unilaterale annunciata da Mosca non porta la pace nemmeno per il Natale ortodosso. Le forze russe e quelle ucraine si sono accusate reciprocamente di avere continuato i bombardamenti anche nel giorno della Vigilia, mentre Kiev e le capitali occidentali giudicano del tutto insufficiente - e addirittura ipocrita - l'annuncio da parte di Vladimir Putin di un cessate il fuoco che dovrebbe durare fino alla mezzanotte del 7 gennaio, giorno della Natività.\n",
      "\"Questa dichiarazione di cessate il fuoco unilaterale - ha affermato il Rappresentante della Ue per la politica estera, Josep Borrell - non è credibile. Dobbiamo avere, dobbiamo vedere, cose concrete, azioni concrete sul campo da parte della Russia. Gli attacchi militari devono cessare del tutto. Le truppe e gli equipaggiamenti militari devono essere ritirati dal territorio ucraino\".\n",
      "Ancora più dura la posizione di Kiev: \"Non ci sarà tregua\" fino a quando l'ultimo soldato russo avrà lasciato l'Ucraina e fino ad allora \"ci saranno solo Himars sulle vostre teste\", ha affermato il consigliere presidenziale Oleksiy Arestovych rivolgendosi direttamente ai russi, con un riferimento ai lanciarazzi multipli semoventi forniti dagli Usa alle forze di Kiev rivelatisi uno dei sistemi d'arma più efficaci contro le forze di Mosca.\n",
      "Proprio in questi giorni i Paesi Nato accelerano la fornitura di armi all'Ucraina. Anche di questo hanno parlato il consigliere per la Sicurezza nazionale americana Jake Sullivan e Francesco Talò, il consigliere diplomatico della premier italiana Giorgia Meloni, in un colloquio di cui ha dato notizia la Casa Bianca. Secondo quando si rende noto in un comunicato, è stato appunto ribadito l'impegno a fornire assistenza a Kiev sia in termini di aiuti energetici che militari \"per difendere la sovranità e la democrazia\" del Paese.\n",
      "Intanto il presidente ucraino Volodymyr Zelensky ha detto di avere ringraziato in un colloquio telefonico il cancelliere tedesco Olaf Scholz per la decisione di inviare entro il primo trimestre dell'anno 40 veicoli corazzati Marder e sistemi missilistici Patriot. Giiovedì gli Usa avevano annunciato l'invio di carri armati Bradley e ora hanno fatto sapere che tale fornitura farà parte di un nuovo pacchetto da tre miliardi di dollari per rafforzare le capacità di combattimento ucraine.\n",
      "Secondo il segretario del Consiglio per la sicurezza nazionale ucraino, Oleksiy Danilov, questi nuovi aiuti occidentali significano una cosa sola: Kiev deve essere sostenuta per combattere non più una guerra di resistenza, come quando le forniture si limitavano ai lanciarazzi portatili Javelin e Stinger, ma un conflitto che la porterà alla \"vittoria\".Per il 2023, dunque, Danilov annuncia \"una guerra offensiva\"\n",
      "\"La nostra famiglia è più unita che mai, uniti nella fede in un'unica vittoria\", ha detto Zelensky nel suo messaggio di Natale alla nazione.\n",
      "A parlare di pace rimane Papa Francesco. Inviando un messaggio di auguri agli ortodossi, e in particolare \"ai fratelli e alle sorelle del martoriato popolo ucraino\", il Pontefice ha invitato a pregare perché \"la nascita del Salvatore (...) ispiri passi concreti che possano finalmente condurre alla fine dei combattimenti e alla pace\".\n",
      "Ma le armi non tacciono nemmeno in queste ore, dopo l'inizio della tregua annunciata da Putin, a partire dalle 12 ora di Mosca. Il ministero della Difesa russo ha accusato gli ucraini di avere compiuto bombardamenti nelle regioni orientali di Donetsk e Lugansk e in quelle meridionali di Zaporizhzhia e Kherson. In quest'ultimo oblast, secondo i servizi d'emergenza, tre civili sono rimasti feriti da colpi di artiglieria sulla cittadina di Aleshki. Gli ucraini accusano invece i russi di avere lanciato razzi sulla città di Kramatorsk, nell'oblast di Donetsk, e di avere \"aperto il fuoco 14 volte\" in quello di Lugansk, cercando anche di prendere d'assalto un villaggio.\n",
      "La vicepremier ucraina, Iryna Vereshchuk, ha invece lanciato l'allarme per un presunto piano russo di compiere attentati terroristici nelle chiese dei territori occupati e ha invitato la popolazione, \"se possibile, ad astenersi dal visitare luoghi affollati\" nel giorno di Natale.\n",
      "\n",
      "\n",
      "\n",
      "Agenzia ANSA\n",
      "Il patriarca Kirill chiede una tregua per Natale ortodosso - Mondo\n",
      "\n",
      "\n",
      "\n",
      "\n"
     ]
    }
   ],
   "source": [
    "#estraggo il testo\n",
    "article = URL + link\n",
    "article_page = requests.get(article, headers=headers)\n",
    "article_soup = BeautifulSoup(article_page.content, 'html.parser')\n",
    "text = article_soup.select_one(\"div[class='news-txt']\").text\n",
    "print(text)\n"
   ]
  },
  {
   "cell_type": "code",
   "execution_count": 19,
   "metadata": {},
   "outputs": [],
   "source": [
    "import pandas as pd\n",
    "\n",
    "# Crea una lista vuota che conterrà i dati estratti\n",
    "data = []\n",
    "\n",
    "# Itera su ogni elemento\n",
    "for i in range(12):\n",
    "    # Estrai il titolo\n",
    "    title = articles[i].select_one(\"h3[class^='news-title area-primopiano']\").text\n",
    "\n",
    "    # Estrai il link\n",
    "    link = articles[i].select_one('h3').select_one('a')['href']\n",
    "\n",
    "    #estraggo il testo\n",
    "    article = URL + link\n",
    "    article_page = requests.get(article, headers=headers)\n",
    "    article_soup = BeautifulSoup(article_page.content, 'html.parser')\n",
    "    text = article_soup.select_one(\"div[class='news-txt']\").text\n",
    "    text = text.replace(\"\\n\", \" \")\n",
    "\n",
    "    # Aggiungi i dati estratti alla lista\n",
    "    data.append({\n",
    "        'title': title,\n",
    "        'link': 'https://www.ansa.it' + link,\n",
    "        'text': text\n",
    "    })\n",
    "\n",
    "# Crea un DataFrame Pandas a partire dalla lista di dati\n",
    "df = pd.DataFrame(data)"
   ]
  },
  {
   "cell_type": "code",
   "execution_count": 20,
   "metadata": {},
   "outputs": [
    {
     "data": {
      "text/html": [
       "<div>\n",
       "<style scoped>\n",
       "    .dataframe tbody tr th:only-of-type {\n",
       "        vertical-align: middle;\n",
       "    }\n",
       "\n",
       "    .dataframe tbody tr th {\n",
       "        vertical-align: top;\n",
       "    }\n",
       "\n",
       "    .dataframe thead th {\n",
       "        text-align: right;\n",
       "    }\n",
       "</style>\n",
       "<table border=\"1\" class=\"dataframe\">\n",
       "  <thead>\n",
       "    <tr style=\"text-align: right;\">\n",
       "      <th></th>\n",
       "      <th>title</th>\n",
       "      <th>link</th>\n",
       "      <th>text</th>\n",
       "    </tr>\n",
       "  </thead>\n",
       "  <tbody>\n",
       "    <tr>\n",
       "      <th>0</th>\n",
       "      <td>Lotteria Italia, ecco i 5 biglietti d'oro. A B...</td>\n",
       "      <td>https://www.ansa.it/sito/notizie/cronaca/2023/...</td>\n",
       "      <td>Lotteria Italia, ecco le serie e i numeri dei...</td>\n",
       "    </tr>\n",
       "    <tr>\n",
       "      <th>1</th>\n",
       "      <td>Addio a Gianluca Vialli'capitano per sempre'</td>\n",
       "      <td>https://www.ansa.it/sito/notizie/sport/calcio/...</td>\n",
       "      <td>Altro grave lutto per il mondo del calcio. E'...</td>\n",
       "    </tr>\n",
       "    <tr>\n",
       "      <th>2</th>\n",
       "      <td>Crescono nel 2022 incidenti stradali e vittime...</td>\n",
       "      <td>https://www.ansa.it/sito/notizie/cronaca/2023/...</td>\n",
       "      <td>Aumentano nel 2022 gli incidenti stradali ris...</td>\n",
       "    </tr>\n",
       "    <tr>\n",
       "      <th>3</th>\n",
       "      <td>Iran: giustiziati due uomini dopo le manifesta...</td>\n",
       "      <td>https://www.ansa.it/sito/notizie/mondo/medioor...</td>\n",
       "      <td>(ANSA) - TEHERAN, 0...</td>\n",
       "    </tr>\n",
       "    <tr>\n",
       "      <th>4</th>\n",
       "      <td>Usa: bimbo di 6 anni spara e ferisce gravement...</td>\n",
       "      <td>https://www.ansa.it/sito/notizie/mondo/nordame...</td>\n",
       "      <td>Un bambino di sei anni ha aperto il fuoco in ...</td>\n",
       "    </tr>\n",
       "    <tr>\n",
       "      <th>5</th>\n",
       "      <td>Alibaba: Jack Ma rinuncia al controllo di Ant ...</td>\n",
       "      <td>https://www.ansa.it/sito/notizie/economia/2023...</td>\n",
       "      <td>(ANSA) - PECHINO, 0...</td>\n",
       "    </tr>\n",
       "    <tr>\n",
       "      <th>6</th>\n",
       "      <td>La tregua di Natale non regge,attacchi sui due...</td>\n",
       "      <td>https://www.ansa.it/sito/notizie/mondo/2023/01...</td>\n",
       "      <td>a tregua unilaterale annunciata da Mosca non ...</td>\n",
       "    </tr>\n",
       "    <tr>\n",
       "      <th>7</th>\n",
       "      <td>Messico, 29 morti negli scontri per il figlio ...</td>\n",
       "      <td>https://www.ansa.it/sito/notizie/mondo/2023/01...</td>\n",
       "      <td>E' guerriglia nello stato di Sinaloa, in Mes...</td>\n",
       "    </tr>\n",
       "    <tr>\n",
       "      <th>8</th>\n",
       "      <td>Con la ruspa contro la casa, il proprietario s...</td>\n",
       "      <td>https://www.ansa.it/toscana/notizie/2023/01/06...</td>\n",
       "      <td>Durante una lite tra vicini un 57enne di ori...</td>\n",
       "    </tr>\n",
       "    <tr>\n",
       "      <th>9</th>\n",
       "      <td>Gaenswein: 'Ratzinger mi disse di distruggere ...</td>\n",
       "      <td>https://www.ansa.it/sito/notizie/politica/2023...</td>\n",
       "      <td>Le carte private di Benedetto XVI verranno, ...</td>\n",
       "    </tr>\n",
       "  </tbody>\n",
       "</table>\n",
       "</div>"
      ],
      "text/plain": [
       "                                               title  \\\n",
       "0  Lotteria Italia, ecco i 5 biglietti d'oro. A B...   \n",
       "1       Addio a Gianluca Vialli'capitano per sempre'   \n",
       "2  Crescono nel 2022 incidenti stradali e vittime...   \n",
       "3  Iran: giustiziati due uomini dopo le manifesta...   \n",
       "4  Usa: bimbo di 6 anni spara e ferisce gravement...   \n",
       "5  Alibaba: Jack Ma rinuncia al controllo di Ant ...   \n",
       "6  La tregua di Natale non regge,attacchi sui due...   \n",
       "7  Messico, 29 morti negli scontri per il figlio ...   \n",
       "8  Con la ruspa contro la casa, il proprietario s...   \n",
       "9  Gaenswein: 'Ratzinger mi disse di distruggere ...   \n",
       "\n",
       "                                                link  \\\n",
       "0  https://www.ansa.it/sito/notizie/cronaca/2023/...   \n",
       "1  https://www.ansa.it/sito/notizie/sport/calcio/...   \n",
       "2  https://www.ansa.it/sito/notizie/cronaca/2023/...   \n",
       "3  https://www.ansa.it/sito/notizie/mondo/medioor...   \n",
       "4  https://www.ansa.it/sito/notizie/mondo/nordame...   \n",
       "5  https://www.ansa.it/sito/notizie/economia/2023...   \n",
       "6  https://www.ansa.it/sito/notizie/mondo/2023/01...   \n",
       "7  https://www.ansa.it/sito/notizie/mondo/2023/01...   \n",
       "8  https://www.ansa.it/toscana/notizie/2023/01/06...   \n",
       "9  https://www.ansa.it/sito/notizie/politica/2023...   \n",
       "\n",
       "                                                text  \n",
       "0   Lotteria Italia, ecco le serie e i numeri dei...  \n",
       "1   Altro grave lutto per il mondo del calcio. E'...  \n",
       "2   Aumentano nel 2022 gli incidenti stradali ris...  \n",
       "3                             (ANSA) - TEHERAN, 0...  \n",
       "4   Un bambino di sei anni ha aperto il fuoco in ...  \n",
       "5                             (ANSA) - PECHINO, 0...  \n",
       "6   a tregua unilaterale annunciata da Mosca non ...  \n",
       "7    E' guerriglia nello stato di Sinaloa, in Mes...  \n",
       "8    Durante una lite tra vicini un 57enne di ori...  \n",
       "9    Le carte private di Benedetto XVI verranno, ...  "
      ]
     },
     "execution_count": 20,
     "metadata": {},
     "output_type": "execute_result"
    }
   ],
   "source": [
    "df.head(10)"
   ]
  }
 ],
 "metadata": {
  "kernelspec": {
   "display_name": "mlp",
   "language": "python",
   "name": "python3"
  },
  "language_info": {
   "codemirror_mode": {
    "name": "ipython",
    "version": 3
   },
   "file_extension": ".py",
   "mimetype": "text/x-python",
   "name": "python",
   "nbconvert_exporter": "python",
   "pygments_lexer": "ipython3",
   "version": "3.8.15 | packaged by conda-forge | (default, Nov 22 2022, 08:52:09) \n[Clang 14.0.6 ]"
  },
  "orig_nbformat": 4,
  "vscode": {
   "interpreter": {
    "hash": "95fe2f621b02c291269f6f1de04399c71d5624912c164c733c30837729478179"
   }
  }
 },
 "nbformat": 4,
 "nbformat_minor": 2
}
