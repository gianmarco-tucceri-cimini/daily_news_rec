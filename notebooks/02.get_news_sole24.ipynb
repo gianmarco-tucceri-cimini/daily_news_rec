{
 "cells": [
  {
   "cell_type": "code",
   "execution_count": 1,
   "metadata": {},
   "outputs": [],
   "source": [
    "import requests\n",
    "from bs4 import BeautifulSoup"
   ]
  },
  {
   "cell_type": "code",
   "execution_count": 2,
   "metadata": {},
   "outputs": [],
   "source": [
    "headers = {\"User-Agent\": \"Mozilla/5.0 (X11; Linux x86_64) AppleWebKit/537.36 (KHTML, like Gecko) Chrome/88.0.4324.96 Safari/537.36\"} "
   ]
  },
  {
   "cell_type": "code",
   "execution_count": 3,
   "metadata": {},
   "outputs": [],
   "source": [
    "URL = 'https://www.ilsole24ore.com/'"
   ]
  },
  {
   "cell_type": "code",
   "execution_count": 4,
   "metadata": {},
   "outputs": [],
   "source": [
    "page = requests.get(URL, headers=headers)"
   ]
  },
  {
   "cell_type": "code",
   "execution_count": 5,
   "metadata": {},
   "outputs": [],
   "source": [
    "# Parse the HTML content\n",
    "soup = BeautifulSoup(page.content, 'html.parser')"
   ]
  },
  {
   "cell_type": "code",
   "execution_count": 8,
   "metadata": {},
   "outputs": [],
   "source": [
    "# Seleziona l'elemento\n",
    "articles = soup.select(\"div[class^='col-']\")"
   ]
  },
  {
   "cell_type": "code",
   "execution_count": 7,
   "metadata": {},
   "outputs": [
    {
     "name": "stdout",
     "output_type": "stream",
     "text": [
      "<div class=\"col-md col-lg-5 col--stretch\"><div class=\"aprev aprev--fbtm aprev--big-d text-center\"><figure class=\"aprev-img\"><div class=\"jsx-1682825253 embed-responsive embed-responsive-dynamic\" id=\"PL-1626288379\"><div class=\"jsx-1682825253 embed-responsive-item\"><a class=\"d-block\" href=\"/art/borse-2023-mercati-parte-misto-AEiCrVTC\"><img alt=\"\" class=\"img-fluid\" height=\"412\" src=\"/static/images/placeholders/art/403x210.png\" width=\"790\"/></a></div></div></figure><div class=\"aprev-main\"><p class=\"meta\"><a class=\"meta-part subhead\" href=\"/art/borse-2023-mercati-parte-misto-AEiCrVTC\">La giornata dei mercati</a></p><h3 class=\"aprev-title\"><a class=\"\" href=\"/art/borse-2023-mercati-parte-misto-AEiCrVTC\">Le Borse europee allungano il passo, a Milano bene Stellantis. Gas ancora in calo - </a><a class=\"aprev-title-clr\" href=\"https://podcast.ilsole24ore.com/serie/market-mover-ADIwje3/i-mercati-2023-incognite-e-certezze-AEyTHKRC\" target=\"\">Podcast / I mercati nell’anno nuovo</a></h3><div class=\"aprev-footer aprev-footer--ltool\"><p class=\"auth\">di Eleonora Micheli</p><ul class=\"list-inline list-inline--tools list-inline--sep\"><li class=\"list-inline-item d-md-none\"><a class=\"ltool no-border no-outline\" href=\"#\" role=\"button\" tabindex=\"0\"><span class=\"icon icon-save-small\"></span></a></li><li class=\"list-inline-item dropdown\"><a class=\"ltool\" data-display=\"static\" data-toggle=\"dropdown\" href=\"#\" role=\"button\"><span class=\"icon icon-share-small\"></span></a></li></ul></div><h4 class=\"aprev-title aprev-title--s\"><a href=\"https://24plus.ilsole24ore.com/art/l-oroscopo-mercati-il-2023-e-l-anno-bond-ma-rischi-sono-alti-AEe24xOC?s=hpl\"><img alt=\"24+\" class=\"badge-plus\" src=\"/static/img/24plus--badge.svg\"/> <span>L’oroscopo dei mercati? Il 2023 è l’anno dei bond (ma i rischi sono alti)</span></a></h4><div class=\"aprev-footer aprev-footer--ltool\"><p class=\"auth\">di Morya Longo</p></div></div></div></div>\n"
     ]
    }
   ],
   "source": [
    "print(articles[0])"
   ]
  },
  {
   "cell_type": "code",
   "execution_count": 9,
   "metadata": {},
   "outputs": [
    {
     "name": "stdout",
     "output_type": "stream",
     "text": [
      "Covid, cos’è Gryphon e perché preoccupa - \n"
     ]
    }
   ],
   "source": [
    "title = articles[11].select_one(\"h3\").select_one(\"a\").text\n",
    "print(title)"
   ]
  },
  {
   "cell_type": "code",
   "execution_count": 10,
   "metadata": {},
   "outputs": [
    {
     "name": "stdout",
     "output_type": "stream",
     "text": [
      "/art/borse-hong-kong-apre-calo-futures-usa-oscillano-AEhJzfTC\n"
     ]
    }
   ],
   "source": [
    "link = articles[1].select_one('h3').select_one('a')['href']\n",
    "print(link)"
   ]
  },
  {
   "cell_type": "code",
   "execution_count": 46,
   "metadata": {},
   "outputs": [],
   "source": [
    "import pandas as pd\n",
    "\n",
    "# Crea una lista vuota che conterrà i dati estratti\n",
    "data = []\n",
    "\n",
    "# Itera su ogni elemento\n",
    "for i in range(len(articles)-1):\n",
    "    # Estrai il titolo\n",
    "    title = articles[i].select_one(\"h3\").select_one(\"a\").text\n",
    "\n",
    "    # Estrai il link\n",
    "    link = articles[i].select_one('h3').select_one('a')['href']\n",
    "\n",
    "    # Aggiungi i dati estratti alla lista\n",
    "    data.append({\n",
    "        'title': title,\n",
    "        'link': 'https://www.ilsole24ore.com' + link\n",
    "    })\n",
    "\n",
    "# Crea un DataFrame Pandas a partire dalla lista di dati\n",
    "df = pd.DataFrame(data)"
   ]
  },
  {
   "cell_type": "code",
   "execution_count": 47,
   "metadata": {},
   "outputs": [
    {
     "data": {
      "text/html": [
       "<div>\n",
       "<style scoped>\n",
       "    .dataframe tbody tr th:only-of-type {\n",
       "        vertical-align: middle;\n",
       "    }\n",
       "\n",
       "    .dataframe tbody tr th {\n",
       "        vertical-align: top;\n",
       "    }\n",
       "\n",
       "    .dataframe thead th {\n",
       "        text-align: right;\n",
       "    }\n",
       "</style>\n",
       "<table border=\"1\" class=\"dataframe\">\n",
       "  <thead>\n",
       "    <tr style=\"text-align: right;\">\n",
       "      <th></th>\n",
       "      <th>title</th>\n",
       "      <th>link</th>\n",
       "    </tr>\n",
       "  </thead>\n",
       "  <tbody>\n",
       "    <tr>\n",
       "      <th>0</th>\n",
       "      <td>Le Borse europee allungano il passo, a Milano ...</td>\n",
       "      <td>https://www.ilsole24ore.com/art/borse-2023-mer...</td>\n",
       "    </tr>\n",
       "    <tr>\n",
       "      <th>1</th>\n",
       "      <td>Reddito di cittadinanza e smart working: come ...</td>\n",
       "      <td>https://www.ilsole24ore.com/art/reddito-cittad...</td>\n",
       "    </tr>\n",
       "    <tr>\n",
       "      <th>2</th>\n",
       "      <td>Al via i saldi invernali in Sicilia e Basilica...</td>\n",
       "      <td>https://www.ilsole24ore.com/art/al-via-saldi-i...</td>\n",
       "    </tr>\n",
       "    <tr>\n",
       "      <th>3</th>\n",
       "      <td>Scatta l’aumento della benzina: ogni pieno cos...</td>\n",
       "      <td>https://www.ilsole24ore.com/art/scatta-l-aumen...</td>\n",
       "    </tr>\n",
       "    <tr>\n",
       "      <th>4</th>\n",
       "      <td>Germania, 45,6 milioni di occupati nel 2022: è...</td>\n",
       "      <td>https://www.ilsole24ore.com/art/germania-456-m...</td>\n",
       "    </tr>\n",
       "    <tr>\n",
       "      <th>5</th>\n",
       "      <td>Bombe sulla base militare russa nel Donbass. K...</td>\n",
       "      <td>https://www.ilsole24ore.com/art/ucraina-ultime...</td>\n",
       "    </tr>\n",
       "    <tr>\n",
       "      <th>6</th>\n",
       "      <td>Il 2023 delle criptovalute. Quali scenari si a...</td>\n",
       "      <td>https://www.ilsole24ore.comhttps://24plus.ilso...</td>\n",
       "    </tr>\n",
       "    <tr>\n",
       "      <th>7</th>\n",
       "      <td>Climate change, è corsa contro il tempo per fr...</td>\n",
       "      <td>https://www.ilsole24ore.comhttps://24plus.ilso...</td>\n",
       "    </tr>\n",
       "    <tr>\n",
       "      <th>8</th>\n",
       "      <td>Guerra e inflazione: come proteggere i nostri ...</td>\n",
       "      <td>https://www.ilsole24ore.comhttps://24plus.ilso...</td>\n",
       "    </tr>\n",
       "    <tr>\n",
       "      <th>9</th>\n",
       "      <td>Covid, cos’è Gryphon e perché preoccupa</td>\n",
       "      <td>https://www.ilsole24ore.com/art/che-cos-e-grip...</td>\n",
       "    </tr>\n",
       "    <tr>\n",
       "      <th>10</th>\n",
       "      <td>Mps: «Superati i dubbi sulla continuità aziend...</td>\n",
       "      <td>https://www.ilsole24ore.com/art/mps-superati-d...</td>\n",
       "    </tr>\n",
       "    <tr>\n",
       "      <th>11</th>\n",
       "      <td>La salma di Benedetto XVI esposta a San Pietro...</td>\n",
       "      <td>https://www.ilsole24ore.com/art/i-fedeli-rendo...</td>\n",
       "    </tr>\n",
       "  </tbody>\n",
       "</table>\n",
       "</div>"
      ],
      "text/plain": [
       "                                                title  \\\n",
       "0   Le Borse europee allungano il passo, a Milano ...   \n",
       "1   Reddito di cittadinanza e smart working: come ...   \n",
       "2   Al via i saldi invernali in Sicilia e Basilica...   \n",
       "3   Scatta l’aumento della benzina: ogni pieno cos...   \n",
       "4   Germania, 45,6 milioni di occupati nel 2022: è...   \n",
       "5   Bombe sulla base militare russa nel Donbass. K...   \n",
       "6   Il 2023 delle criptovalute. Quali scenari si a...   \n",
       "7   Climate change, è corsa contro il tempo per fr...   \n",
       "8   Guerra e inflazione: come proteggere i nostri ...   \n",
       "9            Covid, cos’è Gryphon e perché preoccupa    \n",
       "10  Mps: «Superati i dubbi sulla continuità aziend...   \n",
       "11  La salma di Benedetto XVI esposta a San Pietro...   \n",
       "\n",
       "                                                 link  \n",
       "0   https://www.ilsole24ore.com/art/borse-2023-mer...  \n",
       "1   https://www.ilsole24ore.com/art/reddito-cittad...  \n",
       "2   https://www.ilsole24ore.com/art/al-via-saldi-i...  \n",
       "3   https://www.ilsole24ore.com/art/scatta-l-aumen...  \n",
       "4   https://www.ilsole24ore.com/art/germania-456-m...  \n",
       "5   https://www.ilsole24ore.com/art/ucraina-ultime...  \n",
       "6   https://www.ilsole24ore.comhttps://24plus.ilso...  \n",
       "7   https://www.ilsole24ore.comhttps://24plus.ilso...  \n",
       "8   https://www.ilsole24ore.comhttps://24plus.ilso...  \n",
       "9   https://www.ilsole24ore.com/art/che-cos-e-grip...  \n",
       "10  https://www.ilsole24ore.com/art/mps-superati-d...  \n",
       "11  https://www.ilsole24ore.com/art/i-fedeli-rendo...  "
      ]
     },
     "execution_count": 47,
     "metadata": {},
     "output_type": "execute_result"
    }
   ],
   "source": [
    "df.head(15)"
   ]
  }
 ],
 "metadata": {
  "kernelspec": {
   "display_name": "mlp",
   "language": "python",
   "name": "python3"
  },
  "language_info": {
   "codemirror_mode": {
    "name": "ipython",
    "version": 3
   },
   "file_extension": ".py",
   "mimetype": "text/x-python",
   "name": "python",
   "nbconvert_exporter": "python",
   "pygments_lexer": "ipython3",
   "version": "3.8.15"
  },
  "orig_nbformat": 4,
  "vscode": {
   "interpreter": {
    "hash": "95fe2f621b02c291269f6f1de04399c71d5624912c164c733c30837729478179"
   }
  }
 },
 "nbformat": 4,
 "nbformat_minor": 2
}
