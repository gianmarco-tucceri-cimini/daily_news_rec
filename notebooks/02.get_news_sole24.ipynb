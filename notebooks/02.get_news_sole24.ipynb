{
 "cells": [
  {
   "cell_type": "code",
   "execution_count": 1,
   "metadata": {},
   "outputs": [],
   "source": [
    "import requests\n",
    "from bs4 import BeautifulSoup"
   ]
  },
  {
   "cell_type": "code",
   "execution_count": 2,
   "metadata": {},
   "outputs": [],
   "source": [
    "headers = {\"User-Agent\": \"Mozilla/5.0 (X11; Linux x86_64) AppleWebKit/537.36 (KHTML, like Gecko) Chrome/88.0.4324.96 Safari/537.36\"} "
   ]
  },
  {
   "cell_type": "code",
   "execution_count": 3,
   "metadata": {},
   "outputs": [],
   "source": [
    "URL = 'https://www.ilsole24ore.com/'"
   ]
  },
  {
   "cell_type": "code",
   "execution_count": 4,
   "metadata": {},
   "outputs": [],
   "source": [
    "page = requests.get(URL, headers=headers)"
   ]
  },
  {
   "cell_type": "code",
   "execution_count": 5,
   "metadata": {},
   "outputs": [],
   "source": [
    "# Parse the HTML content\n",
    "soup = BeautifulSoup(page.content, 'html.parser')"
   ]
  },
  {
   "cell_type": "code",
   "execution_count": 6,
   "metadata": {},
   "outputs": [],
   "source": [
    "# Seleziona l'elemento\n",
    "articles = soup.select(\"div[class^='col-']\")"
   ]
  },
  {
   "cell_type": "code",
   "execution_count": null,
   "metadata": {},
   "outputs": [],
   "source": [
    "title = articles[11].select_one(\"h3\").select_one(\"a\").text\n",
    "print(title)"
   ]
  },
  {
   "cell_type": "code",
   "execution_count": 21,
   "metadata": {},
   "outputs": [
    {
     "name": "stdout",
     "output_type": "stream",
     "text": [
      "/art/chip-ora-e-crisi-domanda-crollano-profitti-samsung-AEKCemUC\n"
     ]
    }
   ],
   "source": [
    "link = articles[10].select_one('h3').select_one('a')['href']\n",
    "print(link)"
   ]
  },
  {
   "cell_type": "code",
   "execution_count": 22,
   "metadata": {},
   "outputs": [
    {
     "name": "stdout",
     "output_type": "stream",
     "text": [
      "I punti chiavePesano i ritardi nella produzione di iPhoneUtile operativo sceso del 69%Una contrazione di medio periodo2' di letturaI profitti di Samsung Electronics Co. sono crollati ai minimi da circa un decennio nell’ultimo trimestre, facendo registrare un preoccupante -69% e ponendo nuovi, pesantissimi dubbi sullo stato dell’industria dei semiconduttori, ma anche su quello del mercato dell’elettronica di consumo.L’azienda sudcoreana, infatti, paga a caro prezzo il calo verticale della domanda di chip di memoria, smartphone e display, in un contesto globale in cui i consumatori riducono le spese - in particolar modo quelle...\n"
     ]
    }
   ],
   "source": [
    "#estrai testo\n",
    "article = URL + link\n",
    "article_page = requests.get(article, headers=headers)\n",
    "article_soup = BeautifulSoup(article_page.content, 'html.parser')\n",
    "text = article_soup.select_one(\"div[class='col-lg-10']\").text\n",
    "text = text.replace(\"Ascolta la versione audio dell'articolo\", \"\")\n",
    "print(text)\n"
   ]
  },
  {
   "cell_type": "code",
   "execution_count": 24,
   "metadata": {},
   "outputs": [],
   "source": [
    "import pandas as pd\n",
    "\n",
    "# Crea una lista vuota che conterrà i dati estratti\n",
    "data = []\n",
    "\n",
    "# Itera su ogni elemento\n",
    "for i in range(len(articles)-1):\n",
    "    # Estrai il titolo\n",
    "    title = articles[i].select_one(\"h3\").select_one(\"a\").text\n",
    "\n",
    "    # Estrai il link\n",
    "    link = articles[i].select_one('h3').select_one('a')['href']\n",
    "\n",
    "    #estraggo il testo\n",
    "    try:\n",
    "        article = URL + link\n",
    "        article_page = requests.get(article, headers=headers)\n",
    "        article_soup = BeautifulSoup(article_page.content, 'html.parser')\n",
    "        text = article_soup.select_one(\"div[class='col-lg-10']\").text\n",
    "        text = text.replace(\"Ascolta la versione audio dell'articolo\", \"\")\n",
    "    except:\n",
    "        pass\n",
    "\n",
    "    # Aggiungi i dati estratti alla lista\n",
    "    data.append({\n",
    "        'title': title,\n",
    "        'link': 'https://www.ilsole24ore.com' + link,\n",
    "        'text': text\n",
    "    })\n",
    "\n",
    "# Crea un DataFrame Pandas a partire dalla lista di dati\n",
    "df = pd.DataFrame(data)"
   ]
  },
  {
   "cell_type": "code",
   "execution_count": 25,
   "metadata": {},
   "outputs": [
    {
     "data": {
      "text/html": [
       "<div>\n",
       "<style scoped>\n",
       "    .dataframe tbody tr th:only-of-type {\n",
       "        vertical-align: middle;\n",
       "    }\n",
       "\n",
       "    .dataframe tbody tr th {\n",
       "        vertical-align: top;\n",
       "    }\n",
       "\n",
       "    .dataframe thead th {\n",
       "        text-align: right;\n",
       "    }\n",
       "</style>\n",
       "<table border=\"1\" class=\"dataframe\">\n",
       "  <thead>\n",
       "    <tr style=\"text-align: right;\">\n",
       "      <th></th>\n",
       "      <th>title</th>\n",
       "      <th>link</th>\n",
       "      <th>text</th>\n",
       "    </tr>\n",
       "  </thead>\n",
       "  <tbody>\n",
       "    <tr>\n",
       "      <th>0</th>\n",
       "      <td>Alibaba, Jack Ma rinuncia al controllo di Ant ...</td>\n",
       "      <td>https://www.ilsole24ore.com/art/alibaba-jack-m...</td>\n",
       "      <td>1' di letturaCome anticipato qualche mese fa d...</td>\n",
       "    </tr>\n",
       "    <tr>\n",
       "      <th>1</th>\n",
       "      <td>Usa, McCarthy eletto speaker dopo 15 votazioni</td>\n",
       "      <td>https://www.ilsole24ore.com/art/usa-mccarthy-a...</td>\n",
       "      <td>1' di letturaKevin McCarthy è stato eletto spe...</td>\n",
       "    </tr>\n",
       "    <tr>\n",
       "      <th>2</th>\n",
       "      <td>Lotteria Italia 2022, a Bologna il primo premi...</td>\n",
       "      <td>https://www.ilsole24ore.com/art/lotteria-itali...</td>\n",
       "      <td>I punti chiave Roma protagonista Distributi 19...</td>\n",
       "    </tr>\n",
       "    <tr>\n",
       "      <th>3</th>\n",
       "      <td>Borse, il 2023 parte col turbo. Rally Wall Str...</td>\n",
       "      <td>https://www.ilsole24ore.com/art/borse-tokyo-ch...</td>\n",
       "      <td>Le ultime da Radiocor6 gennaio, 17:38 Borsa: E...</td>\n",
       "    </tr>\n",
       "    <tr>\n",
       "      <th>4</th>\n",
       "      <td>Genesis, Silvergate e Huobi: continua il caos...</td>\n",
       "      <td>https://www.ilsole24ore.com/art/genesis-silver...</td>\n",
       "      <td>I punti chiaveI guru dalle stelle alle stalleI...</td>\n",
       "    </tr>\n",
       "    <tr>\n",
       "      <th>5</th>\n",
       "      <td>Covid, cosa è Kraken, la nuova variante super-...</td>\n",
       "      <td>https://www.ilsole24ore.com/art/cosa-e-kraken-...</td>\n",
       "      <td>I punti chiaveSei le versioni sotto la lenteSo...</td>\n",
       "    </tr>\n",
       "    <tr>\n",
       "      <th>6</th>\n",
       "      <td>Superbonus, in arrivo nuovi obblighi per i can...</td>\n",
       "      <td>https://www.ilsole24ore.comhttps://24plus.ilso...</td>\n",
       "      <td>I punti chiaveSei le versioni sotto la lenteSo...</td>\n",
       "    </tr>\n",
       "    <tr>\n",
       "      <th>7</th>\n",
       "      <td>Mutui, cambiare da variabile a fisso con la pr...</td>\n",
       "      <td>https://www.ilsole24ore.comhttps://24plus.ilso...</td>\n",
       "      <td>I punti chiaveSei le versioni sotto la lenteSo...</td>\n",
       "    </tr>\n",
       "    <tr>\n",
       "      <th>8</th>\n",
       "      <td>La «riscoperta» dei bond: portafogli mai così ...</td>\n",
       "      <td>https://www.ilsole24ore.comhttps://24plus.ilso...</td>\n",
       "      <td>I punti chiaveSei le versioni sotto la lenteSo...</td>\n",
       "    </tr>\n",
       "    <tr>\n",
       "      <th>9</th>\n",
       "      <td>Multe, entro il 31 gennaio la decisione dei co...</td>\n",
       "      <td>https://www.ilsole24ore.com/art/multe-entro-31...</td>\n",
       "      <td>I punti chiaveStralcio possibile entro il 31 g...</td>\n",
       "    </tr>\n",
       "    <tr>\n",
       "      <th>10</th>\n",
       "      <td>Chip: ora è crisi della domanda. Crollano i p...</td>\n",
       "      <td>https://www.ilsole24ore.com/art/chip-ora-e-cri...</td>\n",
       "      <td>I punti chiavePesano i ritardi nella produzion...</td>\n",
       "    </tr>\n",
       "    <tr>\n",
       "      <th>11</th>\n",
       "      <td>Addio a Gianluca Vialli: campione, imprendit...</td>\n",
       "      <td>https://www.ilsole24ore.comhttps://24plus.ilso...</td>\n",
       "      <td>I punti chiavePesano i ritardi nella produzion...</td>\n",
       "    </tr>\n",
       "  </tbody>\n",
       "</table>\n",
       "</div>"
      ],
      "text/plain": [
       "                                                title  \\\n",
       "0   Alibaba, Jack Ma rinuncia al controllo di Ant ...   \n",
       "1     Usa, McCarthy eletto speaker dopo 15 votazioni    \n",
       "2   Lotteria Italia 2022, a Bologna il primo premi...   \n",
       "3   Borse, il 2023 parte col turbo. Rally Wall Str...   \n",
       "4    Genesis, Silvergate e Huobi: continua il caos...   \n",
       "5   Covid, cosa è Kraken, la nuova variante super-...   \n",
       "6   Superbonus, in arrivo nuovi obblighi per i can...   \n",
       "7   Mutui, cambiare da variabile a fisso con la pr...   \n",
       "8   La «riscoperta» dei bond: portafogli mai così ...   \n",
       "9   Multe, entro il 31 gennaio la decisione dei co...   \n",
       "10   Chip: ora è crisi della domanda. Crollano i p...   \n",
       "11    Addio a Gianluca Vialli: campione, imprendit...   \n",
       "\n",
       "                                                 link  \\\n",
       "0   https://www.ilsole24ore.com/art/alibaba-jack-m...   \n",
       "1   https://www.ilsole24ore.com/art/usa-mccarthy-a...   \n",
       "2   https://www.ilsole24ore.com/art/lotteria-itali...   \n",
       "3   https://www.ilsole24ore.com/art/borse-tokyo-ch...   \n",
       "4   https://www.ilsole24ore.com/art/genesis-silver...   \n",
       "5   https://www.ilsole24ore.com/art/cosa-e-kraken-...   \n",
       "6   https://www.ilsole24ore.comhttps://24plus.ilso...   \n",
       "7   https://www.ilsole24ore.comhttps://24plus.ilso...   \n",
       "8   https://www.ilsole24ore.comhttps://24plus.ilso...   \n",
       "9   https://www.ilsole24ore.com/art/multe-entro-31...   \n",
       "10  https://www.ilsole24ore.com/art/chip-ora-e-cri...   \n",
       "11  https://www.ilsole24ore.comhttps://24plus.ilso...   \n",
       "\n",
       "                                                 text  \n",
       "0   1' di letturaCome anticipato qualche mese fa d...  \n",
       "1   1' di letturaKevin McCarthy è stato eletto spe...  \n",
       "2   I punti chiave Roma protagonista Distributi 19...  \n",
       "3   Le ultime da Radiocor6 gennaio, 17:38 Borsa: E...  \n",
       "4   I punti chiaveI guru dalle stelle alle stalleI...  \n",
       "5   I punti chiaveSei le versioni sotto la lenteSo...  \n",
       "6   I punti chiaveSei le versioni sotto la lenteSo...  \n",
       "7   I punti chiaveSei le versioni sotto la lenteSo...  \n",
       "8   I punti chiaveSei le versioni sotto la lenteSo...  \n",
       "9   I punti chiaveStralcio possibile entro il 31 g...  \n",
       "10  I punti chiavePesano i ritardi nella produzion...  \n",
       "11  I punti chiavePesano i ritardi nella produzion...  "
      ]
     },
     "execution_count": 25,
     "metadata": {},
     "output_type": "execute_result"
    }
   ],
   "source": [
    "df.head(15)"
   ]
  }
 ],
 "metadata": {
  "kernelspec": {
   "display_name": "mlp",
   "language": "python",
   "name": "python3"
  },
  "language_info": {
   "codemirror_mode": {
    "name": "ipython",
    "version": 3
   },
   "file_extension": ".py",
   "mimetype": "text/x-python",
   "name": "python",
   "nbconvert_exporter": "python",
   "pygments_lexer": "ipython3",
   "version": "3.8.15"
  },
  "orig_nbformat": 4,
  "vscode": {
   "interpreter": {
    "hash": "95fe2f621b02c291269f6f1de04399c71d5624912c164c733c30837729478179"
   }
  }
 },
 "nbformat": 4,
 "nbformat_minor": 2
}
