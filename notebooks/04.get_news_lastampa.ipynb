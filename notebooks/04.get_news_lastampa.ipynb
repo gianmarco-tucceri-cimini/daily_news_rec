{
 "cells": [
  {
   "cell_type": "code",
   "execution_count": 1,
   "metadata": {},
   "outputs": [],
   "source": [
    "import requests\n",
    "from bs4 import BeautifulSoup\n",
    "\n",
    "import pandas as pd\n",
    "\n",
    "import datetime\n"
   ]
  },
  {
   "cell_type": "code",
   "execution_count": 23,
   "metadata": {},
   "outputs": [],
   "source": [
    "df_interactions = pd.read_csv(\"../data/daily_news.csv\", index_col='date')"
   ]
  },
  {
   "cell_type": "code",
   "execution_count": 24,
   "metadata": {},
   "outputs": [
    {
     "data": {
      "text/html": [
       "<div>\n",
       "<style scoped>\n",
       "    .dataframe tbody tr th:only-of-type {\n",
       "        vertical-align: middle;\n",
       "    }\n",
       "\n",
       "    .dataframe tbody tr th {\n",
       "        vertical-align: top;\n",
       "    }\n",
       "\n",
       "    .dataframe thead th {\n",
       "        text-align: right;\n",
       "    }\n",
       "</style>\n",
       "<table border=\"1\" class=\"dataframe\">\n",
       "  <thead>\n",
       "    <tr style=\"text-align: right;\">\n",
       "      <th></th>\n",
       "      <th>buba</th>\n",
       "      <th>title</th>\n",
       "      <th>image</th>\n",
       "      <th>link</th>\n",
       "      <th>likes</th>\n",
       "    </tr>\n",
       "    <tr>\n",
       "      <th>date</th>\n",
       "      <th></th>\n",
       "      <th></th>\n",
       "      <th></th>\n",
       "      <th></th>\n",
       "      <th></th>\n",
       "    </tr>\n",
       "  </thead>\n",
       "  <tbody>\n",
       "    <tr>\n",
       "      <th>2023-01-02</th>\n",
       "      <td>0</td>\n",
       "      <td>Perché nel 2023 benzina e autostrade costano d...</td>\n",
       "      <td>https://media-assets.wired.it/photos/636cf8a50...</td>\n",
       "      <td>https://www.wired.it/article/2023-benzina-auto...</td>\n",
       "      <td>0</td>\n",
       "    </tr>\n",
       "    <tr>\n",
       "      <th>2023-01-02</th>\n",
       "      <td>1</td>\n",
       "      <td>Il vaccino mRna per l'influenza che si sommini...</td>\n",
       "      <td>https://media-assets.wired.it/photos/63b2c85b5...</td>\n",
       "      <td>https://www.wired.it/article/vaccino-mrna-infl...</td>\n",
       "      <td>0</td>\n",
       "    </tr>\n",
       "    <tr>\n",
       "      <th>2023-01-02</th>\n",
       "      <td>2</td>\n",
       "      <td>Come sono stati catturati i peggiori cyber cri...</td>\n",
       "      <td>https://media-assets.wired.it/photos/63b2b5ba0...</td>\n",
       "      <td>https://www.wired.it/article/peggiori-cyber-cr...</td>\n",
       "      <td>0</td>\n",
       "    </tr>\n",
       "    <tr>\n",
       "      <th>2023-01-02</th>\n",
       "      <td>3</td>\n",
       "      <td>Jeremy Renner travolto dalla neve: è in condiz...</td>\n",
       "      <td>https://media-assets.wired.it/photos/63b29901a...</td>\n",
       "      <td>https://www.wired.it/article/jeremy-renner-ric...</td>\n",
       "      <td>0</td>\n",
       "    </tr>\n",
       "    <tr>\n",
       "      <th>2023-01-02</th>\n",
       "      <td>4</td>\n",
       "      <td>Harry Potter: tutto quello che sappiamo sul re...</td>\n",
       "      <td>https://media-assets.wired.it/photos/63b2b03e5...</td>\n",
       "      <td>https://www.wired.it/article/harry-potter-rebo...</td>\n",
       "      <td>0</td>\n",
       "    </tr>\n",
       "  </tbody>\n",
       "</table>\n",
       "</div>"
      ],
      "text/plain": [
       "            buba                                              title  \\\n",
       "date                                                                  \n",
       "2023-01-02     0  Perché nel 2023 benzina e autostrade costano d...   \n",
       "2023-01-02     1  Il vaccino mRna per l'influenza che si sommini...   \n",
       "2023-01-02     2  Come sono stati catturati i peggiori cyber cri...   \n",
       "2023-01-02     3  Jeremy Renner travolto dalla neve: è in condiz...   \n",
       "2023-01-02     4  Harry Potter: tutto quello che sappiamo sul re...   \n",
       "\n",
       "                                                        image  \\\n",
       "date                                                            \n",
       "2023-01-02  https://media-assets.wired.it/photos/636cf8a50...   \n",
       "2023-01-02  https://media-assets.wired.it/photos/63b2c85b5...   \n",
       "2023-01-02  https://media-assets.wired.it/photos/63b2b5ba0...   \n",
       "2023-01-02  https://media-assets.wired.it/photos/63b29901a...   \n",
       "2023-01-02  https://media-assets.wired.it/photos/63b2b03e5...   \n",
       "\n",
       "                                                         link  likes  \n",
       "date                                                                  \n",
       "2023-01-02  https://www.wired.it/article/2023-benzina-auto...      0  \n",
       "2023-01-02  https://www.wired.it/article/vaccino-mrna-infl...      0  \n",
       "2023-01-02  https://www.wired.it/article/peggiori-cyber-cr...      0  \n",
       "2023-01-02  https://www.wired.it/article/jeremy-renner-ric...      0  \n",
       "2023-01-02  https://www.wired.it/article/harry-potter-rebo...      0  "
      ]
     },
     "execution_count": 24,
     "metadata": {},
     "output_type": "execute_result"
    }
   ],
   "source": [
    "df_interactions.head()"
   ]
  },
  {
   "cell_type": "code",
   "execution_count": 26,
   "metadata": {},
   "outputs": [
    {
     "data": {
      "text/html": [
       "<div>\n",
       "<style scoped>\n",
       "    .dataframe tbody tr th:only-of-type {\n",
       "        vertical-align: middle;\n",
       "    }\n",
       "\n",
       "    .dataframe tbody tr th {\n",
       "        vertical-align: top;\n",
       "    }\n",
       "\n",
       "    .dataframe thead th {\n",
       "        text-align: right;\n",
       "    }\n",
       "</style>\n",
       "<table border=\"1\" class=\"dataframe\">\n",
       "  <thead>\n",
       "    <tr style=\"text-align: right;\">\n",
       "      <th></th>\n",
       "      <th>title</th>\n",
       "      <th>image</th>\n",
       "      <th>link</th>\n",
       "      <th>likes</th>\n",
       "    </tr>\n",
       "    <tr>\n",
       "      <th>date</th>\n",
       "      <th></th>\n",
       "      <th></th>\n",
       "      <th></th>\n",
       "      <th></th>\n",
       "    </tr>\n",
       "  </thead>\n",
       "  <tbody>\n",
       "    <tr>\n",
       "      <th>2023-01-02</th>\n",
       "      <td>Perché nel 2023 benzina e autostrade costano d...</td>\n",
       "      <td>https://media-assets.wired.it/photos/636cf8a50...</td>\n",
       "      <td>https://www.wired.it/article/2023-benzina-auto...</td>\n",
       "      <td>0</td>\n",
       "    </tr>\n",
       "    <tr>\n",
       "      <th>2023-01-02</th>\n",
       "      <td>Il vaccino mRna per l'influenza che si sommini...</td>\n",
       "      <td>https://media-assets.wired.it/photos/63b2c85b5...</td>\n",
       "      <td>https://www.wired.it/article/vaccino-mrna-infl...</td>\n",
       "      <td>0</td>\n",
       "    </tr>\n",
       "    <tr>\n",
       "      <th>2023-01-02</th>\n",
       "      <td>Come sono stati catturati i peggiori cyber cri...</td>\n",
       "      <td>https://media-assets.wired.it/photos/63b2b5ba0...</td>\n",
       "      <td>https://www.wired.it/article/peggiori-cyber-cr...</td>\n",
       "      <td>0</td>\n",
       "    </tr>\n",
       "    <tr>\n",
       "      <th>2023-01-02</th>\n",
       "      <td>Jeremy Renner travolto dalla neve: è in condiz...</td>\n",
       "      <td>https://media-assets.wired.it/photos/63b29901a...</td>\n",
       "      <td>https://www.wired.it/article/jeremy-renner-ric...</td>\n",
       "      <td>0</td>\n",
       "    </tr>\n",
       "    <tr>\n",
       "      <th>2023-01-02</th>\n",
       "      <td>Harry Potter: tutto quello che sappiamo sul re...</td>\n",
       "      <td>https://media-assets.wired.it/photos/63b2b03e5...</td>\n",
       "      <td>https://www.wired.it/article/harry-potter-rebo...</td>\n",
       "      <td>0</td>\n",
       "    </tr>\n",
       "  </tbody>\n",
       "</table>\n",
       "</div>"
      ],
      "text/plain": [
       "                                                        title  \\\n",
       "date                                                            \n",
       "2023-01-02  Perché nel 2023 benzina e autostrade costano d...   \n",
       "2023-01-02  Il vaccino mRna per l'influenza che si sommini...   \n",
       "2023-01-02  Come sono stati catturati i peggiori cyber cri...   \n",
       "2023-01-02  Jeremy Renner travolto dalla neve: è in condiz...   \n",
       "2023-01-02  Harry Potter: tutto quello che sappiamo sul re...   \n",
       "\n",
       "                                                        image  \\\n",
       "date                                                            \n",
       "2023-01-02  https://media-assets.wired.it/photos/636cf8a50...   \n",
       "2023-01-02  https://media-assets.wired.it/photos/63b2c85b5...   \n",
       "2023-01-02  https://media-assets.wired.it/photos/63b2b5ba0...   \n",
       "2023-01-02  https://media-assets.wired.it/photos/63b29901a...   \n",
       "2023-01-02  https://media-assets.wired.it/photos/63b2b03e5...   \n",
       "\n",
       "                                                         link  likes  \n",
       "date                                                                  \n",
       "2023-01-02  https://www.wired.it/article/2023-benzina-auto...      0  \n",
       "2023-01-02  https://www.wired.it/article/vaccino-mrna-infl...      0  \n",
       "2023-01-02  https://www.wired.it/article/peggiori-cyber-cr...      0  \n",
       "2023-01-02  https://www.wired.it/article/jeremy-renner-ric...      0  \n",
       "2023-01-02  https://www.wired.it/article/harry-potter-rebo...      0  "
      ]
     },
     "execution_count": 26,
     "metadata": {},
     "output_type": "execute_result"
    }
   ],
   "source": [
    "df_interactions.head()\n"
   ]
  },
  {
   "cell_type": "code",
   "execution_count": 27,
   "metadata": {},
   "outputs": [],
   "source": [
    "df_interactions.to_csv('../data/daily_news.csv')"
   ]
  },
  {
   "cell_type": "code",
   "execution_count": 2,
   "metadata": {},
   "outputs": [],
   "source": [
    "headers = {\"User-Agent\": \"Mozilla/5.0 (X11; Linux x86_64) AppleWebKit/537.36 (KHTML, like Gecko) Chrome/88.0.4324.96 Safari/537.36\"} "
   ]
  },
  {
   "cell_type": "code",
   "execution_count": 3,
   "metadata": {},
   "outputs": [],
   "source": [
    "URL = 'https://www.lastampa.it'"
   ]
  },
  {
   "cell_type": "code",
   "execution_count": 4,
   "metadata": {},
   "outputs": [],
   "source": [
    "page = requests.get(URL, headers=headers)"
   ]
  },
  {
   "cell_type": "code",
   "execution_count": 5,
   "metadata": {},
   "outputs": [],
   "source": [
    "# Parse the HTML content\n",
    "soup = BeautifulSoup(page.content, 'html.parser')"
   ]
  },
  {
   "cell_type": "code",
   "execution_count": 6,
   "metadata": {},
   "outputs": [],
   "source": [
    "# Seleziona l'elemento\n",
    "articles = soup.select(\"article[class^='entry default']\")"
   ]
  },
  {
   "cell_type": "code",
   "execution_count": 13,
   "metadata": {},
   "outputs": [
    {
     "name": "stdout",
     "output_type": "stream",
     "text": [
      "Accoltellata alla stazione Termini, l’ipotesi: colpita da uno sbandato perché non gli ha dato dei soldi\n"
     ]
    }
   ],
   "source": [
    "title = articles[1].select_one('h2').text.strip()\n",
    "print(title)"
   ]
  },
  {
   "cell_type": "code",
   "execution_count": 14,
   "metadata": {},
   "outputs": [
    {
     "name": "stdout",
     "output_type": "stream",
     "text": [
      "https://www.lastampa.it/cronaca/2023/01/02/news/le_coltellate_i_blitz_il_movente_nelle_riprese_video_la_verita_sullaccoltellamento_di_termini-12443967/\n"
     ]
    }
   ],
   "source": [
    "link = articles[1].select_one('a')['href']\n",
    "print(link)"
   ]
  },
  {
   "cell_type": "code",
   "execution_count": 26,
   "metadata": {},
   "outputs": [
    {
     "name": "stdout",
     "output_type": "stream",
     "text": [
      "<article class=\"entry default\" data-sindex=\"1\">\n",
      "<figure class=\"entry__media\">\n",
      "<a href=\"https://www.lastampa.it/cronaca/2023/01/02/news/zaia_intercettato_sulla_guerra_dei_tamponi_rapidi_crisanti_lo_faro_schiantare-12443591/\">\n",
      "<picture>\n",
      "<source height=\"220\" media=\"(max-width: 767px)\" srcset=\"https://www.gedistatic.it/content/gnn/img/lastampa/2023/01/02/185413663-bfa8625d-39cf-4826-adeb-6e636067e787.jpg?webp\" type=\"image/webp\" width=\"390\"/>\n",
      "<source height=\"720\" srcset=\"https://www.gedistatic.it/content/gnn/img/lastampa/2023/01/02/185413659-777fdcb7-4e50-44c6-abbe-0bc8eb01053c.jpg?webp\" type=\"image/webp\" width=\"1280\"/>\n",
      "<source height=\"220\" media=\"(max-width: 767px)\" srcset=\"https://www.gedistatic.it/content/gnn/img/lastampa/2023/01/02/185413663-bfa8625d-39cf-4826-adeb-6e636067e787.jpg\" width=\"390\"/>\n",
      "<img height=\"720\" src=\"https://www.gedistatic.it/content/gnn/img/lastampa/2023/01/02/185413659-777fdcb7-4e50-44c6-abbe-0bc8eb01053c.jpg\" width=\"1280\"/>\n",
      "</picture>\n",
      "</a>\n",
      "</figure>\n",
      "<div class=\"entry__content\">\n",
      "<span class=\"entry__overtitle\">\n",
      "<p>\n",
      "            il covid\n",
      "           </p>\n",
      "</span>\n",
      "<h2 class=\"entry__title\">\n",
      "<a href=\"https://www.lastampa.it/cronaca/2023/01/02/news/zaia_intercettato_sulla_guerra_dei_tamponi_rapidi_crisanti_lo_faro_schiantare-12443591/\">\n",
      "            Zaia, Crisanti e la guerra delle intercettazioni: “I tamponi? Lo faremo schiantare”. Gli scienzati contro il virologo che si dimette dall'università di Padova. La mail: “Voglio essere libero”\n",
      "           </a>\n",
      "</h2>\n",
      "<aside class=\"entry__links\">\n",
      "<p>\n",
      "<a href=\"https://www.lastampa.it/cronaca/2023/01/02/news/le_dimissioni_di_crisanti_dai_rapporti_tesi_con_lateneo_alla_mail_inviata_alla_rettrice_voglio_essere_libero-12444199/\">\n",
      "<strong>\n",
      "              LA DECISIONE\n",
      "             </strong>\n",
      "             Le dimissioni di Crisanti, dai rapporti tesi con l’Ateneo alla Pec alla rettrice\n",
      "             <em>\n",
      "              ENRICO FERRO\n",
      "             </em>\n",
      "</a>\n",
      "</p>\n",
      "<p>\n",
      "<a href=\"https://www.lastampa.it/salute/2022/12/30/news/covid_cina_giappone_gryphon-381195802/\">\n",
      "<strong>\n",
      "              LA SCHEDA L'effetto Cina e i timori di nuove ondate in Italia. Come sarà Covid 2023? di\n",
      "             </strong>\n",
      "<em>\n",
      "<strong>\n",
      "               Roberta Villa\n",
      "              </strong>\n",
      "</em>\n",
      "</a>\n",
      "</p>\n",
      "<p>\n",
      "</p>\n",
      "</aside>\n",
      "</div>\n",
      "</article>\n"
     ]
    }
   ],
   "source": [
    "print(articles[0])"
   ]
  },
  {
   "cell_type": "code",
   "execution_count": 35,
   "metadata": {},
   "outputs": [],
   "source": [
    "for i in range(len(articles)):\n",
    "    try:\n",
    "       imagine = articles[i].select_one(\"source\")['data-srcset']\n",
    "    except:\n",
    "        pass\n"
   ]
  },
  {
   "cell_type": "code",
   "execution_count": 43,
   "metadata": {},
   "outputs": [],
   "source": [
    "# Crea una lista vuota che conterrà i dati estratti\n",
    "data = []\n",
    "\n",
    "# Itera su ogni elemento\n",
    "for i in range(len(articles)):\n",
    "    # Estrai il titolo\n",
    "    title = articles[i].select_one('h2').text.strip()\n",
    "\n",
    "    # Estrai il link\n",
    "    link = articles[i].select_one('a')['href']\n",
    "\n",
    "    #estrai immagine\n",
    "    try:\n",
    "       img = articles[i].select_one(\"source\")['data-srcset']\n",
    "    except:\n",
    "        pass\n",
    "\n",
    "    # Aggiungi i dati estratti alla lista\n",
    "    data.append({\n",
    "        'title': title,\n",
    "        'image': img,\n",
    "        'link': link\n",
    "    })\n",
    "\n",
    "# Crea un DataFrame Pandas a partire dalla lista di dati\n",
    "df = pd.DataFrame(data)"
   ]
  },
  {
   "cell_type": "code",
   "execution_count": 44,
   "metadata": {},
   "outputs": [],
   "source": [
    "df['date'] = datetime.datetime.today().strftime(\"%Y-%m-%d\")"
   ]
  },
  {
   "cell_type": "code",
   "execution_count": 45,
   "metadata": {},
   "outputs": [
    {
     "data": {
      "text/html": [
       "<div>\n",
       "<style scoped>\n",
       "    .dataframe tbody tr th:only-of-type {\n",
       "        vertical-align: middle;\n",
       "    }\n",
       "\n",
       "    .dataframe tbody tr th {\n",
       "        vertical-align: top;\n",
       "    }\n",
       "\n",
       "    .dataframe thead th {\n",
       "        text-align: right;\n",
       "    }\n",
       "</style>\n",
       "<table border=\"1\" class=\"dataframe\">\n",
       "  <thead>\n",
       "    <tr style=\"text-align: right;\">\n",
       "      <th></th>\n",
       "      <th>title</th>\n",
       "      <th>image</th>\n",
       "      <th>link</th>\n",
       "    </tr>\n",
       "    <tr>\n",
       "      <th>date</th>\n",
       "      <th></th>\n",
       "      <th></th>\n",
       "      <th></th>\n",
       "    </tr>\n",
       "  </thead>\n",
       "  <tbody>\n",
       "    <tr>\n",
       "      <th>2023-01-02</th>\n",
       "      <td>Zaia, Crisanti e la guerra delle intercettazio...</td>\n",
       "      <td>https://www.gedistatic.it/content/gnn/img/last...</td>\n",
       "      <td>https://www.lastampa.it/cronaca/2023/01/02/new...</td>\n",
       "    </tr>\n",
       "    <tr>\n",
       "      <th>2023-01-02</th>\n",
       "      <td>Accoltellata alla stazione Termini, l’ipotesi:...</td>\n",
       "      <td>https://www.gedistatic.it/content/gnn/img/last...</td>\n",
       "      <td>https://www.lastampa.it/cronaca/2023/01/02/new...</td>\n",
       "    </tr>\n",
       "    <tr>\n",
       "      <th>2023-01-02</th>\n",
       "      <td>La corsa della benzina dopo la fine degli scon...</td>\n",
       "      <td>https://www.gedistatic.it/content/gnn/img/last...</td>\n",
       "      <td>https://www.lastampa.it/economia/2023/01/02/ne...</td>\n",
       "    </tr>\n",
       "    <tr>\n",
       "      <th>2023-01-02</th>\n",
       "      <td>Qatargate: via l’immunità per Cozzolino e Tara...</td>\n",
       "      <td>https://www.gedistatic.it/content/gnn/img/last...</td>\n",
       "      <td>https://www.lastampa.it/esteri/2023/01/02/news...</td>\n",
       "    </tr>\n",
       "    <tr>\n",
       "      <th>2023-01-02</th>\n",
       "      <td>Guerra Russia Ucraina, droni su Kiev, black ou...</td>\n",
       "      <td>https://www.gedistatic.it/content/gnn/img/last...</td>\n",
       "      <td>https://www.lastampa.it/esteri/2023/01/02/dire...</td>\n",
       "    </tr>\n",
       "  </tbody>\n",
       "</table>\n",
       "</div>"
      ],
      "text/plain": [
       "                                                        title  \\\n",
       "date                                                            \n",
       "2023-01-02  Zaia, Crisanti e la guerra delle intercettazio...   \n",
       "2023-01-02  Accoltellata alla stazione Termini, l’ipotesi:...   \n",
       "2023-01-02  La corsa della benzina dopo la fine degli scon...   \n",
       "2023-01-02  Qatargate: via l’immunità per Cozzolino e Tara...   \n",
       "2023-01-02  Guerra Russia Ucraina, droni su Kiev, black ou...   \n",
       "\n",
       "                                                        image  \\\n",
       "date                                                            \n",
       "2023-01-02  https://www.gedistatic.it/content/gnn/img/last...   \n",
       "2023-01-02  https://www.gedistatic.it/content/gnn/img/last...   \n",
       "2023-01-02  https://www.gedistatic.it/content/gnn/img/last...   \n",
       "2023-01-02  https://www.gedistatic.it/content/gnn/img/last...   \n",
       "2023-01-02  https://www.gedistatic.it/content/gnn/img/last...   \n",
       "\n",
       "                                                         link  \n",
       "date                                                           \n",
       "2023-01-02  https://www.lastampa.it/cronaca/2023/01/02/new...  \n",
       "2023-01-02  https://www.lastampa.it/cronaca/2023/01/02/new...  \n",
       "2023-01-02  https://www.lastampa.it/economia/2023/01/02/ne...  \n",
       "2023-01-02  https://www.lastampa.it/esteri/2023/01/02/news...  \n",
       "2023-01-02  https://www.lastampa.it/esteri/2023/01/02/dire...  "
      ]
     },
     "execution_count": 45,
     "metadata": {},
     "output_type": "execute_result"
    }
   ],
   "source": [
    "df.set_index('date', inplace=True)"
   ]
  },
  {
   "cell_type": "code",
   "execution_count": 46,
   "metadata": {},
   "outputs": [
    {
     "data": {
      "text/html": [
       "<div>\n",
       "<style scoped>\n",
       "    .dataframe tbody tr th:only-of-type {\n",
       "        vertical-align: middle;\n",
       "    }\n",
       "\n",
       "    .dataframe tbody tr th {\n",
       "        vertical-align: top;\n",
       "    }\n",
       "\n",
       "    .dataframe thead th {\n",
       "        text-align: right;\n",
       "    }\n",
       "</style>\n",
       "<table border=\"1\" class=\"dataframe\">\n",
       "  <thead>\n",
       "    <tr style=\"text-align: right;\">\n",
       "      <th></th>\n",
       "      <th>title</th>\n",
       "      <th>image</th>\n",
       "      <th>link</th>\n",
       "    </tr>\n",
       "    <tr>\n",
       "      <th>date</th>\n",
       "      <th></th>\n",
       "      <th></th>\n",
       "      <th></th>\n",
       "    </tr>\n",
       "  </thead>\n",
       "  <tbody>\n",
       "    <tr>\n",
       "      <th>2023-01-02</th>\n",
       "      <td>Da Glory a Matilde, la carica dei nuovi nati: ...</td>\n",
       "      <td>https://www.gedistatic.it/content/gnn/img/last...</td>\n",
       "      <td>https://www.lastampa.it/torino/2023/01/02/news...</td>\n",
       "    </tr>\n",
       "    <tr>\n",
       "      <th>2023-01-02</th>\n",
       "      <td>2023, l’anno del Liberty a Torino: a Palazzo M...</td>\n",
       "      <td>https://www.gedistatic.it/content/gnn/img/last...</td>\n",
       "      <td>https://www.lastampa.it/torino/2023/01/02/news...</td>\n",
       "    </tr>\n",
       "    <tr>\n",
       "      <th>2023-01-02</th>\n",
       "      <td>“2022, un anno da record per il Teatro Stabile...</td>\n",
       "      <td>https://www.gedistatic.it/content/gnn/img/last...</td>\n",
       "      <td>https://www.lastampa.it/torino/2023/01/02/news...</td>\n",
       "    </tr>\n",
       "    <tr>\n",
       "      <th>2023-01-02</th>\n",
       "      <td>Della Casa: “Torneremo a riempire i cinema se ...</td>\n",
       "      <td>https://www.gedistatic.it/content/gnn/img/last...</td>\n",
       "      <td>https://www.lastampa.it/torino/2023/01/02/news...</td>\n",
       "    </tr>\n",
       "    <tr>\n",
       "      <th>2023-01-02</th>\n",
       "      <td>Ecco la selezione delle migliori offerte della...</td>\n",
       "      <td>https://www.gedistatic.it/content/gnn/img/last...</td>\n",
       "      <td>https://www.consigli.it/migliori-offerte-del-g...</td>\n",
       "    </tr>\n",
       "  </tbody>\n",
       "</table>\n",
       "</div>"
      ],
      "text/plain": [
       "                                                        title  \\\n",
       "date                                                            \n",
       "2023-01-02  Da Glory a Matilde, la carica dei nuovi nati: ...   \n",
       "2023-01-02  2023, l’anno del Liberty a Torino: a Palazzo M...   \n",
       "2023-01-02  “2022, un anno da record per il Teatro Stabile...   \n",
       "2023-01-02  Della Casa: “Torneremo a riempire i cinema se ...   \n",
       "2023-01-02  Ecco la selezione delle migliori offerte della...   \n",
       "\n",
       "                                                        image  \\\n",
       "date                                                            \n",
       "2023-01-02  https://www.gedistatic.it/content/gnn/img/last...   \n",
       "2023-01-02  https://www.gedistatic.it/content/gnn/img/last...   \n",
       "2023-01-02  https://www.gedistatic.it/content/gnn/img/last...   \n",
       "2023-01-02  https://www.gedistatic.it/content/gnn/img/last...   \n",
       "2023-01-02  https://www.gedistatic.it/content/gnn/img/last...   \n",
       "\n",
       "                                                         link  \n",
       "date                                                           \n",
       "2023-01-02  https://www.lastampa.it/torino/2023/01/02/news...  \n",
       "2023-01-02  https://www.lastampa.it/torino/2023/01/02/news...  \n",
       "2023-01-02  https://www.lastampa.it/torino/2023/01/02/news...  \n",
       "2023-01-02  https://www.lastampa.it/torino/2023/01/02/news...  \n",
       "2023-01-02  https://www.consigli.it/migliori-offerte-del-g...  "
      ]
     },
     "execution_count": 46,
     "metadata": {},
     "output_type": "execute_result"
    }
   ],
   "source": [
    "df.tail()"
   ]
  },
  {
   "cell_type": "code",
   "execution_count": 42,
   "metadata": {},
   "outputs": [],
   "source": [
    "df.to_csv('data/daily_news.csv', mode='a', header=False)"
   ]
  }
 ],
 "metadata": {
  "kernelspec": {
   "display_name": "mlp",
   "language": "python",
   "name": "python3"
  },
  "language_info": {
   "codemirror_mode": {
    "name": "ipython",
    "version": 3
   },
   "file_extension": ".py",
   "mimetype": "text/x-python",
   "name": "python",
   "nbconvert_exporter": "python",
   "pygments_lexer": "ipython3",
   "version": "3.8.15"
  },
  "orig_nbformat": 4,
  "vscode": {
   "interpreter": {
    "hash": "95fe2f621b02c291269f6f1de04399c71d5624912c164c733c30837729478179"
   }
  }
 },
 "nbformat": 4,
 "nbformat_minor": 2
}
