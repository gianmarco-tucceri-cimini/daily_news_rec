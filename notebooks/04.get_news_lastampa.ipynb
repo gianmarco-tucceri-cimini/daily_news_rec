{
 "cells": [
  {
   "cell_type": "code",
   "execution_count": 1,
   "metadata": {},
   "outputs": [],
   "source": [
    "import requests\n",
    "from bs4 import BeautifulSoup\n",
    "\n",
    "import pandas as pd\n",
    "\n",
    "import datetime\n"
   ]
  },
  {
   "cell_type": "code",
   "execution_count": 2,
   "metadata": {},
   "outputs": [],
   "source": [
    "headers = {\"User-Agent\": \"Mozilla/5.0 (X11; Linux x86_64) AppleWebKit/537.36 (KHTML, like Gecko) Chrome/88.0.4324.96 Safari/537.36\"} "
   ]
  },
  {
   "cell_type": "code",
   "execution_count": 3,
   "metadata": {},
   "outputs": [],
   "source": [
    "URL = 'https://www.lastampa.it'"
   ]
  },
  {
   "cell_type": "code",
   "execution_count": 4,
   "metadata": {},
   "outputs": [],
   "source": [
    "page = requests.get(URL, headers=headers)"
   ]
  },
  {
   "cell_type": "code",
   "execution_count": 5,
   "metadata": {},
   "outputs": [],
   "source": [
    "# Parse the HTML content\n",
    "soup = BeautifulSoup(page.content, 'html.parser')"
   ]
  },
  {
   "cell_type": "code",
   "execution_count": 6,
   "metadata": {},
   "outputs": [],
   "source": [
    "# Seleziona l'elemento\n",
    "articles = soup.select(\"article[class^='entry default']\")"
   ]
  },
  {
   "cell_type": "code",
   "execution_count": 14,
   "metadata": {},
   "outputs": [
    {
     "name": "stdout",
     "output_type": "stream",
     "text": [
      "Ecco la Quarta guerra mondiale: l’Ucraina è la prima linea europea\n"
     ]
    }
   ],
   "source": [
    "title = articles[1].select_one('h2').text.strip()\n",
    "print(title)"
   ]
  },
  {
   "cell_type": "code",
   "execution_count": 20,
   "metadata": {},
   "outputs": [
    {
     "name": "stdout",
     "output_type": "stream",
     "text": [
      "https://www.lastampa.it/esteri/2023/01/07/news/lucraina_e_la_prima_linea_europea_della_quarta_guerra_mondiale-12451315/\n"
     ]
    }
   ],
   "source": [
    "link = articles[1].select_one('a')['href']\n",
    "print(link)"
   ]
  },
  {
   "cell_type": "code",
   "execution_count": 22,
   "metadata": {},
   "outputs": [
    {
     "name": "stdout",
     "output_type": "stream",
     "text": [
      "Abbonati per leggere anche\n"
     ]
    }
   ],
   "source": [
    "article = link\n",
    "article_page = requests.get(article, headers=headers)\n",
    "article_soup = BeautifulSoup(article_page.content, 'html.parser')\n",
    "text = article_soup.select_one(\"div[class='story__content']\").text.strip()\n",
    "print(text)\n"
   ]
  },
  {
   "cell_type": "code",
   "execution_count": 35,
   "metadata": {},
   "outputs": [],
   "source": [
    "for i in range(len(articles)):\n",
    "    try:\n",
    "       imagine = articles[i].select_one(\"source\")['data-srcset']\n",
    "    except:\n",
    "        pass\n"
   ]
  },
  {
   "cell_type": "code",
   "execution_count": 27,
   "metadata": {},
   "outputs": [
    {
     "ename": "KeyError",
     "evalue": "'data-srcset'",
     "output_type": "error",
     "traceback": [
      "\u001b[0;31m---------------------------------------------------------------------------\u001b[0m",
      "\u001b[0;31mKeyError\u001b[0m                                  Traceback (most recent call last)",
      "Cell \u001b[0;32mIn[27], line 1\u001b[0m\n\u001b[0;32m----> 1\u001b[0m img \u001b[39m=\u001b[39m articles[\u001b[39m0\u001b[39;49m]\u001b[39m.\u001b[39;49mselect_one(\u001b[39m\"\u001b[39;49m\u001b[39msource\u001b[39;49m\u001b[39m\"\u001b[39;49m)[\u001b[39m'\u001b[39;49m\u001b[39mdata-srcset\u001b[39;49m\u001b[39m'\u001b[39;49m]\n\u001b[1;32m      2\u001b[0m \u001b[39mprint\u001b[39m(img)\n",
      "File \u001b[0;32m~/miniconda/envs/mlp/lib/python3.8/site-packages/bs4/element.py:1519\u001b[0m, in \u001b[0;36mTag.__getitem__\u001b[0;34m(self, key)\u001b[0m\n\u001b[1;32m   1516\u001b[0m \u001b[39mdef\u001b[39;00m \u001b[39m__getitem__\u001b[39m(\u001b[39mself\u001b[39m, key):\n\u001b[1;32m   1517\u001b[0m     \u001b[39m\"\"\"tag[key] returns the value of the 'key' attribute for the Tag,\u001b[39;00m\n\u001b[1;32m   1518\u001b[0m \u001b[39m    and throws an exception if it's not there.\"\"\"\u001b[39;00m\n\u001b[0;32m-> 1519\u001b[0m     \u001b[39mreturn\u001b[39;00m \u001b[39mself\u001b[39;49m\u001b[39m.\u001b[39;49mattrs[key]\n",
      "\u001b[0;31mKeyError\u001b[0m: 'data-srcset'"
     ]
    }
   ],
   "source": [
    "img = articles[0].select_one(\"source\")['data-srcset']\n",
    "print(img)"
   ]
  },
  {
   "cell_type": "code",
   "execution_count": 36,
   "metadata": {},
   "outputs": [],
   "source": [
    "# Crea una lista vuota che conterrà i dati estratti\n",
    "data = []\n",
    "\n",
    "# Itera su ogni elemento\n",
    "for i in range(len(articles)):\n",
    "    # Estrai il titolo\n",
    "    title = articles[i].select_one('h2').text.strip()\n",
    "\n",
    "    # Estrai il link\n",
    "    link = articles[i].select_one('a')['href']\n",
    "\n",
    "    #estrai immagine\n",
    "    try:\n",
    "        img = articles[i].select_one(\"source\")['data-srcset']\n",
    "    except:\n",
    "        try:\n",
    "            img = articles[i].select_one(\"img\")['src']\n",
    "        except:\n",
    "            pass\n",
    "\n",
    "    #estraggo il testo\n",
    "    try:\n",
    "        article = link\n",
    "        article_page = requests.get(article, headers=headers)\n",
    "        article_soup = BeautifulSoup(article_page.content, 'html.parser')\n",
    "        text = article_soup.select_one(\"div[class='story__content']\").text.strip()\n",
    "    except:\n",
    "        pass\n",
    "\n",
    "    # Aggiungi i dati estratti alla lista\n",
    "    data.append({\n",
    "        'title': title,\n",
    "        'image': img,\n",
    "        'link': link,\n",
    "        'text': text\n",
    "    })\n",
    "\n",
    "# Crea un DataFrame Pandas a partire dalla lista di dati\n",
    "df = pd.DataFrame(data)"
   ]
  },
  {
   "cell_type": "code",
   "execution_count": 37,
   "metadata": {},
   "outputs": [],
   "source": [
    "df['date'] = datetime.datetime.today().strftime(\"%Y-%m-%d\")"
   ]
  },
  {
   "cell_type": "code",
   "execution_count": 38,
   "metadata": {},
   "outputs": [],
   "source": [
    "df.set_index('date', inplace=True)"
   ]
  },
  {
   "cell_type": "code",
   "execution_count": 39,
   "metadata": {},
   "outputs": [
    {
     "data": {
      "text/html": [
       "<div>\n",
       "<style scoped>\n",
       "    .dataframe tbody tr th:only-of-type {\n",
       "        vertical-align: middle;\n",
       "    }\n",
       "\n",
       "    .dataframe tbody tr th {\n",
       "        vertical-align: top;\n",
       "    }\n",
       "\n",
       "    .dataframe thead th {\n",
       "        text-align: right;\n",
       "    }\n",
       "</style>\n",
       "<table border=\"1\" class=\"dataframe\">\n",
       "  <thead>\n",
       "    <tr style=\"text-align: right;\">\n",
       "      <th></th>\n",
       "      <th>title</th>\n",
       "      <th>image</th>\n",
       "      <th>link</th>\n",
       "      <th>text</th>\n",
       "    </tr>\n",
       "    <tr>\n",
       "      <th>date</th>\n",
       "      <th></th>\n",
       "      <th></th>\n",
       "      <th></th>\n",
       "      <th></th>\n",
       "    </tr>\n",
       "  </thead>\n",
       "  <tbody>\n",
       "    <tr>\n",
       "      <th>2023-01-07</th>\n",
       "      <td>Se il pubblico non sa più garantire l’assistenza</td>\n",
       "      <td>https://www.gedistatic.it/content/gnn/img/last...</td>\n",
       "      <td>https://www.lastampa.it/torino/2023/01/06/news...</td>\n",
       "      <td>Abbonati per leggere anche</td>\n",
       "    </tr>\n",
       "    <tr>\n",
       "      <th>2023-01-07</th>\n",
       "      <td>Dopo tre anni Ivrea ritrova il suo Carnevale</td>\n",
       "      <td>https://www.gedistatic.it/content/gnn/img/last...</td>\n",
       "      <td>https://www.lastampa.it/torino/2023/01/06/news...</td>\n",
       "      <td>Abbonati per leggere anche</td>\n",
       "    </tr>\n",
       "    <tr>\n",
       "      <th>2023-01-07</th>\n",
       "      <td>Via le ultime impalcature, piazza San Carlo to...</td>\n",
       "      <td>https://www.gedistatic.it/content/gnn/img/last...</td>\n",
       "      <td>https://www.lastampa.it/torino/2023/01/06/news...</td>\n",
       "      <td>Da poche ore piazza San Carlo è tornata libera...</td>\n",
       "    </tr>\n",
       "    <tr>\n",
       "      <th>2023-01-07</th>\n",
       "      <td>Basta “Pasta e basta”: l’ultima notte di Nicol...</td>\n",
       "      <td>https://www.gedistatic.it/content/gnn/img/last...</td>\n",
       "      <td>https://www.lastampa.it/torino/2023/01/05/news...</td>\n",
       "      <td>Abbonati per leggere anche</td>\n",
       "    </tr>\n",
       "    <tr>\n",
       "      <th>2023-01-07</th>\n",
       "      <td>Ecco la selezione delle migliori offerte della...</td>\n",
       "      <td>https://www.gedistatic.it/content/gnn/img/last...</td>\n",
       "      <td>https://www.consigli.it/migliori-offerte-del-g...</td>\n",
       "      <td>Abbonati per leggere anche</td>\n",
       "    </tr>\n",
       "  </tbody>\n",
       "</table>\n",
       "</div>"
      ],
      "text/plain": [
       "                                                        title  \\\n",
       "date                                                            \n",
       "2023-01-07   Se il pubblico non sa più garantire l’assistenza   \n",
       "2023-01-07       Dopo tre anni Ivrea ritrova il suo Carnevale   \n",
       "2023-01-07  Via le ultime impalcature, piazza San Carlo to...   \n",
       "2023-01-07  Basta “Pasta e basta”: l’ultima notte di Nicol...   \n",
       "2023-01-07  Ecco la selezione delle migliori offerte della...   \n",
       "\n",
       "                                                        image  \\\n",
       "date                                                            \n",
       "2023-01-07  https://www.gedistatic.it/content/gnn/img/last...   \n",
       "2023-01-07  https://www.gedistatic.it/content/gnn/img/last...   \n",
       "2023-01-07  https://www.gedistatic.it/content/gnn/img/last...   \n",
       "2023-01-07  https://www.gedistatic.it/content/gnn/img/last...   \n",
       "2023-01-07  https://www.gedistatic.it/content/gnn/img/last...   \n",
       "\n",
       "                                                         link  \\\n",
       "date                                                            \n",
       "2023-01-07  https://www.lastampa.it/torino/2023/01/06/news...   \n",
       "2023-01-07  https://www.lastampa.it/torino/2023/01/06/news...   \n",
       "2023-01-07  https://www.lastampa.it/torino/2023/01/06/news...   \n",
       "2023-01-07  https://www.lastampa.it/torino/2023/01/05/news...   \n",
       "2023-01-07  https://www.consigli.it/migliori-offerte-del-g...   \n",
       "\n",
       "                                                         text  \n",
       "date                                                           \n",
       "2023-01-07                         Abbonati per leggere anche  \n",
       "2023-01-07                         Abbonati per leggere anche  \n",
       "2023-01-07  Da poche ore piazza San Carlo è tornata libera...  \n",
       "2023-01-07                         Abbonati per leggere anche  \n",
       "2023-01-07                         Abbonati per leggere anche  "
      ]
     },
     "execution_count": 39,
     "metadata": {},
     "output_type": "execute_result"
    }
   ],
   "source": [
    "df.tail()"
   ]
  },
  {
   "cell_type": "code",
   "execution_count": 42,
   "metadata": {},
   "outputs": [],
   "source": [
    "df.to_csv('data/daily_news.csv', mode='a', header=False)"
   ]
  }
 ],
 "metadata": {
  "kernelspec": {
   "display_name": "mlp",
   "language": "python",
   "name": "python3"
  },
  "language_info": {
   "codemirror_mode": {
    "name": "ipython",
    "version": 3
   },
   "file_extension": ".py",
   "mimetype": "text/x-python",
   "name": "python",
   "nbconvert_exporter": "python",
   "pygments_lexer": "ipython3",
   "version": "3.8.15"
  },
  "orig_nbformat": 4,
  "vscode": {
   "interpreter": {
    "hash": "95fe2f621b02c291269f6f1de04399c71d5624912c164c733c30837729478179"
   }
  }
 },
 "nbformat": 4,
 "nbformat_minor": 2
}
