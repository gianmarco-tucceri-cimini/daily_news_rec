{
 "cells": [
  {
   "cell_type": "code",
   "execution_count": 56,
   "metadata": {},
   "outputs": [],
   "source": [
    "import requests\n",
    "from bs4 import BeautifulSoup\n",
    "\n",
    "import pandas as pd\n",
    "\n",
    "import datetime\n",
    "\n",
    "import csv\n",
    "\n",
    "from datetime import date, datetime"
   ]
  },
  {
   "cell_type": "code",
   "execution_count": 2,
   "metadata": {},
   "outputs": [],
   "source": [
    "headers = {\"User-Agent\": \"Mozilla/5.0 (X11; Linux x86_64) AppleWebKit/537.36 (KHTML, like Gecko) Chrome/88.0.4324.96 Safari/537.36\"} "
   ]
  },
  {
   "cell_type": "code",
   "execution_count": 3,
   "metadata": {},
   "outputs": [],
   "source": [
    "URL = 'https://www.limesonline.com'"
   ]
  },
  {
   "cell_type": "code",
   "execution_count": 4,
   "metadata": {},
   "outputs": [],
   "source": [
    "page = requests.get(URL, headers=headers)"
   ]
  },
  {
   "cell_type": "code",
   "execution_count": 5,
   "metadata": {},
   "outputs": [],
   "source": [
    "# Parse the HTML content\n",
    "soup = BeautifulSoup(page.content, 'html.parser')"
   ]
  },
  {
   "cell_type": "code",
   "execution_count": 9,
   "metadata": {},
   "outputs": [
    {
     "data": {
      "text/plain": [
       "33"
      ]
     },
     "execution_count": 9,
     "metadata": {},
     "output_type": "execute_result"
    }
   ],
   "source": [
    "# Seleziona l'elemento\n",
    "articles = soup.select(\"article\")\n",
    "len(articles)"
   ]
  },
  {
   "cell_type": "code",
   "execution_count": 41,
   "metadata": {},
   "outputs": [
    {
     "name": "stdout",
     "output_type": "stream",
     "text": [
      "<article class=\"first post-68404 page type-page status-publish hentry\">\n",
      "<div class=\"thumbnail\">\n",
      "<span class=\"image-over\"></span>\n",
      "<div class=\"occhiello\">\n",
      "<p><span style=\"color: #800000;\"><strong><a href=\"https://www.limesonline.com/sommari-rivista/lintelligenza-non-e-artificiale\" style=\"color: #800000;\">dal nuovo numero di Limes</a></strong></span></p>\n",
      "</div>\n",
      "<a href=\"https://www.limesonline.com/cartaceo/la-vera-posta-in-gioco-dellintelligenza-artificiale\" title=\"LA VERA POSTA IN GIOCO DELL’INTELLIGENZA ARTIFICIALE\"><img src=\"https://cdn.gelestatic.it/limesonline/www/2022/12/7-Tutto-un-altro-mondo-820x425.jpg\"/></a> </div>\n",
      "<div class=\"detail\">\n",
      "<h2 class=\"post-title\"><a href=\"https://www.limesonline.com/cartaceo/la-vera-posta-in-gioco-dellintelligenza-artificiale\" title=\"LA VERA POSTA IN GIOCO DELL’INTELLIGENZA ARTIFICIALE\">LA VERA POSTA IN GIOCO DELL’INTELLIGENZA ARTIFICIALE</a></h2>\n",
      "<p style=\"text-align: justify;\">La competizione sulle macchine che apprendono si gioca per il dominio nella quarta rivoluzione industriale. Ma non deciderà la sfida Usa-Cina, sarà invece decisa dal suo esito. Più delle applicazioni belliche, conterà l’uso dell’Ai nell’agricoltura.</p>\n",
      "<div class=\"autori\">\n",
      "<p>di Jacob L. Shapiro</p>\n",
      "</div>\n",
      "</div>\n",
      "</article>\n"
     ]
    }
   ],
   "source": [
    "print(articles[1])"
   ]
  },
  {
   "cell_type": "code",
   "execution_count": 42,
   "metadata": {},
   "outputs": [
    {
     "name": "stdout",
     "output_type": "stream",
     "text": [
      "https://cdn.gelestatic.it/limesonline/www/2022/12/7-Tutto-un-altro-mondo-820x425.jpg\n"
     ]
    }
   ],
   "source": [
    "img = articles[1].select_one(\"img\")['src']\n",
    "print(img)"
   ]
  },
  {
   "cell_type": "code",
   "execution_count": 35,
   "metadata": {},
   "outputs": [
    {
     "name": "stdout",
     "output_type": "stream",
     "text": [
      "L'INTELLIGENZA NON È ARTIFICIALE\n"
     ]
    }
   ],
   "source": [
    "title = articles[0].select_one(\"h2[class^='post-title']\").text\n",
    "print(title)"
   ]
  },
  {
   "cell_type": "code",
   "execution_count": 34,
   "metadata": {},
   "outputs": [
    {
     "name": "stdout",
     "output_type": "stream",
     "text": [
      "https://www.limesonline.com/lintelligenza-non-e-artificiale-il-numero-1222-di-limes/130549\n"
     ]
    }
   ],
   "source": [
    "link = articles[0].select_one(\"a\")['href']\n",
    "print(link)"
   ]
  },
  {
   "cell_type": "code",
   "execution_count": 48,
   "metadata": {},
   "outputs": [],
   "source": [
    "data = []\n",
    "\n",
    "# Itera su ogni elemento\n",
    "for i in range(5):\n",
    "    # Estrai il titolo\n",
    "    title = articles[i].select_one(\"h2[class^='post-title']\").text\n",
    "\n",
    "    # Estrai il link\n",
    "    link = articles[i].select_one(\"a\")['href']\n",
    "\n",
    "    #estrai immagine\n",
    "    img = articles[1].select_one(\"img\")['src']\n",
    "\n",
    "\n",
    "    # Aggiungi i dati estratti alla lista\n",
    "    data.append({\n",
    "        'title': title,\n",
    "        \"image\": img,\n",
    "        'link': link,\n",
    "        'text': None\n",
    "    })\n",
    "\n",
    "# Crea un DataFrame Pandas a partire dalla lista di dati\n",
    "df = pd.DataFrame(data)"
   ]
  },
  {
   "cell_type": "code",
   "execution_count": 49,
   "metadata": {},
   "outputs": [
    {
     "data": {
      "text/html": [
       "<div>\n",
       "<style scoped>\n",
       "    .dataframe tbody tr th:only-of-type {\n",
       "        vertical-align: middle;\n",
       "    }\n",
       "\n",
       "    .dataframe tbody tr th {\n",
       "        vertical-align: top;\n",
       "    }\n",
       "\n",
       "    .dataframe thead th {\n",
       "        text-align: right;\n",
       "    }\n",
       "</style>\n",
       "<table border=\"1\" class=\"dataframe\">\n",
       "  <thead>\n",
       "    <tr style=\"text-align: right;\">\n",
       "      <th></th>\n",
       "      <th>title</th>\n",
       "      <th>image</th>\n",
       "      <th>link</th>\n",
       "      <th>text</th>\n",
       "    </tr>\n",
       "  </thead>\n",
       "  <tbody>\n",
       "    <tr>\n",
       "      <th>0</th>\n",
       "      <td>L'INTELLIGENZA NON È ARTIFICIALE</td>\n",
       "      <td>https://cdn.gelestatic.it/limesonline/www/2022...</td>\n",
       "      <td>https://www.limesonline.com/lintelligenza-non-...</td>\n",
       "      <td>None</td>\n",
       "    </tr>\n",
       "    <tr>\n",
       "      <th>1</th>\n",
       "      <td>LA VERA POSTA IN GIOCO DELL’INTELLIGENZA ARTIF...</td>\n",
       "      <td>https://cdn.gelestatic.it/limesonline/www/2022...</td>\n",
       "      <td>https://www.limesonline.com/sommari-rivista/li...</td>\n",
       "      <td>None</td>\n",
       "    </tr>\n",
       "    <tr>\n",
       "      <th>2</th>\n",
       "      <td>L'ASSALTO ALLE ISTITUZIONI DEL BRASILE DEMOCRA...</td>\n",
       "      <td>https://cdn.gelestatic.it/limesonline/www/2022...</td>\n",
       "      <td>https://www.limesonline.com/tag/brasile</td>\n",
       "      <td>None</td>\n",
       "    </tr>\n",
       "    <tr>\n",
       "      <th>3</th>\n",
       "      <td>IL CANADA VUOLE PIÙ ARTICO</td>\n",
       "      <td>https://cdn.gelestatic.it/limesonline/www/2022...</td>\n",
       "      <td>https://www.limesonline.com/tag/artico</td>\n",
       "      <td>None</td>\n",
       "    </tr>\n",
       "    <tr>\n",
       "      <th>4</th>\n",
       "      <td>🔍🌎 LE GUERRE D’UCRAINA, GLI ASSALTI BOLSONARIS...</td>\n",
       "      <td>https://cdn.gelestatic.it/limesonline/www/2022...</td>\n",
       "      <td>https://www.limesonline.com/category/il-mondo-...</td>\n",
       "      <td>None</td>\n",
       "    </tr>\n",
       "  </tbody>\n",
       "</table>\n",
       "</div>"
      ],
      "text/plain": [
       "                                               title  \\\n",
       "0                   L'INTELLIGENZA NON È ARTIFICIALE   \n",
       "1  LA VERA POSTA IN GIOCO DELL’INTELLIGENZA ARTIF...   \n",
       "2  L'ASSALTO ALLE ISTITUZIONI DEL BRASILE DEMOCRA...   \n",
       "3                         IL CANADA VUOLE PIÙ ARTICO   \n",
       "4  🔍🌎 LE GUERRE D’UCRAINA, GLI ASSALTI BOLSONARIS...   \n",
       "\n",
       "                                               image  \\\n",
       "0  https://cdn.gelestatic.it/limesonline/www/2022...   \n",
       "1  https://cdn.gelestatic.it/limesonline/www/2022...   \n",
       "2  https://cdn.gelestatic.it/limesonline/www/2022...   \n",
       "3  https://cdn.gelestatic.it/limesonline/www/2022...   \n",
       "4  https://cdn.gelestatic.it/limesonline/www/2022...   \n",
       "\n",
       "                                                link  text  \n",
       "0  https://www.limesonline.com/lintelligenza-non-...  None  \n",
       "1  https://www.limesonline.com/sommari-rivista/li...  None  \n",
       "2            https://www.limesonline.com/tag/brasile  None  \n",
       "3             https://www.limesonline.com/tag/artico  None  \n",
       "4  https://www.limesonline.com/category/il-mondo-...  None  "
      ]
     },
     "execution_count": 49,
     "metadata": {},
     "output_type": "execute_result"
    }
   ],
   "source": [
    "df.head()"
   ]
  },
  {
   "cell_type": "code",
   "execution_count": 50,
   "metadata": {},
   "outputs": [
    {
     "data": {
      "text/html": [
       "<div>\n",
       "<style scoped>\n",
       "    .dataframe tbody tr th:only-of-type {\n",
       "        vertical-align: middle;\n",
       "    }\n",
       "\n",
       "    .dataframe tbody tr th {\n",
       "        vertical-align: top;\n",
       "    }\n",
       "\n",
       "    .dataframe thead th {\n",
       "        text-align: right;\n",
       "    }\n",
       "</style>\n",
       "<table border=\"1\" class=\"dataframe\">\n",
       "  <thead>\n",
       "    <tr style=\"text-align: right;\">\n",
       "      <th></th>\n",
       "      <th>title</th>\n",
       "      <th>image</th>\n",
       "      <th>link</th>\n",
       "      <th>text</th>\n",
       "      <th>logo</th>\n",
       "      <th>summary</th>\n",
       "      <th>likes</th>\n",
       "    </tr>\n",
       "  </thead>\n",
       "  <tbody>\n",
       "    <tr>\n",
       "      <th>0</th>\n",
       "      <td>L'INTELLIGENZA NON È ARTIFICIALE</td>\n",
       "      <td>https://cdn.gelestatic.it/limesonline/www/2022...</td>\n",
       "      <td>https://www.limesonline.com/lintelligenza-non-...</td>\n",
       "      <td>None</td>\n",
       "      <td>https://cdn.gelestatic.it/limesonline/www/2015...</td>\n",
       "      <td>None</td>\n",
       "      <td>0</td>\n",
       "    </tr>\n",
       "    <tr>\n",
       "      <th>1</th>\n",
       "      <td>LA VERA POSTA IN GIOCO DELL’INTELLIGENZA ARTIF...</td>\n",
       "      <td>https://cdn.gelestatic.it/limesonline/www/2022...</td>\n",
       "      <td>https://www.limesonline.com/sommari-rivista/li...</td>\n",
       "      <td>None</td>\n",
       "      <td>https://cdn.gelestatic.it/limesonline/www/2015...</td>\n",
       "      <td>None</td>\n",
       "      <td>0</td>\n",
       "    </tr>\n",
       "    <tr>\n",
       "      <th>2</th>\n",
       "      <td>L'ASSALTO ALLE ISTITUZIONI DEL BRASILE DEMOCRA...</td>\n",
       "      <td>https://cdn.gelestatic.it/limesonline/www/2022...</td>\n",
       "      <td>https://www.limesonline.com/tag/brasile</td>\n",
       "      <td>None</td>\n",
       "      <td>https://cdn.gelestatic.it/limesonline/www/2015...</td>\n",
       "      <td>None</td>\n",
       "      <td>0</td>\n",
       "    </tr>\n",
       "    <tr>\n",
       "      <th>3</th>\n",
       "      <td>IL CANADA VUOLE PIÙ ARTICO</td>\n",
       "      <td>https://cdn.gelestatic.it/limesonline/www/2022...</td>\n",
       "      <td>https://www.limesonline.com/tag/artico</td>\n",
       "      <td>None</td>\n",
       "      <td>https://cdn.gelestatic.it/limesonline/www/2015...</td>\n",
       "      <td>None</td>\n",
       "      <td>0</td>\n",
       "    </tr>\n",
       "    <tr>\n",
       "      <th>4</th>\n",
       "      <td>🔍🌎 LE GUERRE D’UCRAINA, GLI ASSALTI BOLSONARIS...</td>\n",
       "      <td>https://cdn.gelestatic.it/limesonline/www/2022...</td>\n",
       "      <td>https://www.limesonline.com/category/il-mondo-...</td>\n",
       "      <td>None</td>\n",
       "      <td>https://cdn.gelestatic.it/limesonline/www/2015...</td>\n",
       "      <td>None</td>\n",
       "      <td>0</td>\n",
       "    </tr>\n",
       "  </tbody>\n",
       "</table>\n",
       "</div>"
      ],
      "text/plain": [
       "                                               title  \\\n",
       "0                   L'INTELLIGENZA NON È ARTIFICIALE   \n",
       "1  LA VERA POSTA IN GIOCO DELL’INTELLIGENZA ARTIF...   \n",
       "2  L'ASSALTO ALLE ISTITUZIONI DEL BRASILE DEMOCRA...   \n",
       "3                         IL CANADA VUOLE PIÙ ARTICO   \n",
       "4  🔍🌎 LE GUERRE D’UCRAINA, GLI ASSALTI BOLSONARIS...   \n",
       "\n",
       "                                               image  \\\n",
       "0  https://cdn.gelestatic.it/limesonline/www/2022...   \n",
       "1  https://cdn.gelestatic.it/limesonline/www/2022...   \n",
       "2  https://cdn.gelestatic.it/limesonline/www/2022...   \n",
       "3  https://cdn.gelestatic.it/limesonline/www/2022...   \n",
       "4  https://cdn.gelestatic.it/limesonline/www/2022...   \n",
       "\n",
       "                                                link  text  \\\n",
       "0  https://www.limesonline.com/lintelligenza-non-...  None   \n",
       "1  https://www.limesonline.com/sommari-rivista/li...  None   \n",
       "2            https://www.limesonline.com/tag/brasile  None   \n",
       "3             https://www.limesonline.com/tag/artico  None   \n",
       "4  https://www.limesonline.com/category/il-mondo-...  None   \n",
       "\n",
       "                                                logo summary  likes  \n",
       "0  https://cdn.gelestatic.it/limesonline/www/2015...    None      0  \n",
       "1  https://cdn.gelestatic.it/limesonline/www/2015...    None      0  \n",
       "2  https://cdn.gelestatic.it/limesonline/www/2015...    None      0  \n",
       "3  https://cdn.gelestatic.it/limesonline/www/2015...    None      0  \n",
       "4  https://cdn.gelestatic.it/limesonline/www/2015...    None      0  "
      ]
     },
     "execution_count": 50,
     "metadata": {},
     "output_type": "execute_result"
    }
   ],
   "source": [
    "df['logo'] = 'https://cdn.gelestatic.it/limesonline/www/2015/03/new-logo-1200.png'\n",
    "df['summary'] = None\n",
    "df['likes'] = 0\n",
    "df.head()"
   ]
  },
  {
   "cell_type": "code",
   "execution_count": 52,
   "metadata": {},
   "outputs": [],
   "source": [
    "df['date'] = datetime.today().strftime(\"%Y-%m-%d\")"
   ]
  },
  {
   "cell_type": "code",
   "execution_count": 55,
   "metadata": {},
   "outputs": [
    {
     "data": {
      "text/html": [
       "<div>\n",
       "<style scoped>\n",
       "    .dataframe tbody tr th:only-of-type {\n",
       "        vertical-align: middle;\n",
       "    }\n",
       "\n",
       "    .dataframe tbody tr th {\n",
       "        vertical-align: top;\n",
       "    }\n",
       "\n",
       "    .dataframe thead th {\n",
       "        text-align: right;\n",
       "    }\n",
       "</style>\n",
       "<table border=\"1\" class=\"dataframe\">\n",
       "  <thead>\n",
       "    <tr style=\"text-align: right;\">\n",
       "      <th></th>\n",
       "      <th>title</th>\n",
       "      <th>image</th>\n",
       "      <th>link</th>\n",
       "      <th>text</th>\n",
       "      <th>logo</th>\n",
       "      <th>summary</th>\n",
       "      <th>likes</th>\n",
       "    </tr>\n",
       "    <tr>\n",
       "      <th>date</th>\n",
       "      <th></th>\n",
       "      <th></th>\n",
       "      <th></th>\n",
       "      <th></th>\n",
       "      <th></th>\n",
       "      <th></th>\n",
       "      <th></th>\n",
       "    </tr>\n",
       "  </thead>\n",
       "  <tbody>\n",
       "    <tr>\n",
       "      <th>2023-01-10</th>\n",
       "      <td>L'INTELLIGENZA NON È ARTIFICIALE</td>\n",
       "      <td>https://cdn.gelestatic.it/limesonline/www/2022...</td>\n",
       "      <td>https://www.limesonline.com/lintelligenza-non-...</td>\n",
       "      <td>None</td>\n",
       "      <td>https://cdn.gelestatic.it/limesonline/www/2015...</td>\n",
       "      <td>None</td>\n",
       "      <td>0</td>\n",
       "    </tr>\n",
       "    <tr>\n",
       "      <th>2023-01-10</th>\n",
       "      <td>LA VERA POSTA IN GIOCO DELL’INTELLIGENZA ARTIF...</td>\n",
       "      <td>https://cdn.gelestatic.it/limesonline/www/2022...</td>\n",
       "      <td>https://www.limesonline.com/sommari-rivista/li...</td>\n",
       "      <td>None</td>\n",
       "      <td>https://cdn.gelestatic.it/limesonline/www/2015...</td>\n",
       "      <td>None</td>\n",
       "      <td>0</td>\n",
       "    </tr>\n",
       "    <tr>\n",
       "      <th>2023-01-10</th>\n",
       "      <td>L'ASSALTO ALLE ISTITUZIONI DEL BRASILE DEMOCRA...</td>\n",
       "      <td>https://cdn.gelestatic.it/limesonline/www/2022...</td>\n",
       "      <td>https://www.limesonline.com/tag/brasile</td>\n",
       "      <td>None</td>\n",
       "      <td>https://cdn.gelestatic.it/limesonline/www/2015...</td>\n",
       "      <td>None</td>\n",
       "      <td>0</td>\n",
       "    </tr>\n",
       "    <tr>\n",
       "      <th>2023-01-10</th>\n",
       "      <td>IL CANADA VUOLE PIÙ ARTICO</td>\n",
       "      <td>https://cdn.gelestatic.it/limesonline/www/2022...</td>\n",
       "      <td>https://www.limesonline.com/tag/artico</td>\n",
       "      <td>None</td>\n",
       "      <td>https://cdn.gelestatic.it/limesonline/www/2015...</td>\n",
       "      <td>None</td>\n",
       "      <td>0</td>\n",
       "    </tr>\n",
       "    <tr>\n",
       "      <th>2023-01-10</th>\n",
       "      <td>🔍🌎 LE GUERRE D’UCRAINA, GLI ASSALTI BOLSONARIS...</td>\n",
       "      <td>https://cdn.gelestatic.it/limesonline/www/2022...</td>\n",
       "      <td>https://www.limesonline.com/category/il-mondo-...</td>\n",
       "      <td>None</td>\n",
       "      <td>https://cdn.gelestatic.it/limesonline/www/2015...</td>\n",
       "      <td>None</td>\n",
       "      <td>0</td>\n",
       "    </tr>\n",
       "  </tbody>\n",
       "</table>\n",
       "</div>"
      ],
      "text/plain": [
       "                                                        title  \\\n",
       "date                                                            \n",
       "2023-01-10                   L'INTELLIGENZA NON È ARTIFICIALE   \n",
       "2023-01-10  LA VERA POSTA IN GIOCO DELL’INTELLIGENZA ARTIF...   \n",
       "2023-01-10  L'ASSALTO ALLE ISTITUZIONI DEL BRASILE DEMOCRA...   \n",
       "2023-01-10                         IL CANADA VUOLE PIÙ ARTICO   \n",
       "2023-01-10  🔍🌎 LE GUERRE D’UCRAINA, GLI ASSALTI BOLSONARIS...   \n",
       "\n",
       "                                                        image  \\\n",
       "date                                                            \n",
       "2023-01-10  https://cdn.gelestatic.it/limesonline/www/2022...   \n",
       "2023-01-10  https://cdn.gelestatic.it/limesonline/www/2022...   \n",
       "2023-01-10  https://cdn.gelestatic.it/limesonline/www/2022...   \n",
       "2023-01-10  https://cdn.gelestatic.it/limesonline/www/2022...   \n",
       "2023-01-10  https://cdn.gelestatic.it/limesonline/www/2022...   \n",
       "\n",
       "                                                         link  text  \\\n",
       "date                                                                  \n",
       "2023-01-10  https://www.limesonline.com/lintelligenza-non-...  None   \n",
       "2023-01-10  https://www.limesonline.com/sommari-rivista/li...  None   \n",
       "2023-01-10            https://www.limesonline.com/tag/brasile  None   \n",
       "2023-01-10             https://www.limesonline.com/tag/artico  None   \n",
       "2023-01-10  https://www.limesonline.com/category/il-mondo-...  None   \n",
       "\n",
       "                                                         logo summary  likes  \n",
       "date                                                                          \n",
       "2023-01-10  https://cdn.gelestatic.it/limesonline/www/2015...    None      0  \n",
       "2023-01-10  https://cdn.gelestatic.it/limesonline/www/2015...    None      0  \n",
       "2023-01-10  https://cdn.gelestatic.it/limesonline/www/2015...    None      0  \n",
       "2023-01-10  https://cdn.gelestatic.it/limesonline/www/2015...    None      0  \n",
       "2023-01-10  https://cdn.gelestatic.it/limesonline/www/2015...    None      0  "
      ]
     },
     "execution_count": 55,
     "metadata": {},
     "output_type": "execute_result"
    }
   ],
   "source": [
    "df = df.reindex(['date', 'title', 'image', 'link', 'text', 'logo', 'summary', 'likes'], axis=1)\n",
    "df = df.set_index('date')\n",
    "df.head()"
   ]
  },
  {
   "cell_type": "code",
   "execution_count": 57,
   "metadata": {},
   "outputs": [],
   "source": [
    "df.to_csv('../data/daily_news.csv', quotechar='\"', quoting=csv.QUOTE_ALL, mode='a', header=False)"
   ]
  }
 ],
 "metadata": {
  "kernelspec": {
   "display_name": "mlp",
   "language": "python",
   "name": "python3"
  },
  "language_info": {
   "codemirror_mode": {
    "name": "ipython",
    "version": 3
   },
   "file_extension": ".py",
   "mimetype": "text/x-python",
   "name": "python",
   "nbconvert_exporter": "python",
   "pygments_lexer": "ipython3",
   "version": "3.8.15 | packaged by conda-forge | (default, Nov 22 2022, 08:52:09) \n[Clang 14.0.6 ]"
  },
  "orig_nbformat": 4,
  "vscode": {
   "interpreter": {
    "hash": "95fe2f621b02c291269f6f1de04399c71d5624912c164c733c30837729478179"
   }
  }
 },
 "nbformat": 4,
 "nbformat_minor": 2
}
