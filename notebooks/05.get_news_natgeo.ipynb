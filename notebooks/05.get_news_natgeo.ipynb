{
 "cells": [
  {
   "cell_type": "code",
   "execution_count": 1,
   "metadata": {},
   "outputs": [],
   "source": [
    "import requests\n",
    "from bs4 import BeautifulSoup\n",
    "\n",
    "import pandas as pd\n",
    "\n",
    "import datetime\n"
   ]
  },
  {
   "cell_type": "code",
   "execution_count": 2,
   "metadata": {},
   "outputs": [],
   "source": [
    "headers = {\"User-Agent\": \"Mozilla/5.0 (X11; Linux x86_64) AppleWebKit/537.36 (KHTML, like Gecko) Chrome/88.0.4324.96 Safari/537.36\"} "
   ]
  },
  {
   "cell_type": "code",
   "execution_count": 3,
   "metadata": {},
   "outputs": [],
   "source": [
    "URL = 'https://www.nationalgeographic.it'"
   ]
  },
  {
   "cell_type": "code",
   "execution_count": 4,
   "metadata": {},
   "outputs": [],
   "source": [
    "page = requests.get(URL, headers=headers)"
   ]
  },
  {
   "cell_type": "code",
   "execution_count": 5,
   "metadata": {},
   "outputs": [],
   "source": [
    "# Parse the HTML content\n",
    "soup = BeautifulSoup(page.content, 'html.parser')"
   ]
  },
  {
   "cell_type": "code",
   "execution_count": 6,
   "metadata": {},
   "outputs": [],
   "source": [
    "# Seleziona l'elemento\n",
    "articles = soup.select(\"div[class^='css-2zs3eh']\")"
   ]
  },
  {
   "cell_type": "code",
   "execution_count": 7,
   "metadata": {},
   "outputs": [
    {
     "name": "stdout",
     "output_type": "stream",
     "text": [
      "\"Avatar: La Via dell'Acqua\": James Cameron racconta la scienza dietro all'universo immaginario di Pandora\n"
     ]
    }
   ],
   "source": [
    "title = articles[0].select_one('a')['title']\n",
    "print(title)"
   ]
  },
  {
   "cell_type": "code",
   "execution_count": 12,
   "metadata": {},
   "outputs": [
    {
     "name": "stdout",
     "output_type": "stream",
     "text": [
      "/diventa-un-explorer-anche-tu\n"
     ]
    }
   ],
   "source": [
    "link = articles[5].select_one('a')['href']\n",
    "print(link)"
   ]
  },
  {
   "cell_type": "code",
   "execution_count": 13,
   "metadata": {},
   "outputs": [
    {
     "name": "stdout",
     "output_type": "stream",
     "text": [
      "https://www.nationalgeographic.it/diventa-un-explorer-anche-tu\n"
     ]
    }
   ],
   "source": [
    "article = URL + link\n",
    "print(article)"
   ]
  },
  {
   "cell_type": "code",
   "execution_count": 14,
   "metadata": {},
   "outputs": [
    {
     "ename": "AttributeError",
     "evalue": "'NoneType' object has no attribute 'text'",
     "output_type": "error",
     "traceback": [
      "\u001b[0;31m---------------------------------------------------------------------------\u001b[0m",
      "\u001b[0;31mAttributeError\u001b[0m                            Traceback (most recent call last)",
      "Cell \u001b[0;32mIn[14], line 4\u001b[0m\n\u001b[1;32m      2\u001b[0m article_page \u001b[39m=\u001b[39m requests\u001b[39m.\u001b[39mget(article, headers\u001b[39m=\u001b[39mheaders)\n\u001b[1;32m      3\u001b[0m article_soup \u001b[39m=\u001b[39m BeautifulSoup(article_page\u001b[39m.\u001b[39mcontent, \u001b[39m'\u001b[39m\u001b[39mhtml.parser\u001b[39m\u001b[39m'\u001b[39m)\n\u001b[0;32m----> 4\u001b[0m text \u001b[39m=\u001b[39m article_soup\u001b[39m.\u001b[39;49mselect_one(\u001b[39m\"\u001b[39;49m\u001b[39mdiv[class=\u001b[39;49m\u001b[39m'\u001b[39;49m\u001b[39mngart__main-col css-1b7gtbf\u001b[39;49m\u001b[39m'\u001b[39;49m\u001b[39m]\u001b[39;49m\u001b[39m\"\u001b[39;49m)\u001b[39m.\u001b[39;49mtext\n\u001b[1;32m      5\u001b[0m \u001b[39mprint\u001b[39m(text)\n",
      "\u001b[0;31mAttributeError\u001b[0m: 'NoneType' object has no attribute 'text'"
     ]
    }
   ],
   "source": [
    "article = URL + link\n",
    "article_page = requests.get(article, headers=headers)\n",
    "article_soup = BeautifulSoup(article_page.content, 'html.parser')\n",
    "text = article_soup.select_one(\"div[class='ngart__main-col css-1b7gtbf']\").text\n",
    "print(text)\n"
   ]
  },
  {
   "cell_type": "code",
   "execution_count": 15,
   "metadata": {},
   "outputs": [],
   "source": [
    "# Crea una lista vuota che conterrà i dati estratti\n",
    "data = []\n",
    "\n",
    "# Itera su ogni elemento\n",
    "for i in range(len(articles)):\n",
    "    # Estrai il titolo\n",
    "    title = articles[i].select_one('a')['title']\n",
    "\n",
    "    # Estrai il link\n",
    "    link = articles[i].select_one('a')['href']\n",
    "\n",
    "    #estrai immagine\n",
    "    try:\n",
    "       img = articles[i].select_one('img')['src']\n",
    "    except:\n",
    "        pass\n",
    "\n",
    "    #estraggo il testo\n",
    "    try:\n",
    "        article = URL + link\n",
    "        article_page = requests.get(article, headers=headers)\n",
    "        article_soup = BeautifulSoup(article_page.content, 'html.parser')\n",
    "        text = article_soup.select_one(\"div[class='ngart__main-col css-1b7gtbf']\").text\n",
    "    except:\n",
    "        pass\n",
    "\n",
    "    # Aggiungi i dati estratti alla lista\n",
    "    data.append({\n",
    "        'title': title,\n",
    "        'image': img,\n",
    "        'link': URL + link,\n",
    "        'text': text\n",
    "    })\n",
    "\n",
    "# Crea un DataFrame Pandas a partire dalla lista di dati\n",
    "df = pd.DataFrame(data)"
   ]
  },
  {
   "cell_type": "code",
   "execution_count": 16,
   "metadata": {},
   "outputs": [
    {
     "data": {
      "text/html": [
       "<div>\n",
       "<style scoped>\n",
       "    .dataframe tbody tr th:only-of-type {\n",
       "        vertical-align: middle;\n",
       "    }\n",
       "\n",
       "    .dataframe tbody tr th {\n",
       "        vertical-align: top;\n",
       "    }\n",
       "\n",
       "    .dataframe thead th {\n",
       "        text-align: right;\n",
       "    }\n",
       "</style>\n",
       "<table border=\"1\" class=\"dataframe\">\n",
       "  <thead>\n",
       "    <tr style=\"text-align: right;\">\n",
       "      <th></th>\n",
       "      <th>title</th>\n",
       "      <th>image</th>\n",
       "      <th>link</th>\n",
       "      <th>text</th>\n",
       "    </tr>\n",
       "  </thead>\n",
       "  <tbody>\n",
       "    <tr>\n",
       "      <th>0</th>\n",
       "      <td>I dinosauri sapevano nuotare?</td>\n",
       "      <td>https://static.nationalgeographic.it/files/sty...</td>\n",
       "      <td>https://www.nationalgeographic.it/scienza/2022...</td>\n",
       "      <td>Questa ricostruzione raffigura il Natovenator ...</td>\n",
       "    </tr>\n",
       "    <tr>\n",
       "      <th>1</th>\n",
       "      <td>Noi e Marco a piccoli passi</td>\n",
       "      <td>https://static.nationalgeographic.it/files/sty...</td>\n",
       "      <td>https://www.nationalgeographic.it/pianeta-mengoni</td>\n",
       "      <td>Questa ricostruzione raffigura il Natovenator ...</td>\n",
       "    </tr>\n",
       "    <tr>\n",
       "      <th>2</th>\n",
       "      <td>Guerra in Ucraina: che fine fanno gli animali ...</td>\n",
       "      <td>https://static.nationalgeographic.it/files/sty...</td>\n",
       "      <td>https://www.nationalgeographic.it/storia-e-civ...</td>\n",
       "      <td>In Ucraina sono continuate nella notte le espl...</td>\n",
       "    </tr>\n",
       "    <tr>\n",
       "      <th>3</th>\n",
       "      <td>COVID-19: quanto permane il virus nell’organismo?</td>\n",
       "      <td>https://static.nationalgeographic.it/files/sty...</td>\n",
       "      <td>https://www.nationalgeographic.it/scienza/2022...</td>\n",
       "      <td>La maggior parte dei pazienti COVID-19 guarisc...</td>\n",
       "    </tr>\n",
       "    <tr>\n",
       "      <th>4</th>\n",
       "      <td>Italia in bicicletta</td>\n",
       "      <td>https://static.nationalgeographic.it/files/sty...</td>\n",
       "      <td>https://www.nationalgeographic.it/italia-in-bi...</td>\n",
       "      <td>La maggior parte dei pazienti COVID-19 guarisc...</td>\n",
       "    </tr>\n",
       "  </tbody>\n",
       "</table>\n",
       "</div>"
      ],
      "text/plain": [
       "                                               title  \\\n",
       "0                     I dinosauri sapevano nuotare?    \n",
       "1                        Noi e Marco a piccoli passi   \n",
       "2  Guerra in Ucraina: che fine fanno gli animali ...   \n",
       "3  COVID-19: quanto permane il virus nell’organismo?   \n",
       "4                               Italia in bicicletta   \n",
       "\n",
       "                                               image  \\\n",
       "0  https://static.nationalgeographic.it/files/sty...   \n",
       "1  https://static.nationalgeographic.it/files/sty...   \n",
       "2  https://static.nationalgeographic.it/files/sty...   \n",
       "3  https://static.nationalgeographic.it/files/sty...   \n",
       "4  https://static.nationalgeographic.it/files/sty...   \n",
       "\n",
       "                                                link  \\\n",
       "0  https://www.nationalgeographic.it/scienza/2022...   \n",
       "1  https://www.nationalgeographic.it/pianeta-mengoni   \n",
       "2  https://www.nationalgeographic.it/storia-e-civ...   \n",
       "3  https://www.nationalgeographic.it/scienza/2022...   \n",
       "4  https://www.nationalgeographic.it/italia-in-bi...   \n",
       "\n",
       "                                                text  \n",
       "0  Questa ricostruzione raffigura il Natovenator ...  \n",
       "1  Questa ricostruzione raffigura il Natovenator ...  \n",
       "2  In Ucraina sono continuate nella notte le espl...  \n",
       "3  La maggior parte dei pazienti COVID-19 guarisc...  \n",
       "4  La maggior parte dei pazienti COVID-19 guarisc...  "
      ]
     },
     "execution_count": 16,
     "metadata": {},
     "output_type": "execute_result"
    }
   ],
   "source": [
    "df.head()"
   ]
  },
  {
   "cell_type": "code",
   "execution_count": 11,
   "metadata": {},
   "outputs": [],
   "source": [
    "df['date'] = datetime.datetime.today().strftime(\"%Y-%m-%d\")\n",
    "df.set_index('date', inplace=True)\n",
    "df.to_csv('../data/daily_news.csv', mode='a', header=False)"
   ]
  },
  {
   "cell_type": "code",
   "execution_count": 12,
   "metadata": {},
   "outputs": [],
   "source": [
    "articles2 = soup.select(\"div[class^='css-ybrhvy']\")"
   ]
  },
  {
   "cell_type": "code",
   "execution_count": 13,
   "metadata": {},
   "outputs": [
    {
     "name": "stdout",
     "output_type": "stream",
     "text": [
      "<div class=\"css-ybrhvy\"><div class=\"css-1m97gjz\"><div class=\"css-zy7tus\"><span><a href=\"/wildlife\">Wildlife</a></span></div><style data-emotion=\"css 8409k9\">.css-8409k9{font-family:GeoEditBold,sans-serif;font-weight:400;color:#fff;font-size:1.375rem;letter-spacing:0.1px;line-height:28px;margin-bottom:15px;font-size:1rem;line-height:1.5;}.css-8409k9:hover{color:#999;}.css-8409k9 a{color:inherit;-webkit-text-decoration:none;text-decoration:none;}@media (min-width: 768px){.css-8409k9{font-size:0.875rem;line-height:1.429;}}@media (min-width: 1024px){.css-8409k9{font-size:1rem;line-height:1.5;}}</style><h2 class=\"css-8409k9\"><a aria-label=\"Come si mimetizzano gli animali nella natura \" href=\"/wildlife/2019/12/foto-incredibili-di-animali-che-si-mimetizzano-nella-natura\" title=\"Come si mimetizzano gli animali nella natura \">Come si mimetizzano gli animali nella natura </a></h2></div></div>\n"
     ]
    }
   ],
   "source": [
    "print(articles2[3])"
   ]
  },
  {
   "cell_type": "code",
   "execution_count": 14,
   "metadata": {},
   "outputs": [
    {
     "name": "stdout",
     "output_type": "stream",
     "text": [
      "Questi animali straordinari superano l’inverno congelandosi: come riescono a sopravvivere?\n"
     ]
    }
   ],
   "source": [
    "title2 = articles2[7].select_one('a')['title']\n",
    "print(title2)"
   ]
  },
  {
   "cell_type": "code",
   "execution_count": 15,
   "metadata": {},
   "outputs": [],
   "source": [
    "# Crea una lista vuota che conterrà i dati estratti\n",
    "data2 = []\n",
    "\n",
    "# Itera su ogni elemento\n",
    "for i in range(len(articles2)):\n",
    "    # Estrai il titolo\n",
    "    try:\n",
    "       title2 = articles2[i].select_one('a')['title']\n",
    "    except:\n",
    "        pass\n",
    "\n",
    "    # Estrai il link\n",
    "    link2 = articles2[i].select_one('a')['href']\n",
    "\n",
    "    #estrai immagine\n",
    "    try:\n",
    "       img2 = articles2[i].select_one('img')['src']\n",
    "    except:\n",
    "        pass\n",
    "\n",
    "    # Aggiungi i dati estratti alla lista\n",
    "    data2.append({\n",
    "        'title': title2,\n",
    "        'image': img2,\n",
    "        'link': URL + link2\n",
    "    })\n",
    "\n",
    "# Crea un DataFrame Pandas a partire dalla lista di dati\n",
    "df2 = pd.DataFrame(data2)"
   ]
  },
  {
   "cell_type": "code",
   "execution_count": 16,
   "metadata": {},
   "outputs": [],
   "source": [
    "df2['date'] = datetime.datetime.today().strftime(\"%Y-%m-%d\")\n",
    "df2.set_index('date', inplace=True)"
   ]
  },
  {
   "cell_type": "code",
   "execution_count": 17,
   "metadata": {},
   "outputs": [],
   "source": [
    "df2.to_csv('../data/daily_news.csv', mode='a', header=False)"
   ]
  }
 ],
 "metadata": {
  "kernelspec": {
   "display_name": "mlp",
   "language": "python",
   "name": "python3"
  },
  "language_info": {
   "codemirror_mode": {
    "name": "ipython",
    "version": 3
   },
   "file_extension": ".py",
   "mimetype": "text/x-python",
   "name": "python",
   "nbconvert_exporter": "python",
   "pygments_lexer": "ipython3",
   "version": "3.8.15 | packaged by conda-forge | (default, Nov 22 2022, 08:52:09) \n[Clang 14.0.6 ]"
  },
  "orig_nbformat": 4,
  "vscode": {
   "interpreter": {
    "hash": "95fe2f621b02c291269f6f1de04399c71d5624912c164c733c30837729478179"
   }
  }
 },
 "nbformat": 4,
 "nbformat_minor": 2
}
