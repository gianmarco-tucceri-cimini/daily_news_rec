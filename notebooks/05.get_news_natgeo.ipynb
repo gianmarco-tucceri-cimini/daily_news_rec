{
 "cells": [
  {
   "cell_type": "code",
   "execution_count": 1,
   "metadata": {},
   "outputs": [],
   "source": [
    "import requests\n",
    "from bs4 import BeautifulSoup\n",
    "\n",
    "import pandas as pd\n",
    "\n",
    "import datetime\n"
   ]
  },
  {
   "cell_type": "code",
   "execution_count": 2,
   "metadata": {},
   "outputs": [],
   "source": [
    "headers = {\"User-Agent\": \"Mozilla/5.0 (X11; Linux x86_64) AppleWebKit/537.36 (KHTML, like Gecko) Chrome/88.0.4324.96 Safari/537.36\"} "
   ]
  },
  {
   "cell_type": "code",
   "execution_count": 3,
   "metadata": {},
   "outputs": [],
   "source": [
    "URL = 'https://www.nationalgeographic.it'"
   ]
  },
  {
   "cell_type": "code",
   "execution_count": 4,
   "metadata": {},
   "outputs": [],
   "source": [
    "page = requests.get(URL, headers=headers)"
   ]
  },
  {
   "cell_type": "code",
   "execution_count": 5,
   "metadata": {},
   "outputs": [],
   "source": [
    "# Parse the HTML content\n",
    "soup = BeautifulSoup(page.content, 'html.parser')"
   ]
  },
  {
   "cell_type": "code",
   "execution_count": 6,
   "metadata": {},
   "outputs": [],
   "source": [
    "# Seleziona l'elemento\n",
    "articles = soup.select(\"div[class^='css-2zs3eh']\")"
   ]
  },
  {
   "cell_type": "code",
   "execution_count": 7,
   "metadata": {},
   "outputs": [
    {
     "name": "stdout",
     "output_type": "stream",
     "text": [
      "\"Avatar: La Via dell'Acqua\": James Cameron racconta la scienza dietro all'universo immaginario di Pandora\n"
     ]
    }
   ],
   "source": [
    "title = articles[0].select_one('a')['title']\n",
    "print(title)"
   ]
  },
  {
   "cell_type": "code",
   "execution_count": 8,
   "metadata": {},
   "outputs": [
    {
     "name": "stdout",
     "output_type": "stream",
     "text": [
      "/scienza/2022/12/avatar-la-via-dellacqua-james-cameron-racconta-la-scienza-dietro-alluniverso-immaginario-di-pandora\n"
     ]
    }
   ],
   "source": [
    "link = articles[0].select_one('a')['href']\n",
    "print(link)"
   ]
  },
  {
   "cell_type": "code",
   "execution_count": 9,
   "metadata": {},
   "outputs": [
    {
     "name": "stdout",
     "output_type": "stream",
     "text": [
      "https://static.nationalgeographic.it/files/styles/image_3200/public/df-137855_r2.jpg?w=1600&h=900\n"
     ]
    }
   ],
   "source": [
    "img = articles[0].select_one('img')['src']\n",
    "print(img)"
   ]
  },
  {
   "cell_type": "code",
   "execution_count": 10,
   "metadata": {},
   "outputs": [],
   "source": [
    "# Crea una lista vuota che conterrà i dati estratti\n",
    "data = []\n",
    "\n",
    "# Itera su ogni elemento\n",
    "for i in range(len(articles)):\n",
    "    # Estrai il titolo\n",
    "    title = articles[i].select_one('a')['title']\n",
    "\n",
    "    # Estrai il link\n",
    "    link = articles[i].select_one('a')['href']\n",
    "\n",
    "    #estrai immagine\n",
    "    try:\n",
    "       img = articles[i].select_one('img')['src']\n",
    "    except:\n",
    "        pass\n",
    "\n",
    "    # Aggiungi i dati estratti alla lista\n",
    "    data.append({\n",
    "        'title': title,\n",
    "        'image': img,\n",
    "        'link': URL + link\n",
    "    })\n",
    "\n",
    "# Crea un DataFrame Pandas a partire dalla lista di dati\n",
    "df = pd.DataFrame(data)"
   ]
  },
  {
   "cell_type": "code",
   "execution_count": 11,
   "metadata": {},
   "outputs": [],
   "source": [
    "df['date'] = datetime.datetime.today().strftime(\"%Y-%m-%d\")\n",
    "df.set_index('date', inplace=True)\n",
    "df.to_csv('../data/daily_news.csv', mode='a', header=False)"
   ]
  },
  {
   "cell_type": "code",
   "execution_count": 12,
   "metadata": {},
   "outputs": [],
   "source": [
    "articles2 = soup.select(\"div[class^='css-ybrhvy']\")"
   ]
  },
  {
   "cell_type": "code",
   "execution_count": 13,
   "metadata": {},
   "outputs": [
    {
     "name": "stdout",
     "output_type": "stream",
     "text": [
      "<div class=\"css-ybrhvy\"><div class=\"css-1m97gjz\"><div class=\"css-zy7tus\"><span><a href=\"/wildlife\">Wildlife</a></span></div><style data-emotion=\"css 8409k9\">.css-8409k9{font-family:GeoEditBold,sans-serif;font-weight:400;color:#fff;font-size:1.375rem;letter-spacing:0.1px;line-height:28px;margin-bottom:15px;font-size:1rem;line-height:1.5;}.css-8409k9:hover{color:#999;}.css-8409k9 a{color:inherit;-webkit-text-decoration:none;text-decoration:none;}@media (min-width: 768px){.css-8409k9{font-size:0.875rem;line-height:1.429;}}@media (min-width: 1024px){.css-8409k9{font-size:1rem;line-height:1.5;}}</style><h2 class=\"css-8409k9\"><a aria-label=\"Come si mimetizzano gli animali nella natura \" href=\"/wildlife/2019/12/foto-incredibili-di-animali-che-si-mimetizzano-nella-natura\" title=\"Come si mimetizzano gli animali nella natura \">Come si mimetizzano gli animali nella natura </a></h2></div></div>\n"
     ]
    }
   ],
   "source": [
    "print(articles2[3])"
   ]
  },
  {
   "cell_type": "code",
   "execution_count": 14,
   "metadata": {},
   "outputs": [
    {
     "name": "stdout",
     "output_type": "stream",
     "text": [
      "Questi animali straordinari superano l’inverno congelandosi: come riescono a sopravvivere?\n"
     ]
    }
   ],
   "source": [
    "title2 = articles2[7].select_one('a')['title']\n",
    "print(title2)"
   ]
  },
  {
   "cell_type": "code",
   "execution_count": 15,
   "metadata": {},
   "outputs": [],
   "source": [
    "# Crea una lista vuota che conterrà i dati estratti\n",
    "data2 = []\n",
    "\n",
    "# Itera su ogni elemento\n",
    "for i in range(len(articles2)):\n",
    "    # Estrai il titolo\n",
    "    try:\n",
    "       title2 = articles2[i].select_one('a')['title']\n",
    "    except:\n",
    "        pass\n",
    "\n",
    "    # Estrai il link\n",
    "    link2 = articles2[i].select_one('a')['href']\n",
    "\n",
    "    #estrai immagine\n",
    "    try:\n",
    "       img2 = articles2[i].select_one('img')['src']\n",
    "    except:\n",
    "        pass\n",
    "\n",
    "    # Aggiungi i dati estratti alla lista\n",
    "    data2.append({\n",
    "        'title': title2,\n",
    "        'image': img2,\n",
    "        'link': URL + link2\n",
    "    })\n",
    "\n",
    "# Crea un DataFrame Pandas a partire dalla lista di dati\n",
    "df2 = pd.DataFrame(data2)"
   ]
  },
  {
   "cell_type": "code",
   "execution_count": 16,
   "metadata": {},
   "outputs": [],
   "source": [
    "df2['date'] = datetime.datetime.today().strftime(\"%Y-%m-%d\")\n",
    "df2.set_index('date', inplace=True)"
   ]
  },
  {
   "cell_type": "code",
   "execution_count": 17,
   "metadata": {},
   "outputs": [],
   "source": [
    "df2.to_csv('../data/daily_news.csv', mode='a', header=False)"
   ]
  }
 ],
 "metadata": {
  "kernelspec": {
   "display_name": "mlp",
   "language": "python",
   "name": "python3"
  },
  "language_info": {
   "codemirror_mode": {
    "name": "ipython",
    "version": 3
   },
   "file_extension": ".py",
   "mimetype": "text/x-python",
   "name": "python",
   "nbconvert_exporter": "python",
   "pygments_lexer": "ipython3",
   "version": "3.8.15"
  },
  "orig_nbformat": 4,
  "vscode": {
   "interpreter": {
    "hash": "95fe2f621b02c291269f6f1de04399c71d5624912c164c733c30837729478179"
   }
  }
 },
 "nbformat": 4,
 "nbformat_minor": 2
}
