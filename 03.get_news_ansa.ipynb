{
 "cells": [
  {
   "cell_type": "code",
   "execution_count": 1,
   "metadata": {},
   "outputs": [],
   "source": [
    "import requests\n",
    "from bs4 import BeautifulSoup"
   ]
  },
  {
   "cell_type": "code",
   "execution_count": 2,
   "metadata": {},
   "outputs": [],
   "source": [
    "headers = {\"User-Agent\": \"Mozilla/5.0 (X11; Linux x86_64) AppleWebKit/537.36 (KHTML, like Gecko) Chrome/88.0.4324.96 Safari/537.36\"} "
   ]
  },
  {
   "cell_type": "code",
   "execution_count": 3,
   "metadata": {},
   "outputs": [],
   "source": [
    "URL = 'https://www.ansa.it'"
   ]
  },
  {
   "cell_type": "code",
   "execution_count": 4,
   "metadata": {},
   "outputs": [],
   "source": [
    "page = requests.get(URL, headers=headers)"
   ]
  },
  {
   "cell_type": "code",
   "execution_count": 5,
   "metadata": {},
   "outputs": [],
   "source": [
    "# Parse the HTML content\n",
    "soup = BeautifulSoup(page.content, 'html.parser')"
   ]
  },
  {
   "cell_type": "code",
   "execution_count": 6,
   "metadata": {},
   "outputs": [],
   "source": [
    "# Seleziona l'elemento\n",
    "articles = soup.select(\"article[class^='news']\")"
   ]
  },
  {
   "cell_type": "code",
   "execution_count": 18,
   "metadata": {},
   "outputs": [
    {
     "name": "stdout",
     "output_type": "stream",
     "text": [
      "Kiev: 'Morti 400 soldati russi nel raid di Makiivka'\n"
     ]
    }
   ],
   "source": [
    "title = articles[1].select_one(\"h3[class^='news-title area-primopiano']\").text\n",
    "print(title)"
   ]
  },
  {
   "cell_type": "code",
   "execution_count": 22,
   "metadata": {},
   "outputs": [
    {
     "name": "stdout",
     "output_type": "stream",
     "text": [
      "Le prime a partire saranno Sicilia e Basilicata, il 3 gennaio la Valle d'Aosta e il 5 tutte le altre Regioni. Confcommercio: 15,4 milioni di famiglie si dedicheranno allo shopping per una spesa media di 133 euro a persona\n"
     ]
    }
   ],
   "source": [
    "description = articles[11].select_one(\"div[class^='pp-abs']\").text\n",
    "print(description)"
   ]
  },
  {
   "cell_type": "code",
   "execution_count": 23,
   "metadata": {},
   "outputs": [
    {
     "name": "stdout",
     "output_type": "stream",
     "text": [
      "/sito/notizie/politica/2023/01/01/kiev-sottattacco-a-capodanno-nuove-voci-su-putin-malato_899d45a1-8c4b-446b-aa5f-053f3d912e4b.html\n"
     ]
    }
   ],
   "source": [
    "link = articles[1].select_one('h3').select_one('a')['href']\n",
    "print(link)"
   ]
  },
  {
   "cell_type": "code",
   "execution_count": 26,
   "metadata": {},
   "outputs": [],
   "source": [
    "import pandas as pd\n",
    "\n",
    "# Crea una lista vuota che conterrà i dati estratti\n",
    "data = []\n",
    "\n",
    "# Itera su ogni elemento\n",
    "for i in range(12):\n",
    "    # Estrai il titolo\n",
    "    title = articles[i].select_one(\"h3[class^='news-title area-primopiano']\").text\n",
    "\n",
    "    # Estrai il link\n",
    "    link = articles[i].select_one('h3').select_one('a')['href']\n",
    "\n",
    "    # Aggiungi i dati estratti alla lista\n",
    "    data.append({\n",
    "        'title': title,\n",
    "        'link': 'https://www.ansa.it' + link\n",
    "    })\n",
    "\n",
    "# Crea un DataFrame Pandas a partire dalla lista di dati\n",
    "df = pd.DataFrame(data)"
   ]
  },
  {
   "cell_type": "code",
   "execution_count": 27,
   "metadata": {},
   "outputs": [
    {
     "data": {
      "text/html": [
       "<div>\n",
       "<style scoped>\n",
       "    .dataframe tbody tr th:only-of-type {\n",
       "        vertical-align: middle;\n",
       "    }\n",
       "\n",
       "    .dataframe tbody tr th {\n",
       "        vertical-align: top;\n",
       "    }\n",
       "\n",
       "    .dataframe thead th {\n",
       "        text-align: right;\n",
       "    }\n",
       "</style>\n",
       "<table border=\"1\" class=\"dataframe\">\n",
       "  <thead>\n",
       "    <tr style=\"text-align: right;\">\n",
       "      <th></th>\n",
       "      <th>title</th>\n",
       "      <th>link</th>\n",
       "    </tr>\n",
       "  </thead>\n",
       "  <tbody>\n",
       "    <tr>\n",
       "      <th>0</th>\n",
       "      <td>L'addio a Benedetto XVIOmaggio di Mattarella e...</td>\n",
       "      <td>https://www.ansa.it/sito/notizie/cronaca/2023/...</td>\n",
       "    </tr>\n",
       "    <tr>\n",
       "      <th>1</th>\n",
       "      <td>Kiev: 'Morti 400 soldati russi nel raid di Mak...</td>\n",
       "      <td>https://www.ansa.it/sito/notizie/politica/2023...</td>\n",
       "    </tr>\n",
       "    <tr>\n",
       "      <th>2</th>\n",
       "      <td>Blitz di Ultima Generazione a Palazzo Madama</td>\n",
       "      <td>https://www.ansa.it/sito/notizie/cronaca/2023/...</td>\n",
       "    </tr>\n",
       "    <tr>\n",
       "      <th>3</th>\n",
       "      <td>Due soccorsi in poche ore,ok a Msf per il port...</td>\n",
       "      <td>https://www.ansa.it/sito/notizie/cronaca/2023/...</td>\n",
       "    </tr>\n",
       "    <tr>\n",
       "      <th>4</th>\n",
       "      <td>Pugno in faccia, ventunenne grave nel Salento</td>\n",
       "      <td>https://www.ansa.it/sito/notizie/cronaca/2023/...</td>\n",
       "    </tr>\n",
       "    <tr>\n",
       "      <th>5</th>\n",
       "      <td>Sale il prezzo della benzina  Effetto doppio,+...</td>\n",
       "      <td>https://www.ansa.it/sito/notizie/economia/2023...</td>\n",
       "    </tr>\n",
       "    <tr>\n",
       "      <th>6</th>\n",
       "      <td>Muore dopo torture in Iran, aveva studiato a B...</td>\n",
       "      <td>https://www.ansa.it/sito/notizie/mondo/2023/01...</td>\n",
       "    </tr>\n",
       "    <tr>\n",
       "      <th>7</th>\n",
       "      <td>Ue convoca una riunione sugli arrivi dalla Cina</td>\n",
       "      <td>https://www.ansa.it/sito/notizie/mondo/2023/01...</td>\n",
       "    </tr>\n",
       "    <tr>\n",
       "      <th>8</th>\n",
       "      <td>Il Brasile dice addio a Pelé, oggi veglia nell...</td>\n",
       "      <td>https://www.ansa.it/sito/notizie/sport/2023/01...</td>\n",
       "    </tr>\n",
       "    <tr>\n",
       "      <th>9</th>\n",
       "      <td>Attacco israeliano a Damasco, quattro morti</td>\n",
       "      <td>https://www.ansa.it/sito/notizie/cronaca/2023/...</td>\n",
       "    </tr>\n",
       "  </tbody>\n",
       "</table>\n",
       "</div>"
      ],
      "text/plain": [
       "                                               title  \\\n",
       "0  L'addio a Benedetto XVIOmaggio di Mattarella e...   \n",
       "1  Kiev: 'Morti 400 soldati russi nel raid di Mak...   \n",
       "2       Blitz di Ultima Generazione a Palazzo Madama   \n",
       "3  Due soccorsi in poche ore,ok a Msf per il port...   \n",
       "4      Pugno in faccia, ventunenne grave nel Salento   \n",
       "5  Sale il prezzo della benzina  Effetto doppio,+...   \n",
       "6  Muore dopo torture in Iran, aveva studiato a B...   \n",
       "7    Ue convoca una riunione sugli arrivi dalla Cina   \n",
       "8  Il Brasile dice addio a Pelé, oggi veglia nell...   \n",
       "9        Attacco israeliano a Damasco, quattro morti   \n",
       "\n",
       "                                                link  \n",
       "0  https://www.ansa.it/sito/notizie/cronaca/2023/...  \n",
       "1  https://www.ansa.it/sito/notizie/politica/2023...  \n",
       "2  https://www.ansa.it/sito/notizie/cronaca/2023/...  \n",
       "3  https://www.ansa.it/sito/notizie/cronaca/2023/...  \n",
       "4  https://www.ansa.it/sito/notizie/cronaca/2023/...  \n",
       "5  https://www.ansa.it/sito/notizie/economia/2023...  \n",
       "6  https://www.ansa.it/sito/notizie/mondo/2023/01...  \n",
       "7  https://www.ansa.it/sito/notizie/mondo/2023/01...  \n",
       "8  https://www.ansa.it/sito/notizie/sport/2023/01...  \n",
       "9  https://www.ansa.it/sito/notizie/cronaca/2023/...  "
      ]
     },
     "execution_count": 27,
     "metadata": {},
     "output_type": "execute_result"
    }
   ],
   "source": [
    "df.head(10)"
   ]
  }
 ],
 "metadata": {
  "kernelspec": {
   "display_name": "mlp",
   "language": "python",
   "name": "python3"
  },
  "language_info": {
   "codemirror_mode": {
    "name": "ipython",
    "version": 3
   },
   "file_extension": ".py",
   "mimetype": "text/x-python",
   "name": "python",
   "nbconvert_exporter": "python",
   "pygments_lexer": "ipython3",
   "version": "3.8.15 | packaged by conda-forge | (default, Nov 22 2022, 08:52:09) \n[Clang 14.0.6 ]"
  },
  "orig_nbformat": 4,
  "vscode": {
   "interpreter": {
    "hash": "95fe2f621b02c291269f6f1de04399c71d5624912c164c733c30837729478179"
   }
  }
 },
 "nbformat": 4,
 "nbformat_minor": 2
}
