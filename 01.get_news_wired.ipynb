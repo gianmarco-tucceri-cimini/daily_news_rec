{
 "cells": [
  {
   "cell_type": "code",
   "execution_count": 2,
   "metadata": {},
   "outputs": [],
   "source": [
    "import requests\n",
    "from bs4 import BeautifulSoup"
   ]
  },
  {
   "cell_type": "code",
   "execution_count": 1,
   "metadata": {},
   "outputs": [],
   "source": [
    "headers = {\"User-Agent\": \"Mozilla/5.0 (X11; Linux x86_64) AppleWebKit/537.36 (KHTML, like Gecko) Chrome/88.0.4324.96 Safari/537.36\"} "
   ]
  },
  {
   "cell_type": "code",
   "execution_count": 5,
   "metadata": {},
   "outputs": [],
   "source": [
    "URL = \"https://www.wired.it\"\n",
    "page = requests.get(URL, headers=headers)"
   ]
  },
  {
   "cell_type": "code",
   "execution_count": 6,
   "metadata": {},
   "outputs": [],
   "source": [
    "# Parse the HTML content\n",
    "soup = BeautifulSoup(page.content, 'html.parser')"
   ]
  },
  {
   "cell_type": "code",
   "execution_count": 35,
   "metadata": {},
   "outputs": [],
   "source": [
    "# Seleziona l'elemento\n",
    "articles = soup.select(\"div[class^='SummaryItemWrapper-gcQMOo hHjGOU']\")"
   ]
  },
  {
   "cell_type": "code",
   "execution_count": 62,
   "metadata": {},
   "outputs": [],
   "source": [
    "author = articles[0].select_one(\"span[class^='BylineName-cKjYhk cmNGOq byline__name']\").text\n"
   ]
  },
  {
   "cell_type": "code",
   "execution_count": 63,
   "metadata": {},
   "outputs": [
    {
     "name": "stdout",
     "output_type": "stream",
     "text": [
      "di Irene Doda\n"
     ]
    }
   ],
   "source": [
    "print(author)"
   ]
  },
  {
   "cell_type": "code",
   "execution_count": 69,
   "metadata": {},
   "outputs": [],
   "source": [
    "import pandas as pd\n",
    "\n",
    "# Crea una lista vuota che conterrà i dati estratti\n",
    "data = []\n",
    "\n",
    "# Seleziona tutti gli elementi\n",
    "elements = soup.select(\"div[class^='SummaryItemWrapper']\")\n",
    "\n",
    "# Itera su ogni elemento\n",
    "for i in range(len(articles)):\n",
    "    # Estrai il titolo\n",
    "    title = articles[i].select_one(\"h3[class^='SummaryItemHedBase-dZZTtv gyXvAJ summary-item__hed']\").text\n",
    "\n",
    "    # Estrai l'autore\n",
    "    author = articles[i].select_one(\"span[class^='BylineName-cKjYhk cmNGOq byline__name']\").text\n",
    "\n",
    "    # Estrai la descrizione\n",
    "    description = articles[i].select_one(\"div[class='BaseWrap-sc-UrHlS BaseText-fFrHpW SummaryItemDek-dwcsSh boMZdO ktJKvH kkLeuI summary-item__dek']\").text\n",
    "\n",
    "    # Estrai il link\n",
    "    link = articles[i].select_one(\"a[class='SummaryItemHedLink-cgaOJy cZNgnb summary-item-tracking__hed-link summary-item__hed-link']\")['href']\n",
    "\n",
    "    # Aggiungi i dati estratti alla lista\n",
    "    data.append({\n",
    "        'title': title,\n",
    "        'author': author,\n",
    "        'description': description,\n",
    "        'link': 'https://www.wired.it' + link\n",
    "    })\n",
    "\n",
    "# Crea un DataFrame Pandas a partire dalla lista di dati\n",
    "df = pd.DataFrame(data)"
   ]
  },
  {
   "cell_type": "code",
   "execution_count": 71,
   "metadata": {},
   "outputs": [
    {
     "data": {
      "text/html": [
       "<div>\n",
       "<style scoped>\n",
       "    .dataframe tbody tr th:only-of-type {\n",
       "        vertical-align: middle;\n",
       "    }\n",
       "\n",
       "    .dataframe tbody tr th {\n",
       "        vertical-align: top;\n",
       "    }\n",
       "\n",
       "    .dataframe thead th {\n",
       "        text-align: right;\n",
       "    }\n",
       "</style>\n",
       "<table border=\"1\" class=\"dataframe\">\n",
       "  <thead>\n",
       "    <tr style=\"text-align: right;\">\n",
       "      <th></th>\n",
       "      <th>title</th>\n",
       "      <th>author</th>\n",
       "      <th>description</th>\n",
       "      <th>link</th>\n",
       "    </tr>\n",
       "  </thead>\n",
       "  <tbody>\n",
       "    <tr>\n",
       "      <th>0</th>\n",
       "      <td>Come sono stati catturati i peggiori cyber cri...</td>\n",
       "      <td>di Irene Doda</td>\n",
       "      <td>Ripercorriamo alcune delle storie più appassio...</td>\n",
       "      <td>https://www.wired.it/article/peggiori-cyber-cr...</td>\n",
       "    </tr>\n",
       "    <tr>\n",
       "      <th>1</th>\n",
       "      <td>I 10 prodotti tech più attesi del 2023</td>\n",
       "      <td>di Diego Barbera</td>\n",
       "      <td>Dagli smartphone ai visori per la realtà virtu...</td>\n",
       "      <td>https://www.wired.it/article/prodotti-tech-piu...</td>\n",
       "    </tr>\n",
       "    <tr>\n",
       "      <th>2</th>\n",
       "      <td>Jeremy Renner travolto dalla neve: è in condiz...</td>\n",
       "      <td>di Giulio Zoppello</td>\n",
       "      <td>L'attore simbolo della Marvel sarebbe rimasto ...</td>\n",
       "      <td>https://www.wired.it/article/jeremy-renner-ric...</td>\n",
       "    </tr>\n",
       "    <tr>\n",
       "      <th>3</th>\n",
       "      <td>Perché non stiamo vivendo un déjà vu di tre an...</td>\n",
       "      <td>di Gianluca Dotti</td>\n",
       "      <td>Si stanno rincorrendo in questi ultimi giorni ...</td>\n",
       "      <td>https://www.wired.it/article/covid-19-cina-par...</td>\n",
       "    </tr>\n",
       "    <tr>\n",
       "      <th>4</th>\n",
       "      <td>Harry Potter: tutto quello che sappiamo sul re...</td>\n",
       "      <td>di Giulio Zoppello</td>\n",
       "      <td>La Warner Bros. appare decisa a riportare in v...</td>\n",
       "      <td>https://www.wired.it/article/harry-potter-rebo...</td>\n",
       "    </tr>\n",
       "    <tr>\n",
       "      <th>5</th>\n",
       "      <td>Distinti signori ottocenteschi diventano Goldr...</td>\n",
       "      <td>di Mario Gerosa</td>\n",
       "      <td>Fotografie e illustrazioni offrono una nuova d...</td>\n",
       "      <td>https://www.wired.it/gallery/surrealismo-inter...</td>\n",
       "    </tr>\n",
       "  </tbody>\n",
       "</table>\n",
       "</div>"
      ],
      "text/plain": [
       "                                               title              author  \\\n",
       "0  Come sono stati catturati i peggiori cyber cri...       di Irene Doda   \n",
       "1             I 10 prodotti tech più attesi del 2023    di Diego Barbera   \n",
       "2  Jeremy Renner travolto dalla neve: è in condiz...  di Giulio Zoppello   \n",
       "3  Perché non stiamo vivendo un déjà vu di tre an...   di Gianluca Dotti   \n",
       "4  Harry Potter: tutto quello che sappiamo sul re...  di Giulio Zoppello   \n",
       "5  Distinti signori ottocenteschi diventano Goldr...     di Mario Gerosa   \n",
       "\n",
       "                                         description  \\\n",
       "0  Ripercorriamo alcune delle storie più appassio...   \n",
       "1  Dagli smartphone ai visori per la realtà virtu...   \n",
       "2  L'attore simbolo della Marvel sarebbe rimasto ...   \n",
       "3  Si stanno rincorrendo in questi ultimi giorni ...   \n",
       "4  La Warner Bros. appare decisa a riportare in v...   \n",
       "5  Fotografie e illustrazioni offrono una nuova d...   \n",
       "\n",
       "                                                link  \n",
       "0  https://www.wired.it/article/peggiori-cyber-cr...  \n",
       "1  https://www.wired.it/article/prodotti-tech-piu...  \n",
       "2  https://www.wired.it/article/jeremy-renner-ric...  \n",
       "3  https://www.wired.it/article/covid-19-cina-par...  \n",
       "4  https://www.wired.it/article/harry-potter-rebo...  \n",
       "5  https://www.wired.it/gallery/surrealismo-inter...  "
      ]
     },
     "execution_count": 71,
     "metadata": {},
     "output_type": "execute_result"
    }
   ],
   "source": [
    "df.head(10)"
   ]
  }
 ],
 "metadata": {
  "kernelspec": {
   "display_name": "mlp",
   "language": "python",
   "name": "python3"
  },
  "language_info": {
   "codemirror_mode": {
    "name": "ipython",
    "version": 3
   },
   "file_extension": ".py",
   "mimetype": "text/x-python",
   "name": "python",
   "nbconvert_exporter": "python",
   "pygments_lexer": "ipython3",
   "version": "3.8.15"
  },
  "orig_nbformat": 4,
  "vscode": {
   "interpreter": {
    "hash": "95fe2f621b02c291269f6f1de04399c71d5624912c164c733c30837729478179"
   }
  }
 },
 "nbformat": 4,
 "nbformat_minor": 2
}
